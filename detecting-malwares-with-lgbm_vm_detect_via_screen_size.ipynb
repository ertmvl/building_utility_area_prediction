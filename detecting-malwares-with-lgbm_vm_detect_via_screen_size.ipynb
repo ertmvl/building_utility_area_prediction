{
 "cells": [
  {
   "cell_type": "markdown",
   "metadata": {
    "_uuid": "67f1ef572ea1f522bcdc6a775bf629ee740d87ac"
   },
   "source": [
    "# Microsoft Malware detection\n",
    "\n",
    "In this kernel, I build a LGBM model using only a subset of the training data, in order to fit in memory.\n",
    "\n",
    "## Notebook  Content\n",
    "1. [Utility functions](#0)\n",
    "1. [Loading the data](#1) <br>\n",
    "    2.1 [Get the files and select the variables](#2.1) <br>\n",
    "    2.2 [Define the type of each variable](#2.2)\n",
    "1. [Feature engineering](#2) <br>\n",
    "    3.1 [Frequency encoding](#3.1) <br>\n",
    "    3.2 [Label encoding](#3.2)\n",
    "1. [Training the model](#3)\n",
    "1. [Feature importance](#4)\n",
    "1. [Submission](#5)"
   ]
  },
  {
   "cell_type": "code",
   "execution_count": 1,
   "metadata": {
    "_cell_guid": "b1076dfc-b9ad-4769-8c92-a6c4dae69d19",
    "_uuid": "8f2839f25d086af736a60e9eeb907d3b93b6e0e5"
   },
   "outputs": [
    {
     "data": {
      "text/html": [
       "<script type=\"text/javascript\">window.PlotlyConfig = {MathJaxConfig: 'local'};</script><script type=\"text/javascript\">if (window.MathJax) {MathJax.Hub.Config({SVG: {font: \"STIX-Web\"}});}</script><script>requirejs.config({paths: { 'plotly': ['https://cdn.plot.ly/plotly-latest.min']},});if(!window._Plotly) {require(['plotly'],function(plotly) {window._Plotly=plotly;});}</script>"
      ],
      "text/vnd.plotly.v1+html": [
       "<script type=\"text/javascript\">window.PlotlyConfig = {MathJaxConfig: 'local'};</script><script type=\"text/javascript\">if (window.MathJax) {MathJax.Hub.Config({SVG: {font: \"STIX-Web\"}});}</script><script>requirejs.config({paths: { 'plotly': ['https://cdn.plot.ly/plotly-latest.min']},});if(!window._Plotly) {require(['plotly'],function(plotly) {window._Plotly=plotly;});}</script>"
      ]
     },
     "metadata": {},
     "output_type": "display_data"
    },
    {
     "data": {
      "text/html": [
       "<style>.container { width:99% !important; }</style>"
      ],
      "text/plain": [
       "<IPython.core.display.HTML object>"
      ]
     },
     "metadata": {},
     "output_type": "display_data"
    }
   ],
   "source": [
    "import numpy as np \n",
    "import pandas as pd \n",
    "import matplotlib.pyplot as plt\n",
    "import seaborn as sns\n",
    "import lightgbm as lgb\n",
    "from sklearn.model_selection import KFold\n",
    "import gc\n",
    "import time\n",
    "import sys\n",
    "import datetime\n",
    "import matplotlib.pyplot as plt\n",
    "import seaborn as sns\n",
    "from tqdm import tqdm\n",
    "from sklearn.metrics import mean_squared_error\n",
    "import warnings\n",
    "warnings.simplefilter(action='ignore', category=FutureWarning)\n",
    "from sklearn import metrics\n",
    "#Plotly library\n",
    "from plotly.offline import init_notebook_mode, iplot\n",
    "import plotly.graph_objs as go\n",
    "from plotly import tools\n",
    "\n",
    "from plotly.offline import init_notebook_mode, iplot\n",
    "init_notebook_mode(connected=True)\n",
    "pd.set_option('display.max_columns', 500)\n",
    "\n",
    "from IPython.core.display import display, HTML, display_html\n",
    "display(HTML(\"<style>.container { width:99% !important; }</style>\")) # set full window wide cells (only in this notebook)"
   ]
  },
  {
   "cell_type": "code",
   "execution_count": 1,
   "metadata": {},
   "outputs": [
    {
     "data": {
      "text/html": [
       "<style>.container { width:99% !important; }</style>"
      ],
      "text/plain": [
       "<IPython.core.display.HTML object>"
      ]
     },
     "metadata": {},
     "output_type": "display_data"
    }
   ],
   "source": [
    "import pandas as pd\n",
    "import numpy as np\n",
    "import re\n",
    "import time\n",
    "\n",
    "import warnings\n",
    "warnings.simplefilter(action='ignore', category=FutureWarning)\n",
    "\n",
    "from IPython.core.display import display, HTML, display_html\n",
    "display(HTML(\"<style>.container { width:99% !important; }</style>\")) # set full window wide cells (only in this notebook)\n",
    "\n",
    "# Display some dataframes in one cell from left to right \n",
    "def display_side_by_side(*args):\n",
    "    html_str=''\n",
    "    for df in args:\n",
    "        html_str+=df.to_html()\n",
    "    display_html(html_str.replace('table','table style=\"display:inline\"'),raw=True)\n",
    "\n",
    "pd.set_option('display.max_columns', 500)\n",
    "pd.set_option('display.max_rows', 5000)"
   ]
  },
  {
   "cell_type": "code",
   "execution_count": 7,
   "metadata": {},
   "outputs": [
    {
     "name": "stdout",
     "output_type": "stream",
     "text": [
      "test.csv\n",
      "train.csv\n"
     ]
    }
   ],
   "source": [
    "%%bash\n",
    "ls input/"
   ]
  },
  {
   "cell_type": "code",
   "execution_count": 6,
   "metadata": {},
   "outputs": [
    {
     "name": "stdout",
     "output_type": "stream",
     "text": [
      "top - 22:52:05 up 13 min,  1 user,  load average: 0,02, 0,01, 0,00\n",
      "Tasks:   1 total,   0 running,   1 sleeping,   0 stopped,   0 zombie\n",
      "%Cpu(s):  0,1 us,  0,1 sy,  0,0 ni, 99,6 id,  0,2 wa,  0,0 hi,  0,0 si,  0,0 st\n",
      "KiB Mem : 32934580 total, 32475156 free,   251764 used,   207660 buff/cache\n",
      "KiB Swap: 33535996 total, 33535996 free,        0 used. 32309552 avail Mem \n",
      "\n",
      "  PID USER      PR  NI    VIRT    RES    SHR S  %CPU %MEM     TIME+ COMMAND\n",
      "    1 root      20   0   57124   6900   5352 S   0,0  0,0   0:00.59 systemd\n"
     ]
    }
   ],
   "source": [
    "%%bash\n",
    "top -b -n 1 -p 1"
   ]
  },
  {
   "cell_type": "code",
   "execution_count": 2,
   "metadata": {},
   "outputs": [],
   "source": [
    "import pandas as pd\n",
    "import numpy as np\n",
    "import time\n",
    "import lightgbm as lgb\n",
    "from sklearn.model_selection import train_test_split\n",
    "from sklearn.metrics import roc_auc_score, precision_score, recall_score, f1_score"
   ]
  },
  {
   "cell_type": "code",
   "execution_count": null,
   "metadata": {},
   "outputs": [],
   "source": [
    "#--------------------------------------------------------\n",
    "def load(x):\n",
    "    if x in ['MachineIdentifier']: return False\n",
    "    else: return True\n",
    "    \n",
    "#--------------------------------------------------------\n",
    "print('Start load df_train:', time.ctime()[11:-5])\n",
    "df_train = pd.read_csv('input/train.csv', dtype='category', usecols=load, encoding='utf-8')#, nrows=1000000)\n",
    "df_train['HasDetections'] = df_train['HasDetections'].astype('int8')\n",
    "\n",
    "print('Start load df_test:', time.ctime()[11:-5])\n",
    "df_test = pd.read_csv('input/test.csv', dtype='category', usecols=load, encoding='utf-8')#, usecols=load, nrows=1000000)\n",
    "\n",
    "print('Finish loading:', time.ctime()[11:-5])"
   ]
  },
  {
   "cell_type": "code",
   "execution_count": 62,
   "metadata": {},
   "outputs": [
    {
     "name": "stdout",
     "output_type": "stream",
     "text": [
      "00:29:41 ProductName 6 6\n",
      "00:29:43 EngineVersion 70 70\n",
      "00:29:45 AppVersion 110 110\n",
      "00:29:47 AvSigVersion 8531 8531\n",
      "00:29:50 IsBeta 2 2\n",
      "00:29:52 RtpStateBitfield 7 7\n",
      "00:29:54 IsSxsPassiveMode 2 2\n",
      "00:29:56 DefaultBrowsersIdentifier 2017 2017\n",
      "00:29:58 AVProductStatesIdentifier 28970 28970\n",
      "00:30:00 AVProductsInstalled 8 8\n",
      "00:30:02 AVProductsEnabled 6 6\n",
      "00:30:05 HasTpm 2 2\n",
      "00:30:07 CountryIdentifier 222 222\n",
      "00:30:09 CityIdentifier 107366 107366\n",
      "00:30:11 OrganizationIdentifier 49 49\n",
      "00:30:13 GeoNameIdentifier 292 292\n",
      "00:30:16 LocaleEnglishNameIdentifier 276 276\n",
      "00:30:18 Platform 4 4\n",
      "00:30:20 Processor 3 3\n",
      "00:30:22 OsVer 58 58\n",
      "00:30:24 OsBuild 76 76\n",
      "00:30:26 OsSuite 14 14\n",
      "00:30:28 OsPlatformSubRelease 9 9\n",
      "00:30:30 OsBuildLab 663 663\n",
      "00:30:33 SkuEdition 8 8\n",
      "00:30:35 IsProtected 2 2\n",
      "00:30:37 AutoSampleOptIn 2 2\n",
      "00:30:39 PuaMode 2 2\n",
      "00:30:41 SMode 2 2\n",
      "00:30:43 IeVerIdentifier 303 303\n",
      "00:30:45 SmartScreen 21 21\n",
      "00:30:47 Firewall 2 2\n",
      "00:30:50 UacLuaenable 11 11\n",
      "00:30:52 Census_MDC2FormFactor 13 13\n",
      "00:30:54 Census_DeviceFamily 3 3\n",
      "00:30:56 Census_OEMNameIdentifier 3832 3832\n",
      "00:30:58 Census_OEMModelIdentifier 175365 175365\n",
      "00:31:00 Census_ProcessorCoreCount 45 45\n",
      "00:31:03 Census_ProcessorManufacturerIdentifier 7 7\n",
      "00:31:05 Census_ProcessorModelIdentifier 3428 3428\n",
      "00:31:07 Census_ProcessorClass 3 3\n",
      "00:31:09 Census_PrimaryDiskTotalCapacity 5735 5735\n",
      "00:31:11 Census_PrimaryDiskTypeName 4 4\n",
      "00:31:14 Census_SystemVolumeTotalCapacity 536848 536848\n",
      "00:31:16 Census_HasOpticalDiskDrive 2 2\n",
      "00:31:18 Census_TotalPhysicalRAM 3446 3446\n",
      "00:31:20 Census_ChassisTypeName 52 52\n",
      "00:31:23 Census_InternalPrimaryDiagonalDisplaySizeInInches 785 785\n",
      "00:31:25 Census_InternalPrimaryDisplayResolutionHorizontal 2180 2180\n",
      "00:31:27 Census_InternalPrimaryDisplayResolutionVertical 1560 1560\n",
      "00:31:29 Census_PowerPlatformRoleName 10 10\n",
      "00:31:31 Census_InternalBatteryType 78 78\n",
      "00:31:33 Census_InternalBatteryNumberOfCharges 41088 41088\n",
      "00:31:35 Census_OSVersion 469 469\n",
      "00:31:38 Census_OSArchitecture 3 3\n",
      "00:31:40 Census_OSBranch 32 32\n",
      "00:31:42 Census_OSBuildNumber 165 165\n",
      "00:31:44 Census_OSBuildRevision 285 285\n",
      "00:31:46 Census_OSEdition 33 33\n",
      "00:31:48 Census_OSSkuName 30 30\n",
      "00:31:50 Census_OSInstallTypeName 9 9\n",
      "00:31:52 Census_OSInstallLanguageIdentifier 39 39\n",
      "00:31:54 Census_OSUILocaleIdentifier 147 147\n",
      "00:31:57 Census_OSWUAutoUpdateOptionsName 6 6\n",
      "00:31:59 Census_IsPortableOperatingSystem 2 2\n",
      "00:32:01 Census_GenuineStateName 5 5\n",
      "00:32:03 Census_ActivationChannel 6 6\n",
      "00:32:05 Census_IsFlightingInternal 2 2\n",
      "00:32:07 Census_IsFlightsDisabled 2 2\n",
      "00:32:09 Census_FlightRing 10 10\n",
      "00:32:12 Census_ThresholdOptIn 2 2\n",
      "00:32:14 Census_FirmwareManufacturerIdentifier 712 712\n",
      "00:32:16 Census_FirmwareVersionIdentifier 50494 50494\n",
      "00:32:18 Census_IsSecureBootEnabled 2 2\n",
      "00:32:20 Census_IsWIMBootEnabled 2 2\n",
      "00:32:22 Census_IsVirtualDevice 2 2\n",
      "00:32:24 Census_IsTouchEnabled 2 2\n",
      "00:32:27 Census_IsPenCapable 2 2\n",
      "00:32:29 Census_IsAlwaysOnAlwaysConnectedCapable 2 2\n",
      "00:32:31 Wdft_IsGamer 2 2\n",
      "00:32:33 Wdft_RegionIdentifier 15 15\n",
      "00:32:35 HasDetections 1 1\n"
     ]
    }
   ],
   "source": [
    "for col in df_train[:-1]:\n",
    "\n",
    "    df1 = pd.DataFrame(df_train[df_train['HasDetections']==1][col].value_counts()).reset_index()\n",
    "    #df1['index'] = pd.to_numeric(df1['index'])\n",
    "    df1 = df1.sort_values('index').reset_index(drop=True)\n",
    "\n",
    "    df0 = pd.DataFrame(df_train[df_train['HasDetections']==0][col].value_counts()).reset_index()\n",
    "    #df0['index'] = pd.to_numeric(df0['index'])\n",
    "    df0 = df0.sort_values('index').reset_index(drop=True)\n",
    "\n",
    "    print(time.ctime()[11:-5], col, len(df1), len(df0))\n"
   ]
  },
  {
   "cell_type": "markdown",
   "metadata": {},
   "source": [
    "for col in df_train[:-1]:\n",
    "    print(col, end=' ')"
   ]
  },
  {
   "cell_type": "code",
   "execution_count": 67,
   "metadata": {},
   "outputs": [
    {
     "name": "stdout",
     "output_type": "stream",
     "text": [
      " Start ranging: 00:40:16\n",
      "1143086759\n",
      "00:40:19 ProductName 6 6\n",
      "00:40:21 EngineVersion 70 70\n",
      "00:40:30 AppVersion 110 110\n",
      "00:40:43 AvSigVersion 8531 8531\n",
      "Pass\n",
      "00:40:45 IsBeta 2 2\n",
      "00:40:48 RtpStateBitfield 7 7\n",
      "00:40:51 IsSxsPassiveMode 2 2\n",
      "00:40:53 DefaultBrowsersIdentifier 2017 2017\n",
      "Pass\n",
      "00:40:56 AVProductStatesIdentifier 28970 28970\n",
      "Pass\n",
      "00:40:58 AVProductsInstalled 8 8\n",
      "00:41:01 AVProductsEnabled 6 6\n",
      "00:41:04 HasTpm 2 2\n",
      "00:41:07 CountryIdentifier 222 222\n",
      "00:41:31 CityIdentifier 107366 107366\n",
      "Pass\n",
      "00:41:34 OrganizationIdentifier 49 49\n",
      "00:41:42 GeoNameIdentifier 292 292\n",
      "00:42:13 LocaleEnglishNameIdentifier 276 276\n",
      "00:42:42 Platform 4 4\n",
      "00:42:45 Processor 3 3\n",
      "00:42:48 OsVer 58 58\n",
      "00:42:56 OsBuild 76 76\n",
      "00:43:06 OsSuite 14 14\n",
      "00:43:10 OsPlatformSubRelease 9 9\n",
      "00:43:14 OsBuildLab 663 663\n",
      "Pass\n",
      "00:43:16 SkuEdition 8 8\n",
      "00:43:20 IsProtected 2 2\n",
      "00:43:23 AutoSampleOptIn 2 2\n",
      "00:43:26 PuaMode 2 2\n",
      "00:43:29 SMode 2 2\n",
      "00:43:32 IeVerIdentifier 303 303\n",
      "00:44:05 SmartScreen 21 21\n",
      "00:44:10 Firewall 2 2\n",
      "00:44:13 UacLuaenable 11 11\n",
      "00:44:17 Census_MDC2FormFactor 13 13\n",
      "00:44:21 Census_DeviceFamily 3 3\n",
      "00:44:24 Census_OEMNameIdentifier 3832 3832\n",
      "Pass\n",
      "00:44:27 Census_OEMModelIdentifier 175365 175365\n",
      "Pass\n",
      "00:44:31 Census_ProcessorCoreCount 45 45\n",
      "00:44:38 Census_ProcessorManufacturerIdentifier 7 7\n",
      "00:44:42 Census_ProcessorModelIdentifier 3428 3428\n",
      "Pass\n",
      "00:44:44 Census_ProcessorClass 3 3\n",
      "00:44:48 Census_PrimaryDiskTotalCapacity 5735 5735\n",
      "Pass\n",
      "00:44:51 Census_PrimaryDiskTypeName 4 4\n",
      "00:44:55 Census_SystemVolumeTotalCapacity 536848 536848\n",
      "Pass\n",
      "00:44:59 Census_HasOpticalDiskDrive 2 2\n",
      "00:45:02 Census_TotalPhysicalRAM 3446 3446\n",
      "Pass\n",
      "00:45:05 Census_ChassisTypeName 52 52\n",
      "00:45:14 Census_InternalPrimaryDiagonalDisplaySizeInInches 785 785\n",
      "Pass\n",
      "00:45:17 Census_InternalPrimaryDisplayResolutionHorizontal 2180 2180\n",
      "Pass\n",
      "00:45:20 Census_InternalPrimaryDisplayResolutionVertical 1560 1560\n",
      "Pass\n",
      "00:45:23 Census_PowerPlatformRoleName 10 10\n",
      "00:45:27 Census_InternalBatteryType 78 78\n",
      "00:45:39 Census_InternalBatteryNumberOfCharges 41088 41088\n",
      "Pass\n",
      "00:45:42 Census_OSVersion 469 469\n",
      "Pass\n",
      "00:45:45 Census_OSArchitecture 3 3\n",
      "00:45:49 Census_OSBranch 32 32\n",
      "00:45:56 Census_OSBuildNumber 165 165\n",
      "00:46:15 Census_OSBuildRevision 285 285\n",
      "00:46:47 Census_OSEdition 33 33\n",
      "00:46:53 Census_OSSkuName 30 30\n",
      "00:47:00 Census_OSInstallTypeName 9 9\n",
      "00:47:04 Census_OSInstallLanguageIdentifier 39 39\n",
      "00:47:12 Census_OSUILocaleIdentifier 147 147\n",
      "00:47:30 Census_OSWUAutoUpdateOptionsName 6 6\n",
      "00:47:34 Census_IsPortableOperatingSystem 2 2\n",
      "00:47:38 Census_GenuineStateName 5 5\n",
      "00:47:42 Census_ActivationChannel 6 6\n",
      "00:47:46 Census_IsFlightingInternal 2 2\n",
      "00:47:50 Census_IsFlightsDisabled 2 2\n",
      "00:47:54 Census_FlightRing 10 10\n",
      "00:47:59 Census_ThresholdOptIn 2 2\n",
      "00:48:03 Census_FirmwareManufacturerIdentifier 712 712\n",
      "Pass\n",
      "00:48:06 Census_FirmwareVersionIdentifier 50494 50494\n",
      "Pass\n",
      "00:48:10 Census_IsSecureBootEnabled 2 2\n",
      "00:48:14 Census_IsWIMBootEnabled 2 2\n",
      "00:48:18 Census_IsVirtualDevice 2 2\n",
      "00:48:22 Census_IsTouchEnabled 2 2\n",
      "00:48:26 Census_IsPenCapable 2 2\n",
      "00:48:30 Census_IsAlwaysOnAlwaysConnectedCapable 2 2\n",
      "00:48:34 Wdft_IsGamer 2 2\n",
      "00:48:38 Wdft_RegionIdentifier 15 15\n",
      "00:48:44 HasDetections 1 1\n"
     ]
    },
    {
     "ename": "KeyError",
     "evalue": "'HasDetections_'",
     "output_type": "error",
     "traceback": [
      "\u001b[0;31m---------------------------------------------------------------------------\u001b[0m",
      "\u001b[0;31mKeyError\u001b[0m                                  Traceback (most recent call last)",
      "\u001b[0;32m~/anaconda3/lib/python3.7/site-packages/pandas/core/indexes/base.py\u001b[0m in \u001b[0;36mget_loc\u001b[0;34m(self, key, method, tolerance)\u001b[0m\n\u001b[1;32m   3077\u001b[0m             \u001b[0;32mtry\u001b[0m\u001b[0;34m:\u001b[0m\u001b[0;34m\u001b[0m\u001b[0;34m\u001b[0m\u001b[0m\n\u001b[0;32m-> 3078\u001b[0;31m                 \u001b[0;32mreturn\u001b[0m \u001b[0mself\u001b[0m\u001b[0;34m.\u001b[0m\u001b[0m_engine\u001b[0m\u001b[0;34m.\u001b[0m\u001b[0mget_loc\u001b[0m\u001b[0;34m(\u001b[0m\u001b[0mkey\u001b[0m\u001b[0;34m)\u001b[0m\u001b[0;34m\u001b[0m\u001b[0;34m\u001b[0m\u001b[0m\n\u001b[0m\u001b[1;32m   3079\u001b[0m             \u001b[0;32mexcept\u001b[0m \u001b[0mKeyError\u001b[0m\u001b[0;34m:\u001b[0m\u001b[0;34m\u001b[0m\u001b[0;34m\u001b[0m\u001b[0m\n",
      "\u001b[0;32mpandas/_libs/index.pyx\u001b[0m in \u001b[0;36mpandas._libs.index.IndexEngine.get_loc\u001b[0;34m()\u001b[0m\n",
      "\u001b[0;32mpandas/_libs/index.pyx\u001b[0m in \u001b[0;36mpandas._libs.index.IndexEngine.get_loc\u001b[0;34m()\u001b[0m\n",
      "\u001b[0;32mpandas/_libs/hashtable_class_helper.pxi\u001b[0m in \u001b[0;36mpandas._libs.hashtable.PyObjectHashTable.get_item\u001b[0;34m()\u001b[0m\n",
      "\u001b[0;32mpandas/_libs/hashtable_class_helper.pxi\u001b[0m in \u001b[0;36mpandas._libs.hashtable.PyObjectHashTable.get_item\u001b[0;34m()\u001b[0m\n",
      "\u001b[0;31mKeyError\u001b[0m: 'HasDetections_'",
      "\nDuring handling of the above exception, another exception occurred:\n",
      "\u001b[0;31mKeyError\u001b[0m                                  Traceback (most recent call last)",
      "\u001b[0;32m<ipython-input-67-79fa10d83c58>\u001b[0m in \u001b[0;36m<module>\u001b[0;34m\u001b[0m\n\u001b[1;32m     23\u001b[0m         \u001b[0;32mfor\u001b[0m \u001b[0midx\u001b[0m\u001b[0;34m,\u001b[0m \u001b[0mdiv\u001b[0m \u001b[0;32min\u001b[0m \u001b[0mzip\u001b[0m\u001b[0;34m(\u001b[0m\u001b[0mdf\u001b[0m\u001b[0;34m[\u001b[0m\u001b[0;34m'index'\u001b[0m\u001b[0;34m]\u001b[0m\u001b[0;34m,\u001b[0m \u001b[0mdf\u001b[0m\u001b[0;34m[\u001b[0m\u001b[0;34m'div'\u001b[0m\u001b[0;34m]\u001b[0m\u001b[0;34m)\u001b[0m\u001b[0;34m:\u001b[0m\u001b[0;34m\u001b[0m\u001b[0;34m\u001b[0m\u001b[0m\n\u001b[1;32m     24\u001b[0m             \u001b[0;31m#print(idx, end=' ')\u001b[0m\u001b[0;34m\u001b[0m\u001b[0;34m\u001b[0m\u001b[0;34m\u001b[0m\u001b[0m\n\u001b[0;32m---> 25\u001b[0;31m             \u001b[0mdf_train2\u001b[0m\u001b[0;34m[\u001b[0m\u001b[0mcol\u001b[0m\u001b[0;34m+\u001b[0m\u001b[0;34m'_'\u001b[0m\u001b[0;34m]\u001b[0m\u001b[0;34m[\u001b[0m\u001b[0mdf_train\u001b[0m\u001b[0;34m[\u001b[0m\u001b[0mcol\u001b[0m\u001b[0;34m]\u001b[0m\u001b[0;34m==\u001b[0m\u001b[0midx\u001b[0m\u001b[0;34m]\u001b[0m \u001b[0;34m=\u001b[0m \u001b[0mdiv\u001b[0m\u001b[0;34m\u001b[0m\u001b[0;34m\u001b[0m\u001b[0m\n\u001b[0m\u001b[1;32m     26\u001b[0m         \u001b[0mdf_train\u001b[0m\u001b[0;34m[\u001b[0m\u001b[0mcol\u001b[0m\u001b[0;34m+\u001b[0m\u001b[0;34m'_'\u001b[0m\u001b[0;34m]\u001b[0m \u001b[0;34m=\u001b[0m \u001b[0mpd\u001b[0m\u001b[0;34m.\u001b[0m\u001b[0mto_numeric\u001b[0m\u001b[0;34m(\u001b[0m\u001b[0mdf_train\u001b[0m\u001b[0;34m[\u001b[0m\u001b[0mcol\u001b[0m\u001b[0;34m+\u001b[0m\u001b[0;34m'_'\u001b[0m\u001b[0;34m]\u001b[0m\u001b[0;34m)\u001b[0m\u001b[0;34m.\u001b[0m\u001b[0mastype\u001b[0m\u001b[0;34m(\u001b[0m\u001b[0mnp\u001b[0m\u001b[0;34m.\u001b[0m\u001b[0mfloat16\u001b[0m\u001b[0;34m)\u001b[0m\u001b[0;34m\u001b[0m\u001b[0;34m\u001b[0m\u001b[0m\n\u001b[1;32m     27\u001b[0m     \u001b[0;32melse\u001b[0m\u001b[0;34m:\u001b[0m\u001b[0;34m\u001b[0m\u001b[0;34m\u001b[0m\u001b[0m\n",
      "\u001b[0;32m~/anaconda3/lib/python3.7/site-packages/pandas/core/frame.py\u001b[0m in \u001b[0;36m__getitem__\u001b[0;34m(self, key)\u001b[0m\n\u001b[1;32m   2686\u001b[0m             \u001b[0;32mreturn\u001b[0m \u001b[0mself\u001b[0m\u001b[0;34m.\u001b[0m\u001b[0m_getitem_multilevel\u001b[0m\u001b[0;34m(\u001b[0m\u001b[0mkey\u001b[0m\u001b[0;34m)\u001b[0m\u001b[0;34m\u001b[0m\u001b[0;34m\u001b[0m\u001b[0m\n\u001b[1;32m   2687\u001b[0m         \u001b[0;32melse\u001b[0m\u001b[0;34m:\u001b[0m\u001b[0;34m\u001b[0m\u001b[0;34m\u001b[0m\u001b[0m\n\u001b[0;32m-> 2688\u001b[0;31m             \u001b[0;32mreturn\u001b[0m \u001b[0mself\u001b[0m\u001b[0;34m.\u001b[0m\u001b[0m_getitem_column\u001b[0m\u001b[0;34m(\u001b[0m\u001b[0mkey\u001b[0m\u001b[0;34m)\u001b[0m\u001b[0;34m\u001b[0m\u001b[0;34m\u001b[0m\u001b[0m\n\u001b[0m\u001b[1;32m   2689\u001b[0m \u001b[0;34m\u001b[0m\u001b[0m\n\u001b[1;32m   2690\u001b[0m     \u001b[0;32mdef\u001b[0m \u001b[0m_getitem_column\u001b[0m\u001b[0;34m(\u001b[0m\u001b[0mself\u001b[0m\u001b[0;34m,\u001b[0m \u001b[0mkey\u001b[0m\u001b[0;34m)\u001b[0m\u001b[0;34m:\u001b[0m\u001b[0;34m\u001b[0m\u001b[0;34m\u001b[0m\u001b[0m\n",
      "\u001b[0;32m~/anaconda3/lib/python3.7/site-packages/pandas/core/frame.py\u001b[0m in \u001b[0;36m_getitem_column\u001b[0;34m(self, key)\u001b[0m\n\u001b[1;32m   2693\u001b[0m         \u001b[0;31m# get column\u001b[0m\u001b[0;34m\u001b[0m\u001b[0;34m\u001b[0m\u001b[0;34m\u001b[0m\u001b[0m\n\u001b[1;32m   2694\u001b[0m         \u001b[0;32mif\u001b[0m \u001b[0mself\u001b[0m\u001b[0;34m.\u001b[0m\u001b[0mcolumns\u001b[0m\u001b[0;34m.\u001b[0m\u001b[0mis_unique\u001b[0m\u001b[0;34m:\u001b[0m\u001b[0;34m\u001b[0m\u001b[0;34m\u001b[0m\u001b[0m\n\u001b[0;32m-> 2695\u001b[0;31m             \u001b[0;32mreturn\u001b[0m \u001b[0mself\u001b[0m\u001b[0;34m.\u001b[0m\u001b[0m_get_item_cache\u001b[0m\u001b[0;34m(\u001b[0m\u001b[0mkey\u001b[0m\u001b[0;34m)\u001b[0m\u001b[0;34m\u001b[0m\u001b[0;34m\u001b[0m\u001b[0m\n\u001b[0m\u001b[1;32m   2696\u001b[0m \u001b[0;34m\u001b[0m\u001b[0m\n\u001b[1;32m   2697\u001b[0m         \u001b[0;31m# duplicate columns & possible reduce dimensionality\u001b[0m\u001b[0;34m\u001b[0m\u001b[0;34m\u001b[0m\u001b[0;34m\u001b[0m\u001b[0m\n",
      "\u001b[0;32m~/anaconda3/lib/python3.7/site-packages/pandas/core/generic.py\u001b[0m in \u001b[0;36m_get_item_cache\u001b[0;34m(self, item)\u001b[0m\n\u001b[1;32m   2487\u001b[0m         \u001b[0mres\u001b[0m \u001b[0;34m=\u001b[0m \u001b[0mcache\u001b[0m\u001b[0;34m.\u001b[0m\u001b[0mget\u001b[0m\u001b[0;34m(\u001b[0m\u001b[0mitem\u001b[0m\u001b[0;34m)\u001b[0m\u001b[0;34m\u001b[0m\u001b[0;34m\u001b[0m\u001b[0m\n\u001b[1;32m   2488\u001b[0m         \u001b[0;32mif\u001b[0m \u001b[0mres\u001b[0m \u001b[0;32mis\u001b[0m \u001b[0;32mNone\u001b[0m\u001b[0;34m:\u001b[0m\u001b[0;34m\u001b[0m\u001b[0;34m\u001b[0m\u001b[0m\n\u001b[0;32m-> 2489\u001b[0;31m             \u001b[0mvalues\u001b[0m \u001b[0;34m=\u001b[0m \u001b[0mself\u001b[0m\u001b[0;34m.\u001b[0m\u001b[0m_data\u001b[0m\u001b[0;34m.\u001b[0m\u001b[0mget\u001b[0m\u001b[0;34m(\u001b[0m\u001b[0mitem\u001b[0m\u001b[0;34m)\u001b[0m\u001b[0;34m\u001b[0m\u001b[0;34m\u001b[0m\u001b[0m\n\u001b[0m\u001b[1;32m   2490\u001b[0m             \u001b[0mres\u001b[0m \u001b[0;34m=\u001b[0m \u001b[0mself\u001b[0m\u001b[0;34m.\u001b[0m\u001b[0m_box_item_values\u001b[0m\u001b[0;34m(\u001b[0m\u001b[0mitem\u001b[0m\u001b[0;34m,\u001b[0m \u001b[0mvalues\u001b[0m\u001b[0;34m)\u001b[0m\u001b[0;34m\u001b[0m\u001b[0;34m\u001b[0m\u001b[0m\n\u001b[1;32m   2491\u001b[0m             \u001b[0mcache\u001b[0m\u001b[0;34m[\u001b[0m\u001b[0mitem\u001b[0m\u001b[0;34m]\u001b[0m \u001b[0;34m=\u001b[0m \u001b[0mres\u001b[0m\u001b[0;34m\u001b[0m\u001b[0;34m\u001b[0m\u001b[0m\n",
      "\u001b[0;32m~/anaconda3/lib/python3.7/site-packages/pandas/core/internals.py\u001b[0m in \u001b[0;36mget\u001b[0;34m(self, item, fastpath)\u001b[0m\n\u001b[1;32m   4113\u001b[0m \u001b[0;34m\u001b[0m\u001b[0m\n\u001b[1;32m   4114\u001b[0m             \u001b[0;32mif\u001b[0m \u001b[0;32mnot\u001b[0m \u001b[0misna\u001b[0m\u001b[0;34m(\u001b[0m\u001b[0mitem\u001b[0m\u001b[0;34m)\u001b[0m\u001b[0;34m:\u001b[0m\u001b[0;34m\u001b[0m\u001b[0;34m\u001b[0m\u001b[0m\n\u001b[0;32m-> 4115\u001b[0;31m                 \u001b[0mloc\u001b[0m \u001b[0;34m=\u001b[0m \u001b[0mself\u001b[0m\u001b[0;34m.\u001b[0m\u001b[0mitems\u001b[0m\u001b[0;34m.\u001b[0m\u001b[0mget_loc\u001b[0m\u001b[0;34m(\u001b[0m\u001b[0mitem\u001b[0m\u001b[0;34m)\u001b[0m\u001b[0;34m\u001b[0m\u001b[0;34m\u001b[0m\u001b[0m\n\u001b[0m\u001b[1;32m   4116\u001b[0m             \u001b[0;32melse\u001b[0m\u001b[0;34m:\u001b[0m\u001b[0;34m\u001b[0m\u001b[0;34m\u001b[0m\u001b[0m\n\u001b[1;32m   4117\u001b[0m                 \u001b[0mindexer\u001b[0m \u001b[0;34m=\u001b[0m \u001b[0mnp\u001b[0m\u001b[0;34m.\u001b[0m\u001b[0marange\u001b[0m\u001b[0;34m(\u001b[0m\u001b[0mlen\u001b[0m\u001b[0;34m(\u001b[0m\u001b[0mself\u001b[0m\u001b[0;34m.\u001b[0m\u001b[0mitems\u001b[0m\u001b[0;34m)\u001b[0m\u001b[0;34m)\u001b[0m\u001b[0;34m[\u001b[0m\u001b[0misna\u001b[0m\u001b[0;34m(\u001b[0m\u001b[0mself\u001b[0m\u001b[0;34m.\u001b[0m\u001b[0mitems\u001b[0m\u001b[0;34m)\u001b[0m\u001b[0;34m]\u001b[0m\u001b[0;34m\u001b[0m\u001b[0;34m\u001b[0m\u001b[0m\n",
      "\u001b[0;32m~/anaconda3/lib/python3.7/site-packages/pandas/core/indexes/base.py\u001b[0m in \u001b[0;36mget_loc\u001b[0;34m(self, key, method, tolerance)\u001b[0m\n\u001b[1;32m   3078\u001b[0m                 \u001b[0;32mreturn\u001b[0m \u001b[0mself\u001b[0m\u001b[0;34m.\u001b[0m\u001b[0m_engine\u001b[0m\u001b[0;34m.\u001b[0m\u001b[0mget_loc\u001b[0m\u001b[0;34m(\u001b[0m\u001b[0mkey\u001b[0m\u001b[0;34m)\u001b[0m\u001b[0;34m\u001b[0m\u001b[0;34m\u001b[0m\u001b[0m\n\u001b[1;32m   3079\u001b[0m             \u001b[0;32mexcept\u001b[0m \u001b[0mKeyError\u001b[0m\u001b[0;34m:\u001b[0m\u001b[0;34m\u001b[0m\u001b[0;34m\u001b[0m\u001b[0m\n\u001b[0;32m-> 3080\u001b[0;31m                 \u001b[0;32mreturn\u001b[0m \u001b[0mself\u001b[0m\u001b[0;34m.\u001b[0m\u001b[0m_engine\u001b[0m\u001b[0;34m.\u001b[0m\u001b[0mget_loc\u001b[0m\u001b[0;34m(\u001b[0m\u001b[0mself\u001b[0m\u001b[0;34m.\u001b[0m\u001b[0m_maybe_cast_indexer\u001b[0m\u001b[0;34m(\u001b[0m\u001b[0mkey\u001b[0m\u001b[0;34m)\u001b[0m\u001b[0;34m)\u001b[0m\u001b[0;34m\u001b[0m\u001b[0;34m\u001b[0m\u001b[0m\n\u001b[0m\u001b[1;32m   3081\u001b[0m \u001b[0;34m\u001b[0m\u001b[0m\n\u001b[1;32m   3082\u001b[0m         \u001b[0mindexer\u001b[0m \u001b[0;34m=\u001b[0m \u001b[0mself\u001b[0m\u001b[0;34m.\u001b[0m\u001b[0mget_indexer\u001b[0m\u001b[0;34m(\u001b[0m\u001b[0;34m[\u001b[0m\u001b[0mkey\u001b[0m\u001b[0;34m]\u001b[0m\u001b[0;34m,\u001b[0m \u001b[0mmethod\u001b[0m\u001b[0;34m=\u001b[0m\u001b[0mmethod\u001b[0m\u001b[0;34m,\u001b[0m \u001b[0mtolerance\u001b[0m\u001b[0;34m=\u001b[0m\u001b[0mtolerance\u001b[0m\u001b[0;34m)\u001b[0m\u001b[0;34m\u001b[0m\u001b[0;34m\u001b[0m\u001b[0m\n",
      "\u001b[0;32mpandas/_libs/index.pyx\u001b[0m in \u001b[0;36mpandas._libs.index.IndexEngine.get_loc\u001b[0;34m()\u001b[0m\n",
      "\u001b[0;32mpandas/_libs/index.pyx\u001b[0m in \u001b[0;36mpandas._libs.index.IndexEngine.get_loc\u001b[0;34m()\u001b[0m\n",
      "\u001b[0;32mpandas/_libs/hashtable_class_helper.pxi\u001b[0m in \u001b[0;36mpandas._libs.hashtable.PyObjectHashTable.get_item\u001b[0;34m()\u001b[0m\n",
      "\u001b[0;32mpandas/_libs/hashtable_class_helper.pxi\u001b[0m in \u001b[0;36mpandas._libs.hashtable.PyObjectHashTable.get_item\u001b[0;34m()\u001b[0m\n",
      "\u001b[0;31mKeyError\u001b[0m: 'HasDetections_'"
     ]
    }
   ],
   "source": [
    "#--------------------------------------------------------\n",
    "print(' Start ranging:', time.ctime()[11:-5])\n",
    "#Country weight\n",
    "\n",
    "print(df_train.memory_usage(deep=True).sum())\n",
    "\n",
    "for col in df_train[:-1]:\n",
    "\n",
    "    df1 = pd.DataFrame(df_train[df_train['HasDetections']==1][col].value_counts()).reset_index()\n",
    "    #df1['index'] = pd.to_numeric(df1['index'])\n",
    "    df1 = df1.sort_values('index').reset_index(drop=True)\n",
    "\n",
    "    df0 = pd.DataFrame(df_train[df_train['HasDetections']==0][col].value_counts()).reset_index()\n",
    "    #df0['index'] = pd.to_numeric(df0['index'])\n",
    "    df0 = df0.sort_values('index').reset_index(drop=True)\n",
    "\n",
    "    print(time.ctime()[11:-5], col, len(df1), len(df0))\n",
    "    df = df1.merge(df0, how='left', on='index')\n",
    "    df['div'] =  df[col+'_x'] / (df[col+'_x'] + df[col+'_y'])\n",
    "\n",
    "    if len(df1)<400:\n",
    "        df_train[col+'_'] = 0.5\n",
    "        for idx, div in zip(df['index'], df['div']):\n",
    "            #print(idx, end=' ')\n",
    "            df_train2[col+'_'][df_train[col]==idx] = div\n",
    "        df_train[col+'_'] = pd.to_numeric(df_train[col+'_']).astype(np.float16)\n",
    "    else:\n",
    "        print('Pass')\n",
    "        df_train[col+'_'] = df_train[col]\n",
    "    \n",
    "print('Finish ranging:', time.ctime()[11:-5])\n",
    "print(df_train.memory_usage(deep=True).sum())\n",
    "#df.sort_values('div', ascending=False)\n",
    "df_train['HasDetections'] = pd.read_csv('input/train.csv', dtype='object', usecols=[-1])"
   ]
  },
  {
   "cell_type": "code",
   "execution_count": 54,
   "metadata": {},
   "outputs": [
    {
     "data": {
      "text/html": [
       "<div>\n",
       "<style scoped>\n",
       "    .dataframe tbody tr th:only-of-type {\n",
       "        vertical-align: middle;\n",
       "    }\n",
       "\n",
       "    .dataframe tbody tr th {\n",
       "        vertical-align: top;\n",
       "    }\n",
       "\n",
       "    .dataframe thead th {\n",
       "        text-align: right;\n",
       "    }\n",
       "</style>\n",
       "<table border=\"1\" class=\"dataframe\">\n",
       "  <thead>\n",
       "    <tr style=\"text-align: right;\">\n",
       "      <th></th>\n",
       "      <th>ProductName</th>\n",
       "      <th>EngineVersion</th>\n",
       "      <th>AppVersion</th>\n",
       "      <th>AvSigVersion</th>\n",
       "      <th>IsBeta</th>\n",
       "      <th>RtpStateBitfield</th>\n",
       "      <th>IsSxsPassiveMode</th>\n",
       "      <th>DefaultBrowsersIdentifier</th>\n",
       "      <th>AVProductStatesIdentifier</th>\n",
       "      <th>AVProductsInstalled</th>\n",
       "      <th>AVProductsEnabled</th>\n",
       "      <th>HasTpm</th>\n",
       "      <th>CountryIdentifier</th>\n",
       "      <th>CityIdentifier</th>\n",
       "      <th>OrganizationIdentifier</th>\n",
       "      <th>GeoNameIdentifier</th>\n",
       "      <th>LocaleEnglishNameIdentifier</th>\n",
       "      <th>Platform</th>\n",
       "      <th>Processor</th>\n",
       "      <th>OsVer</th>\n",
       "      <th>OsBuild</th>\n",
       "      <th>OsSuite</th>\n",
       "      <th>OsPlatformSubRelease</th>\n",
       "      <th>OsBuildLab</th>\n",
       "      <th>SkuEdition</th>\n",
       "      <th>IsProtected</th>\n",
       "      <th>AutoSampleOptIn</th>\n",
       "      <th>PuaMode</th>\n",
       "      <th>SMode</th>\n",
       "      <th>IeVerIdentifier</th>\n",
       "      <th>SmartScreen</th>\n",
       "      <th>Firewall</th>\n",
       "      <th>UacLuaenable</th>\n",
       "      <th>Census_MDC2FormFactor</th>\n",
       "      <th>Census_DeviceFamily</th>\n",
       "      <th>Census_OEMNameIdentifier</th>\n",
       "      <th>Census_OEMModelIdentifier</th>\n",
       "      <th>Census_ProcessorCoreCount</th>\n",
       "      <th>Census_ProcessorManufacturerIdentifier</th>\n",
       "      <th>Census_ProcessorModelIdentifier</th>\n",
       "      <th>Census_ProcessorClass</th>\n",
       "      <th>Census_PrimaryDiskTotalCapacity</th>\n",
       "      <th>Census_PrimaryDiskTypeName</th>\n",
       "      <th>Census_SystemVolumeTotalCapacity</th>\n",
       "      <th>Census_HasOpticalDiskDrive</th>\n",
       "      <th>Census_TotalPhysicalRAM</th>\n",
       "      <th>Census_ChassisTypeName</th>\n",
       "      <th>Census_InternalPrimaryDiagonalDisplaySizeInInches</th>\n",
       "      <th>Census_InternalPrimaryDisplayResolutionHorizontal</th>\n",
       "      <th>Census_InternalPrimaryDisplayResolutionVertical</th>\n",
       "      <th>Census_PowerPlatformRoleName</th>\n",
       "      <th>Census_InternalBatteryType</th>\n",
       "      <th>Census_InternalBatteryNumberOfCharges</th>\n",
       "      <th>Census_OSVersion</th>\n",
       "      <th>Census_OSArchitecture</th>\n",
       "      <th>Census_OSBranch</th>\n",
       "      <th>Census_OSBuildNumber</th>\n",
       "      <th>Census_OSBuildRevision</th>\n",
       "      <th>Census_OSEdition</th>\n",
       "      <th>Census_OSSkuName</th>\n",
       "      <th>Census_OSInstallTypeName</th>\n",
       "      <th>Census_OSInstallLanguageIdentifier</th>\n",
       "      <th>Census_OSUILocaleIdentifier</th>\n",
       "      <th>Census_OSWUAutoUpdateOptionsName</th>\n",
       "      <th>Census_IsPortableOperatingSystem</th>\n",
       "      <th>Census_GenuineStateName</th>\n",
       "      <th>Census_ActivationChannel</th>\n",
       "      <th>Census_IsFlightingInternal</th>\n",
       "      <th>Census_IsFlightsDisabled</th>\n",
       "      <th>Census_FlightRing</th>\n",
       "      <th>Census_ThresholdOptIn</th>\n",
       "      <th>Census_FirmwareManufacturerIdentifier</th>\n",
       "      <th>Census_FirmwareVersionIdentifier</th>\n",
       "      <th>Census_IsSecureBootEnabled</th>\n",
       "      <th>Census_IsWIMBootEnabled</th>\n",
       "      <th>Census_IsVirtualDevice</th>\n",
       "      <th>Census_IsTouchEnabled</th>\n",
       "      <th>Census_IsPenCapable</th>\n",
       "      <th>Census_IsAlwaysOnAlwaysConnectedCapable</th>\n",
       "      <th>Wdft_IsGamer</th>\n",
       "      <th>Wdft_RegionIdentifier</th>\n",
       "      <th>HasDetections</th>\n",
       "    </tr>\n",
       "  </thead>\n",
       "  <tbody>\n",
       "    <tr>\n",
       "      <th>0</th>\n",
       "      <td>win8defender</td>\n",
       "      <td>1.1.15100.1</td>\n",
       "      <td>4.18.1807.18075</td>\n",
       "      <td>1.273.1735.0</td>\n",
       "      <td>0</td>\n",
       "      <td>7</td>\n",
       "      <td>0</td>\n",
       "      <td>NaN</td>\n",
       "      <td>53447</td>\n",
       "      <td>1</td>\n",
       "      <td>1</td>\n",
       "      <td>1</td>\n",
       "      <td>29</td>\n",
       "      <td>128035</td>\n",
       "      <td>18</td>\n",
       "      <td>35</td>\n",
       "      <td>171</td>\n",
       "      <td>windows10</td>\n",
       "      <td>x64</td>\n",
       "      <td>10.0.0.0</td>\n",
       "      <td>17134</td>\n",
       "      <td>256</td>\n",
       "      <td>rs4</td>\n",
       "      <td>17134.1.amd64fre.rs4_release.180410-1804</td>\n",
       "      <td>Pro</td>\n",
       "      <td>1</td>\n",
       "      <td>0</td>\n",
       "      <td>NaN</td>\n",
       "      <td>0</td>\n",
       "      <td>137</td>\n",
       "      <td>NaN</td>\n",
       "      <td>1</td>\n",
       "      <td>1</td>\n",
       "      <td>Desktop</td>\n",
       "      <td>Windows.Desktop</td>\n",
       "      <td>2668</td>\n",
       "      <td>9124</td>\n",
       "      <td>4</td>\n",
       "      <td>5</td>\n",
       "      <td>2341</td>\n",
       "      <td>NaN</td>\n",
       "      <td>476940</td>\n",
       "      <td>HDD</td>\n",
       "      <td>299451</td>\n",
       "      <td>0</td>\n",
       "      <td>4096</td>\n",
       "      <td>Desktop</td>\n",
       "      <td>18.9</td>\n",
       "      <td>1440</td>\n",
       "      <td>900</td>\n",
       "      <td>Desktop</td>\n",
       "      <td>NaN</td>\n",
       "      <td>4294967295</td>\n",
       "      <td>10.0.17134.165</td>\n",
       "      <td>amd64</td>\n",
       "      <td>rs4_release</td>\n",
       "      <td>17134</td>\n",
       "      <td>165</td>\n",
       "      <td>Professional</td>\n",
       "      <td>PROFESSIONAL</td>\n",
       "      <td>UUPUpgrade</td>\n",
       "      <td>26</td>\n",
       "      <td>119</td>\n",
       "      <td>UNKNOWN</td>\n",
       "      <td>0</td>\n",
       "      <td>IS_GENUINE</td>\n",
       "      <td>Retail</td>\n",
       "      <td>NaN</td>\n",
       "      <td>0</td>\n",
       "      <td>Retail</td>\n",
       "      <td>NaN</td>\n",
       "      <td>628</td>\n",
       "      <td>36144</td>\n",
       "      <td>0</td>\n",
       "      <td>NaN</td>\n",
       "      <td>0</td>\n",
       "      <td>0</td>\n",
       "      <td>0</td>\n",
       "      <td>0</td>\n",
       "      <td>0</td>\n",
       "      <td>10</td>\n",
       "      <td>0</td>\n",
       "    </tr>\n",
       "    <tr>\n",
       "      <th>1</th>\n",
       "      <td>win8defender</td>\n",
       "      <td>1.1.14600.4</td>\n",
       "      <td>4.13.17134.1</td>\n",
       "      <td>1.263.48.0</td>\n",
       "      <td>0</td>\n",
       "      <td>7</td>\n",
       "      <td>0</td>\n",
       "      <td>NaN</td>\n",
       "      <td>53447</td>\n",
       "      <td>1</td>\n",
       "      <td>1</td>\n",
       "      <td>1</td>\n",
       "      <td>93</td>\n",
       "      <td>1482</td>\n",
       "      <td>18</td>\n",
       "      <td>119</td>\n",
       "      <td>64</td>\n",
       "      <td>windows10</td>\n",
       "      <td>x64</td>\n",
       "      <td>10.0.0.0</td>\n",
       "      <td>17134</td>\n",
       "      <td>256</td>\n",
       "      <td>rs4</td>\n",
       "      <td>17134.1.amd64fre.rs4_release.180410-1804</td>\n",
       "      <td>Pro</td>\n",
       "      <td>1</td>\n",
       "      <td>0</td>\n",
       "      <td>NaN</td>\n",
       "      <td>0</td>\n",
       "      <td>137</td>\n",
       "      <td>NaN</td>\n",
       "      <td>1</td>\n",
       "      <td>1</td>\n",
       "      <td>Notebook</td>\n",
       "      <td>Windows.Desktop</td>\n",
       "      <td>2668</td>\n",
       "      <td>91656</td>\n",
       "      <td>4</td>\n",
       "      <td>5</td>\n",
       "      <td>2405</td>\n",
       "      <td>NaN</td>\n",
       "      <td>476940</td>\n",
       "      <td>HDD</td>\n",
       "      <td>102385</td>\n",
       "      <td>0</td>\n",
       "      <td>4096</td>\n",
       "      <td>Notebook</td>\n",
       "      <td>13.9</td>\n",
       "      <td>1366</td>\n",
       "      <td>768</td>\n",
       "      <td>Mobile</td>\n",
       "      <td>NaN</td>\n",
       "      <td>1</td>\n",
       "      <td>10.0.17134.1</td>\n",
       "      <td>amd64</td>\n",
       "      <td>rs4_release</td>\n",
       "      <td>17134</td>\n",
       "      <td>1</td>\n",
       "      <td>Professional</td>\n",
       "      <td>PROFESSIONAL</td>\n",
       "      <td>IBSClean</td>\n",
       "      <td>8</td>\n",
       "      <td>31</td>\n",
       "      <td>UNKNOWN</td>\n",
       "      <td>0</td>\n",
       "      <td>OFFLINE</td>\n",
       "      <td>Retail</td>\n",
       "      <td>NaN</td>\n",
       "      <td>0</td>\n",
       "      <td>NOT_SET</td>\n",
       "      <td>NaN</td>\n",
       "      <td>628</td>\n",
       "      <td>57858</td>\n",
       "      <td>0</td>\n",
       "      <td>NaN</td>\n",
       "      <td>0</td>\n",
       "      <td>0</td>\n",
       "      <td>0</td>\n",
       "      <td>0</td>\n",
       "      <td>0</td>\n",
       "      <td>8</td>\n",
       "      <td>0</td>\n",
       "    </tr>\n",
       "    <tr>\n",
       "      <th>2</th>\n",
       "      <td>win8defender</td>\n",
       "      <td>1.1.15100.1</td>\n",
       "      <td>4.18.1807.18075</td>\n",
       "      <td>1.273.1341.0</td>\n",
       "      <td>0</td>\n",
       "      <td>7</td>\n",
       "      <td>0</td>\n",
       "      <td>NaN</td>\n",
       "      <td>53447</td>\n",
       "      <td>1</td>\n",
       "      <td>1</td>\n",
       "      <td>1</td>\n",
       "      <td>86</td>\n",
       "      <td>153579</td>\n",
       "      <td>18</td>\n",
       "      <td>64</td>\n",
       "      <td>49</td>\n",
       "      <td>windows10</td>\n",
       "      <td>x64</td>\n",
       "      <td>10.0.0.0</td>\n",
       "      <td>17134</td>\n",
       "      <td>768</td>\n",
       "      <td>rs4</td>\n",
       "      <td>17134.1.amd64fre.rs4_release.180410-1804</td>\n",
       "      <td>Home</td>\n",
       "      <td>1</td>\n",
       "      <td>0</td>\n",
       "      <td>NaN</td>\n",
       "      <td>0</td>\n",
       "      <td>137</td>\n",
       "      <td>RequireAdmin</td>\n",
       "      <td>1</td>\n",
       "      <td>1</td>\n",
       "      <td>Desktop</td>\n",
       "      <td>Windows.Desktop</td>\n",
       "      <td>4909</td>\n",
       "      <td>317701</td>\n",
       "      <td>4</td>\n",
       "      <td>5</td>\n",
       "      <td>1972</td>\n",
       "      <td>NaN</td>\n",
       "      <td>114473</td>\n",
       "      <td>SSD</td>\n",
       "      <td>113907</td>\n",
       "      <td>0</td>\n",
       "      <td>4096</td>\n",
       "      <td>Desktop</td>\n",
       "      <td>21.5</td>\n",
       "      <td>1920</td>\n",
       "      <td>1080</td>\n",
       "      <td>Desktop</td>\n",
       "      <td>NaN</td>\n",
       "      <td>4294967295</td>\n",
       "      <td>10.0.17134.165</td>\n",
       "      <td>amd64</td>\n",
       "      <td>rs4_release</td>\n",
       "      <td>17134</td>\n",
       "      <td>165</td>\n",
       "      <td>Core</td>\n",
       "      <td>CORE</td>\n",
       "      <td>UUPUpgrade</td>\n",
       "      <td>7</td>\n",
       "      <td>30</td>\n",
       "      <td>FullAuto</td>\n",
       "      <td>0</td>\n",
       "      <td>IS_GENUINE</td>\n",
       "      <td>OEM:NONSLP</td>\n",
       "      <td>NaN</td>\n",
       "      <td>0</td>\n",
       "      <td>Retail</td>\n",
       "      <td>NaN</td>\n",
       "      <td>142</td>\n",
       "      <td>52682</td>\n",
       "      <td>0</td>\n",
       "      <td>NaN</td>\n",
       "      <td>0</td>\n",
       "      <td>0</td>\n",
       "      <td>0</td>\n",
       "      <td>0</td>\n",
       "      <td>0</td>\n",
       "      <td>3</td>\n",
       "      <td>0</td>\n",
       "    </tr>\n",
       "    <tr>\n",
       "      <th>3</th>\n",
       "      <td>win8defender</td>\n",
       "      <td>1.1.15100.1</td>\n",
       "      <td>4.18.1807.18075</td>\n",
       "      <td>1.273.1527.0</td>\n",
       "      <td>0</td>\n",
       "      <td>7</td>\n",
       "      <td>0</td>\n",
       "      <td>NaN</td>\n",
       "      <td>53447</td>\n",
       "      <td>1</td>\n",
       "      <td>1</td>\n",
       "      <td>1</td>\n",
       "      <td>88</td>\n",
       "      <td>20710</td>\n",
       "      <td>NaN</td>\n",
       "      <td>117</td>\n",
       "      <td>115</td>\n",
       "      <td>windows10</td>\n",
       "      <td>x64</td>\n",
       "      <td>10.0.0.0</td>\n",
       "      <td>17134</td>\n",
       "      <td>256</td>\n",
       "      <td>rs4</td>\n",
       "      <td>17134.1.amd64fre.rs4_release.180410-1804</td>\n",
       "      <td>Pro</td>\n",
       "      <td>1</td>\n",
       "      <td>0</td>\n",
       "      <td>NaN</td>\n",
       "      <td>0</td>\n",
       "      <td>137</td>\n",
       "      <td>ExistsNotSet</td>\n",
       "      <td>1</td>\n",
       "      <td>1</td>\n",
       "      <td>Desktop</td>\n",
       "      <td>Windows.Desktop</td>\n",
       "      <td>1443</td>\n",
       "      <td>275890</td>\n",
       "      <td>4</td>\n",
       "      <td>5</td>\n",
       "      <td>2273</td>\n",
       "      <td>NaN</td>\n",
       "      <td>238475</td>\n",
       "      <td>UNKNOWN</td>\n",
       "      <td>227116</td>\n",
       "      <td>0</td>\n",
       "      <td>4096</td>\n",
       "      <td>MiniTower</td>\n",
       "      <td>18.5</td>\n",
       "      <td>1366</td>\n",
       "      <td>768</td>\n",
       "      <td>Desktop</td>\n",
       "      <td>NaN</td>\n",
       "      <td>4294967295</td>\n",
       "      <td>10.0.17134.228</td>\n",
       "      <td>amd64</td>\n",
       "      <td>rs4_release</td>\n",
       "      <td>17134</td>\n",
       "      <td>228</td>\n",
       "      <td>Professional</td>\n",
       "      <td>PROFESSIONAL</td>\n",
       "      <td>UUPUpgrade</td>\n",
       "      <td>17</td>\n",
       "      <td>64</td>\n",
       "      <td>FullAuto</td>\n",
       "      <td>0</td>\n",
       "      <td>IS_GENUINE</td>\n",
       "      <td>OEM:NONSLP</td>\n",
       "      <td>NaN</td>\n",
       "      <td>0</td>\n",
       "      <td>Retail</td>\n",
       "      <td>NaN</td>\n",
       "      <td>355</td>\n",
       "      <td>20050</td>\n",
       "      <td>0</td>\n",
       "      <td>NaN</td>\n",
       "      <td>0</td>\n",
       "      <td>0</td>\n",
       "      <td>0</td>\n",
       "      <td>0</td>\n",
       "      <td>0</td>\n",
       "      <td>3</td>\n",
       "      <td>1</td>\n",
       "    </tr>\n",
       "    <tr>\n",
       "      <th>4</th>\n",
       "      <td>win8defender</td>\n",
       "      <td>1.1.15100.1</td>\n",
       "      <td>4.18.1807.18075</td>\n",
       "      <td>1.273.1379.0</td>\n",
       "      <td>0</td>\n",
       "      <td>7</td>\n",
       "      <td>0</td>\n",
       "      <td>NaN</td>\n",
       "      <td>53447</td>\n",
       "      <td>1</td>\n",
       "      <td>1</td>\n",
       "      <td>1</td>\n",
       "      <td>18</td>\n",
       "      <td>37376</td>\n",
       "      <td>NaN</td>\n",
       "      <td>277</td>\n",
       "      <td>75</td>\n",
       "      <td>windows10</td>\n",
       "      <td>x64</td>\n",
       "      <td>10.0.0.0</td>\n",
       "      <td>17134</td>\n",
       "      <td>768</td>\n",
       "      <td>rs4</td>\n",
       "      <td>17134.1.amd64fre.rs4_release.180410-1804</td>\n",
       "      <td>Home</td>\n",
       "      <td>1</td>\n",
       "      <td>0</td>\n",
       "      <td>NaN</td>\n",
       "      <td>0</td>\n",
       "      <td>137</td>\n",
       "      <td>RequireAdmin</td>\n",
       "      <td>1</td>\n",
       "      <td>1</td>\n",
       "      <td>Notebook</td>\n",
       "      <td>Windows.Desktop</td>\n",
       "      <td>1443</td>\n",
       "      <td>331929</td>\n",
       "      <td>4</td>\n",
       "      <td>5</td>\n",
       "      <td>2500</td>\n",
       "      <td>NaN</td>\n",
       "      <td>476940</td>\n",
       "      <td>HDD</td>\n",
       "      <td>101900</td>\n",
       "      <td>0</td>\n",
       "      <td>6144</td>\n",
       "      <td>Portable</td>\n",
       "      <td>14</td>\n",
       "      <td>1366</td>\n",
       "      <td>768</td>\n",
       "      <td>Mobile</td>\n",
       "      <td>lion</td>\n",
       "      <td>0</td>\n",
       "      <td>10.0.17134.191</td>\n",
       "      <td>amd64</td>\n",
       "      <td>rs4_release</td>\n",
       "      <td>17134</td>\n",
       "      <td>191</td>\n",
       "      <td>Core</td>\n",
       "      <td>CORE</td>\n",
       "      <td>Update</td>\n",
       "      <td>8</td>\n",
       "      <td>31</td>\n",
       "      <td>FullAuto</td>\n",
       "      <td>0</td>\n",
       "      <td>IS_GENUINE</td>\n",
       "      <td>Retail</td>\n",
       "      <td>0</td>\n",
       "      <td>0</td>\n",
       "      <td>Retail</td>\n",
       "      <td>0</td>\n",
       "      <td>355</td>\n",
       "      <td>19844</td>\n",
       "      <td>0</td>\n",
       "      <td>0</td>\n",
       "      <td>0</td>\n",
       "      <td>0</td>\n",
       "      <td>0</td>\n",
       "      <td>0</td>\n",
       "      <td>0</td>\n",
       "      <td>1</td>\n",
       "      <td>1</td>\n",
       "    </tr>\n",
       "  </tbody>\n",
       "</table>\n",
       "</div>"
      ],
      "text/plain": [
       "    ProductName EngineVersion       AppVersion  AvSigVersion IsBeta  \\\n",
       "0  win8defender   1.1.15100.1  4.18.1807.18075  1.273.1735.0      0   \n",
       "1  win8defender   1.1.14600.4     4.13.17134.1    1.263.48.0      0   \n",
       "2  win8defender   1.1.15100.1  4.18.1807.18075  1.273.1341.0      0   \n",
       "3  win8defender   1.1.15100.1  4.18.1807.18075  1.273.1527.0      0   \n",
       "4  win8defender   1.1.15100.1  4.18.1807.18075  1.273.1379.0      0   \n",
       "\n",
       "  RtpStateBitfield IsSxsPassiveMode DefaultBrowsersIdentifier  \\\n",
       "0                7                0                       NaN   \n",
       "1                7                0                       NaN   \n",
       "2                7                0                       NaN   \n",
       "3                7                0                       NaN   \n",
       "4                7                0                       NaN   \n",
       "\n",
       "  AVProductStatesIdentifier AVProductsInstalled AVProductsEnabled HasTpm  \\\n",
       "0                     53447                   1                 1      1   \n",
       "1                     53447                   1                 1      1   \n",
       "2                     53447                   1                 1      1   \n",
       "3                     53447                   1                 1      1   \n",
       "4                     53447                   1                 1      1   \n",
       "\n",
       "  CountryIdentifier CityIdentifier OrganizationIdentifier GeoNameIdentifier  \\\n",
       "0                29         128035                     18                35   \n",
       "1                93           1482                     18               119   \n",
       "2                86         153579                     18                64   \n",
       "3                88          20710                    NaN               117   \n",
       "4                18          37376                    NaN               277   \n",
       "\n",
       "  LocaleEnglishNameIdentifier   Platform Processor     OsVer OsBuild OsSuite  \\\n",
       "0                         171  windows10       x64  10.0.0.0   17134     256   \n",
       "1                          64  windows10       x64  10.0.0.0   17134     256   \n",
       "2                          49  windows10       x64  10.0.0.0   17134     768   \n",
       "3                         115  windows10       x64  10.0.0.0   17134     256   \n",
       "4                          75  windows10       x64  10.0.0.0   17134     768   \n",
       "\n",
       "  OsPlatformSubRelease                                OsBuildLab SkuEdition  \\\n",
       "0                  rs4  17134.1.amd64fre.rs4_release.180410-1804        Pro   \n",
       "1                  rs4  17134.1.amd64fre.rs4_release.180410-1804        Pro   \n",
       "2                  rs4  17134.1.amd64fre.rs4_release.180410-1804       Home   \n",
       "3                  rs4  17134.1.amd64fre.rs4_release.180410-1804        Pro   \n",
       "4                  rs4  17134.1.amd64fre.rs4_release.180410-1804       Home   \n",
       "\n",
       "  IsProtected AutoSampleOptIn PuaMode SMode IeVerIdentifier   SmartScreen  \\\n",
       "0           1               0     NaN     0             137           NaN   \n",
       "1           1               0     NaN     0             137           NaN   \n",
       "2           1               0     NaN     0             137  RequireAdmin   \n",
       "3           1               0     NaN     0             137  ExistsNotSet   \n",
       "4           1               0     NaN     0             137  RequireAdmin   \n",
       "\n",
       "  Firewall UacLuaenable Census_MDC2FormFactor Census_DeviceFamily  \\\n",
       "0        1            1               Desktop     Windows.Desktop   \n",
       "1        1            1              Notebook     Windows.Desktop   \n",
       "2        1            1               Desktop     Windows.Desktop   \n",
       "3        1            1               Desktop     Windows.Desktop   \n",
       "4        1            1              Notebook     Windows.Desktop   \n",
       "\n",
       "  Census_OEMNameIdentifier Census_OEMModelIdentifier  \\\n",
       "0                     2668                      9124   \n",
       "1                     2668                     91656   \n",
       "2                     4909                    317701   \n",
       "3                     1443                    275890   \n",
       "4                     1443                    331929   \n",
       "\n",
       "  Census_ProcessorCoreCount Census_ProcessorManufacturerIdentifier  \\\n",
       "0                         4                                      5   \n",
       "1                         4                                      5   \n",
       "2                         4                                      5   \n",
       "3                         4                                      5   \n",
       "4                         4                                      5   \n",
       "\n",
       "  Census_ProcessorModelIdentifier Census_ProcessorClass  \\\n",
       "0                            2341                   NaN   \n",
       "1                            2405                   NaN   \n",
       "2                            1972                   NaN   \n",
       "3                            2273                   NaN   \n",
       "4                            2500                   NaN   \n",
       "\n",
       "  Census_PrimaryDiskTotalCapacity Census_PrimaryDiskTypeName  \\\n",
       "0                          476940                        HDD   \n",
       "1                          476940                        HDD   \n",
       "2                          114473                        SSD   \n",
       "3                          238475                    UNKNOWN   \n",
       "4                          476940                        HDD   \n",
       "\n",
       "  Census_SystemVolumeTotalCapacity Census_HasOpticalDiskDrive  \\\n",
       "0                           299451                          0   \n",
       "1                           102385                          0   \n",
       "2                           113907                          0   \n",
       "3                           227116                          0   \n",
       "4                           101900                          0   \n",
       "\n",
       "  Census_TotalPhysicalRAM Census_ChassisTypeName  \\\n",
       "0                    4096                Desktop   \n",
       "1                    4096               Notebook   \n",
       "2                    4096                Desktop   \n",
       "3                    4096              MiniTower   \n",
       "4                    6144               Portable   \n",
       "\n",
       "  Census_InternalPrimaryDiagonalDisplaySizeInInches  \\\n",
       "0                                              18.9   \n",
       "1                                              13.9   \n",
       "2                                              21.5   \n",
       "3                                              18.5   \n",
       "4                                                14   \n",
       "\n",
       "  Census_InternalPrimaryDisplayResolutionHorizontal  \\\n",
       "0                                              1440   \n",
       "1                                              1366   \n",
       "2                                              1920   \n",
       "3                                              1366   \n",
       "4                                              1366   \n",
       "\n",
       "  Census_InternalPrimaryDisplayResolutionVertical  \\\n",
       "0                                             900   \n",
       "1                                             768   \n",
       "2                                            1080   \n",
       "3                                             768   \n",
       "4                                             768   \n",
       "\n",
       "  Census_PowerPlatformRoleName Census_InternalBatteryType  \\\n",
       "0                      Desktop                        NaN   \n",
       "1                       Mobile                        NaN   \n",
       "2                      Desktop                        NaN   \n",
       "3                      Desktop                        NaN   \n",
       "4                       Mobile                       lion   \n",
       "\n",
       "  Census_InternalBatteryNumberOfCharges Census_OSVersion  \\\n",
       "0                            4294967295   10.0.17134.165   \n",
       "1                                     1     10.0.17134.1   \n",
       "2                            4294967295   10.0.17134.165   \n",
       "3                            4294967295   10.0.17134.228   \n",
       "4                                     0   10.0.17134.191   \n",
       "\n",
       "  Census_OSArchitecture Census_OSBranch Census_OSBuildNumber  \\\n",
       "0                 amd64     rs4_release                17134   \n",
       "1                 amd64     rs4_release                17134   \n",
       "2                 amd64     rs4_release                17134   \n",
       "3                 amd64     rs4_release                17134   \n",
       "4                 amd64     rs4_release                17134   \n",
       "\n",
       "  Census_OSBuildRevision Census_OSEdition Census_OSSkuName  \\\n",
       "0                    165     Professional     PROFESSIONAL   \n",
       "1                      1     Professional     PROFESSIONAL   \n",
       "2                    165             Core             CORE   \n",
       "3                    228     Professional     PROFESSIONAL   \n",
       "4                    191             Core             CORE   \n",
       "\n",
       "  Census_OSInstallTypeName Census_OSInstallLanguageIdentifier  \\\n",
       "0               UUPUpgrade                                 26   \n",
       "1                 IBSClean                                  8   \n",
       "2               UUPUpgrade                                  7   \n",
       "3               UUPUpgrade                                 17   \n",
       "4                   Update                                  8   \n",
       "\n",
       "  Census_OSUILocaleIdentifier Census_OSWUAutoUpdateOptionsName  \\\n",
       "0                         119                          UNKNOWN   \n",
       "1                          31                          UNKNOWN   \n",
       "2                          30                         FullAuto   \n",
       "3                          64                         FullAuto   \n",
       "4                          31                         FullAuto   \n",
       "\n",
       "  Census_IsPortableOperatingSystem Census_GenuineStateName  \\\n",
       "0                                0              IS_GENUINE   \n",
       "1                                0                 OFFLINE   \n",
       "2                                0              IS_GENUINE   \n",
       "3                                0              IS_GENUINE   \n",
       "4                                0              IS_GENUINE   \n",
       "\n",
       "  Census_ActivationChannel Census_IsFlightingInternal  \\\n",
       "0                   Retail                        NaN   \n",
       "1                   Retail                        NaN   \n",
       "2               OEM:NONSLP                        NaN   \n",
       "3               OEM:NONSLP                        NaN   \n",
       "4                   Retail                          0   \n",
       "\n",
       "  Census_IsFlightsDisabled Census_FlightRing Census_ThresholdOptIn  \\\n",
       "0                        0            Retail                   NaN   \n",
       "1                        0           NOT_SET                   NaN   \n",
       "2                        0            Retail                   NaN   \n",
       "3                        0            Retail                   NaN   \n",
       "4                        0            Retail                     0   \n",
       "\n",
       "  Census_FirmwareManufacturerIdentifier Census_FirmwareVersionIdentifier  \\\n",
       "0                                   628                            36144   \n",
       "1                                   628                            57858   \n",
       "2                                   142                            52682   \n",
       "3                                   355                            20050   \n",
       "4                                   355                            19844   \n",
       "\n",
       "  Census_IsSecureBootEnabled Census_IsWIMBootEnabled Census_IsVirtualDevice  \\\n",
       "0                          0                     NaN                      0   \n",
       "1                          0                     NaN                      0   \n",
       "2                          0                     NaN                      0   \n",
       "3                          0                     NaN                      0   \n",
       "4                          0                       0                      0   \n",
       "\n",
       "  Census_IsTouchEnabled Census_IsPenCapable  \\\n",
       "0                     0                   0   \n",
       "1                     0                   0   \n",
       "2                     0                   0   \n",
       "3                     0                   0   \n",
       "4                     0                   0   \n",
       "\n",
       "  Census_IsAlwaysOnAlwaysConnectedCapable Wdft_IsGamer Wdft_RegionIdentifier  \\\n",
       "0                                       0            0                    10   \n",
       "1                                       0            0                     8   \n",
       "2                                       0            0                     3   \n",
       "3                                       0            0                     3   \n",
       "4                                       0            0                     1   \n",
       "\n",
       "   HasDetections  \n",
       "0              0  \n",
       "1              0  \n",
       "2              0  \n",
       "3              1  \n",
       "4              1  "
      ]
     },
     "execution_count": 54,
     "metadata": {},
     "output_type": "execute_result"
    }
   ],
   "source": [
    "df_train = df_train.iloc[:,:82]\n",
    "df_train.head()\n",
    "#df_train = df_train.drop(columns=['ProductName2','ProductName2_','HasDetections_'])"
   ]
  },
  {
   "cell_type": "code",
   "execution_count": 72,
   "metadata": {},
   "outputs": [
    {
     "name": "stdout",
     "output_type": "stream",
     "text": [
      "1642433412\n"
     ]
    },
    {
     "data": {
      "text/html": [
       "<div>\n",
       "<style scoped>\n",
       "    .dataframe tbody tr th:only-of-type {\n",
       "        vertical-align: middle;\n",
       "    }\n",
       "\n",
       "    .dataframe tbody tr th {\n",
       "        vertical-align: top;\n",
       "    }\n",
       "\n",
       "    .dataframe thead th {\n",
       "        text-align: right;\n",
       "    }\n",
       "</style>\n",
       "<table border=\"1\" class=\"dataframe\">\n",
       "  <thead>\n",
       "    <tr style=\"text-align: right;\">\n",
       "      <th></th>\n",
       "      <th>HasDetections</th>\n",
       "      <th>ProductName_</th>\n",
       "      <th>EngineVersion_</th>\n",
       "      <th>AppVersion_</th>\n",
       "      <th>AvSigVersion_</th>\n",
       "      <th>IsBeta_</th>\n",
       "      <th>RtpStateBitfield_</th>\n",
       "      <th>IsSxsPassiveMode_</th>\n",
       "      <th>DefaultBrowsersIdentifier_</th>\n",
       "      <th>AVProductStatesIdentifier_</th>\n",
       "      <th>AVProductsInstalled_</th>\n",
       "      <th>AVProductsEnabled_</th>\n",
       "      <th>HasTpm_</th>\n",
       "      <th>CountryIdentifier_</th>\n",
       "      <th>CityIdentifier_</th>\n",
       "      <th>OrganizationIdentifier_</th>\n",
       "      <th>GeoNameIdentifier_</th>\n",
       "      <th>LocaleEnglishNameIdentifier_</th>\n",
       "      <th>Platform_</th>\n",
       "      <th>Processor_</th>\n",
       "      <th>OsVer_</th>\n",
       "      <th>OsBuild_</th>\n",
       "      <th>OsSuite_</th>\n",
       "      <th>OsPlatformSubRelease_</th>\n",
       "      <th>OsBuildLab_</th>\n",
       "      <th>SkuEdition_</th>\n",
       "      <th>IsProtected_</th>\n",
       "      <th>AutoSampleOptIn_</th>\n",
       "      <th>PuaMode_</th>\n",
       "      <th>SMode_</th>\n",
       "      <th>IeVerIdentifier_</th>\n",
       "      <th>SmartScreen_</th>\n",
       "      <th>Firewall_</th>\n",
       "      <th>UacLuaenable_</th>\n",
       "      <th>Census_MDC2FormFactor_</th>\n",
       "      <th>Census_DeviceFamily_</th>\n",
       "      <th>Census_OEMNameIdentifier_</th>\n",
       "      <th>Census_OEMModelIdentifier_</th>\n",
       "      <th>Census_ProcessorCoreCount_</th>\n",
       "      <th>Census_ProcessorManufacturerIdentifier_</th>\n",
       "      <th>Census_ProcessorModelIdentifier_</th>\n",
       "      <th>Census_ProcessorClass_</th>\n",
       "      <th>Census_PrimaryDiskTotalCapacity_</th>\n",
       "      <th>Census_PrimaryDiskTypeName_</th>\n",
       "      <th>Census_SystemVolumeTotalCapacity_</th>\n",
       "      <th>Census_HasOpticalDiskDrive_</th>\n",
       "      <th>Census_TotalPhysicalRAM_</th>\n",
       "      <th>Census_ChassisTypeName_</th>\n",
       "      <th>Census_InternalPrimaryDiagonalDisplaySizeInInches_</th>\n",
       "      <th>Census_InternalPrimaryDisplayResolutionHorizontal_</th>\n",
       "      <th>Census_InternalPrimaryDisplayResolutionVertical_</th>\n",
       "      <th>Census_PowerPlatformRoleName_</th>\n",
       "      <th>Census_InternalBatteryType_</th>\n",
       "      <th>Census_InternalBatteryNumberOfCharges_</th>\n",
       "      <th>Census_OSVersion_</th>\n",
       "      <th>Census_OSArchitecture_</th>\n",
       "      <th>Census_OSBranch_</th>\n",
       "      <th>Census_OSBuildNumber_</th>\n",
       "      <th>Census_OSBuildRevision_</th>\n",
       "      <th>Census_OSEdition_</th>\n",
       "      <th>Census_OSSkuName_</th>\n",
       "      <th>Census_OSInstallTypeName_</th>\n",
       "      <th>Census_OSInstallLanguageIdentifier_</th>\n",
       "      <th>Census_OSUILocaleIdentifier_</th>\n",
       "      <th>Census_OSWUAutoUpdateOptionsName_</th>\n",
       "      <th>Census_IsPortableOperatingSystem_</th>\n",
       "      <th>Census_GenuineStateName_</th>\n",
       "      <th>Census_ActivationChannel_</th>\n",
       "      <th>Census_IsFlightingInternal_</th>\n",
       "      <th>Census_IsFlightsDisabled_</th>\n",
       "      <th>Census_FlightRing_</th>\n",
       "      <th>Census_ThresholdOptIn_</th>\n",
       "      <th>Census_FirmwareManufacturerIdentifier_</th>\n",
       "      <th>Census_FirmwareVersionIdentifier_</th>\n",
       "      <th>Census_IsSecureBootEnabled_</th>\n",
       "      <th>Census_IsWIMBootEnabled_</th>\n",
       "      <th>Census_IsVirtualDevice_</th>\n",
       "      <th>Census_IsTouchEnabled_</th>\n",
       "      <th>Census_IsPenCapable_</th>\n",
       "      <th>Census_IsAlwaysOnAlwaysConnectedCapable_</th>\n",
       "      <th>Wdft_IsGamer_</th>\n",
       "      <th>Wdft_RegionIdentifier_</th>\n",
       "    </tr>\n",
       "  </thead>\n",
       "  <tbody>\n",
       "    <tr>\n",
       "      <th>0</th>\n",
       "      <td>0</td>\n",
       "      <td>0.5</td>\n",
       "      <td>0.5</td>\n",
       "      <td>0.5</td>\n",
       "      <td>1.273.1735.0</td>\n",
       "      <td>0.5</td>\n",
       "      <td>0.5</td>\n",
       "      <td>0.5</td>\n",
       "      <td>NaN</td>\n",
       "      <td>53447</td>\n",
       "      <td>0.5</td>\n",
       "      <td>0.5</td>\n",
       "      <td>0.5</td>\n",
       "      <td>0.5</td>\n",
       "      <td>128035</td>\n",
       "      <td>0.5</td>\n",
       "      <td>0.5</td>\n",
       "      <td>0.5</td>\n",
       "      <td>0.5</td>\n",
       "      <td>0.5</td>\n",
       "      <td>0.5</td>\n",
       "      <td>0.5</td>\n",
       "      <td>0.5</td>\n",
       "      <td>0.5</td>\n",
       "      <td>17134.1.amd64fre.rs4_release.180410-1804</td>\n",
       "      <td>0.5</td>\n",
       "      <td>0.5</td>\n",
       "      <td>0.5</td>\n",
       "      <td>0.5</td>\n",
       "      <td>0.5</td>\n",
       "      <td>0.5</td>\n",
       "      <td>0.5</td>\n",
       "      <td>0.5</td>\n",
       "      <td>0.5</td>\n",
       "      <td>0.5</td>\n",
       "      <td>0.5</td>\n",
       "      <td>2668</td>\n",
       "      <td>9124</td>\n",
       "      <td>0.5</td>\n",
       "      <td>0.5</td>\n",
       "      <td>2341</td>\n",
       "      <td>0.5</td>\n",
       "      <td>476940</td>\n",
       "      <td>0.5</td>\n",
       "      <td>299451</td>\n",
       "      <td>0.5</td>\n",
       "      <td>4096</td>\n",
       "      <td>0.5</td>\n",
       "      <td>18.9</td>\n",
       "      <td>1440</td>\n",
       "      <td>900</td>\n",
       "      <td>0.5</td>\n",
       "      <td>0.5</td>\n",
       "      <td>4294967295</td>\n",
       "      <td>10.0.17134.165</td>\n",
       "      <td>0.5</td>\n",
       "      <td>0.5</td>\n",
       "      <td>0.5</td>\n",
       "      <td>0.5</td>\n",
       "      <td>0.5</td>\n",
       "      <td>0.5</td>\n",
       "      <td>0.5</td>\n",
       "      <td>0.5</td>\n",
       "      <td>0.5</td>\n",
       "      <td>0.5</td>\n",
       "      <td>0.5</td>\n",
       "      <td>0.5</td>\n",
       "      <td>0.5</td>\n",
       "      <td>0.5</td>\n",
       "      <td>0.5</td>\n",
       "      <td>0.5</td>\n",
       "      <td>0.5</td>\n",
       "      <td>628</td>\n",
       "      <td>36144</td>\n",
       "      <td>0.5</td>\n",
       "      <td>0.5</td>\n",
       "      <td>0.5</td>\n",
       "      <td>0.5</td>\n",
       "      <td>0.5</td>\n",
       "      <td>0.5</td>\n",
       "      <td>0.5</td>\n",
       "      <td>0.5</td>\n",
       "    </tr>\n",
       "    <tr>\n",
       "      <th>1</th>\n",
       "      <td>0</td>\n",
       "      <td>0.5</td>\n",
       "      <td>0.5</td>\n",
       "      <td>0.5</td>\n",
       "      <td>1.263.48.0</td>\n",
       "      <td>0.5</td>\n",
       "      <td>0.5</td>\n",
       "      <td>0.5</td>\n",
       "      <td>NaN</td>\n",
       "      <td>53447</td>\n",
       "      <td>0.5</td>\n",
       "      <td>0.5</td>\n",
       "      <td>0.5</td>\n",
       "      <td>0.5</td>\n",
       "      <td>1482</td>\n",
       "      <td>0.5</td>\n",
       "      <td>0.5</td>\n",
       "      <td>0.5</td>\n",
       "      <td>0.5</td>\n",
       "      <td>0.5</td>\n",
       "      <td>0.5</td>\n",
       "      <td>0.5</td>\n",
       "      <td>0.5</td>\n",
       "      <td>0.5</td>\n",
       "      <td>17134.1.amd64fre.rs4_release.180410-1804</td>\n",
       "      <td>0.5</td>\n",
       "      <td>0.5</td>\n",
       "      <td>0.5</td>\n",
       "      <td>0.5</td>\n",
       "      <td>0.5</td>\n",
       "      <td>0.5</td>\n",
       "      <td>0.5</td>\n",
       "      <td>0.5</td>\n",
       "      <td>0.5</td>\n",
       "      <td>0.5</td>\n",
       "      <td>0.5</td>\n",
       "      <td>2668</td>\n",
       "      <td>91656</td>\n",
       "      <td>0.5</td>\n",
       "      <td>0.5</td>\n",
       "      <td>2405</td>\n",
       "      <td>0.5</td>\n",
       "      <td>476940</td>\n",
       "      <td>0.5</td>\n",
       "      <td>102385</td>\n",
       "      <td>0.5</td>\n",
       "      <td>4096</td>\n",
       "      <td>0.5</td>\n",
       "      <td>13.9</td>\n",
       "      <td>1366</td>\n",
       "      <td>768</td>\n",
       "      <td>0.5</td>\n",
       "      <td>0.5</td>\n",
       "      <td>1</td>\n",
       "      <td>10.0.17134.1</td>\n",
       "      <td>0.5</td>\n",
       "      <td>0.5</td>\n",
       "      <td>0.5</td>\n",
       "      <td>0.5</td>\n",
       "      <td>0.5</td>\n",
       "      <td>0.5</td>\n",
       "      <td>0.5</td>\n",
       "      <td>0.5</td>\n",
       "      <td>0.5</td>\n",
       "      <td>0.5</td>\n",
       "      <td>0.5</td>\n",
       "      <td>0.5</td>\n",
       "      <td>0.5</td>\n",
       "      <td>0.5</td>\n",
       "      <td>0.5</td>\n",
       "      <td>0.5</td>\n",
       "      <td>0.5</td>\n",
       "      <td>628</td>\n",
       "      <td>57858</td>\n",
       "      <td>0.5</td>\n",
       "      <td>0.5</td>\n",
       "      <td>0.5</td>\n",
       "      <td>0.5</td>\n",
       "      <td>0.5</td>\n",
       "      <td>0.5</td>\n",
       "      <td>0.5</td>\n",
       "      <td>0.5</td>\n",
       "    </tr>\n",
       "    <tr>\n",
       "      <th>2</th>\n",
       "      <td>0</td>\n",
       "      <td>0.5</td>\n",
       "      <td>0.5</td>\n",
       "      <td>0.5</td>\n",
       "      <td>1.273.1341.0</td>\n",
       "      <td>0.5</td>\n",
       "      <td>0.5</td>\n",
       "      <td>0.5</td>\n",
       "      <td>NaN</td>\n",
       "      <td>53447</td>\n",
       "      <td>0.5</td>\n",
       "      <td>0.5</td>\n",
       "      <td>0.5</td>\n",
       "      <td>0.5</td>\n",
       "      <td>153579</td>\n",
       "      <td>0.5</td>\n",
       "      <td>0.5</td>\n",
       "      <td>0.5</td>\n",
       "      <td>0.5</td>\n",
       "      <td>0.5</td>\n",
       "      <td>0.5</td>\n",
       "      <td>0.5</td>\n",
       "      <td>0.5</td>\n",
       "      <td>0.5</td>\n",
       "      <td>17134.1.amd64fre.rs4_release.180410-1804</td>\n",
       "      <td>0.5</td>\n",
       "      <td>0.5</td>\n",
       "      <td>0.5</td>\n",
       "      <td>0.5</td>\n",
       "      <td>0.5</td>\n",
       "      <td>0.5</td>\n",
       "      <td>0.5</td>\n",
       "      <td>0.5</td>\n",
       "      <td>0.5</td>\n",
       "      <td>0.5</td>\n",
       "      <td>0.5</td>\n",
       "      <td>4909</td>\n",
       "      <td>317701</td>\n",
       "      <td>0.5</td>\n",
       "      <td>0.5</td>\n",
       "      <td>1972</td>\n",
       "      <td>0.5</td>\n",
       "      <td>114473</td>\n",
       "      <td>0.5</td>\n",
       "      <td>113907</td>\n",
       "      <td>0.5</td>\n",
       "      <td>4096</td>\n",
       "      <td>0.5</td>\n",
       "      <td>21.5</td>\n",
       "      <td>1920</td>\n",
       "      <td>1080</td>\n",
       "      <td>0.5</td>\n",
       "      <td>0.5</td>\n",
       "      <td>4294967295</td>\n",
       "      <td>10.0.17134.165</td>\n",
       "      <td>0.5</td>\n",
       "      <td>0.5</td>\n",
       "      <td>0.5</td>\n",
       "      <td>0.5</td>\n",
       "      <td>0.5</td>\n",
       "      <td>0.5</td>\n",
       "      <td>0.5</td>\n",
       "      <td>0.5</td>\n",
       "      <td>0.5</td>\n",
       "      <td>0.5</td>\n",
       "      <td>0.5</td>\n",
       "      <td>0.5</td>\n",
       "      <td>0.5</td>\n",
       "      <td>0.5</td>\n",
       "      <td>0.5</td>\n",
       "      <td>0.5</td>\n",
       "      <td>0.5</td>\n",
       "      <td>142</td>\n",
       "      <td>52682</td>\n",
       "      <td>0.5</td>\n",
       "      <td>0.5</td>\n",
       "      <td>0.5</td>\n",
       "      <td>0.5</td>\n",
       "      <td>0.5</td>\n",
       "      <td>0.5</td>\n",
       "      <td>0.5</td>\n",
       "      <td>0.5</td>\n",
       "    </tr>\n",
       "    <tr>\n",
       "      <th>3</th>\n",
       "      <td>1</td>\n",
       "      <td>0.5</td>\n",
       "      <td>0.5</td>\n",
       "      <td>0.5</td>\n",
       "      <td>1.273.1527.0</td>\n",
       "      <td>0.5</td>\n",
       "      <td>0.5</td>\n",
       "      <td>0.5</td>\n",
       "      <td>NaN</td>\n",
       "      <td>53447</td>\n",
       "      <td>0.5</td>\n",
       "      <td>0.5</td>\n",
       "      <td>0.5</td>\n",
       "      <td>0.5</td>\n",
       "      <td>20710</td>\n",
       "      <td>0.5</td>\n",
       "      <td>0.5</td>\n",
       "      <td>0.5</td>\n",
       "      <td>0.5</td>\n",
       "      <td>0.5</td>\n",
       "      <td>0.5</td>\n",
       "      <td>0.5</td>\n",
       "      <td>0.5</td>\n",
       "      <td>0.5</td>\n",
       "      <td>17134.1.amd64fre.rs4_release.180410-1804</td>\n",
       "      <td>0.5</td>\n",
       "      <td>0.5</td>\n",
       "      <td>0.5</td>\n",
       "      <td>0.5</td>\n",
       "      <td>0.5</td>\n",
       "      <td>0.5</td>\n",
       "      <td>0.5</td>\n",
       "      <td>0.5</td>\n",
       "      <td>0.5</td>\n",
       "      <td>0.5</td>\n",
       "      <td>0.5</td>\n",
       "      <td>1443</td>\n",
       "      <td>275890</td>\n",
       "      <td>0.5</td>\n",
       "      <td>0.5</td>\n",
       "      <td>2273</td>\n",
       "      <td>0.5</td>\n",
       "      <td>238475</td>\n",
       "      <td>0.5</td>\n",
       "      <td>227116</td>\n",
       "      <td>0.5</td>\n",
       "      <td>4096</td>\n",
       "      <td>0.5</td>\n",
       "      <td>18.5</td>\n",
       "      <td>1366</td>\n",
       "      <td>768</td>\n",
       "      <td>0.5</td>\n",
       "      <td>0.5</td>\n",
       "      <td>4294967295</td>\n",
       "      <td>10.0.17134.228</td>\n",
       "      <td>0.5</td>\n",
       "      <td>0.5</td>\n",
       "      <td>0.5</td>\n",
       "      <td>0.5</td>\n",
       "      <td>0.5</td>\n",
       "      <td>0.5</td>\n",
       "      <td>0.5</td>\n",
       "      <td>0.5</td>\n",
       "      <td>0.5</td>\n",
       "      <td>0.5</td>\n",
       "      <td>0.5</td>\n",
       "      <td>0.5</td>\n",
       "      <td>0.5</td>\n",
       "      <td>0.5</td>\n",
       "      <td>0.5</td>\n",
       "      <td>0.5</td>\n",
       "      <td>0.5</td>\n",
       "      <td>355</td>\n",
       "      <td>20050</td>\n",
       "      <td>0.5</td>\n",
       "      <td>0.5</td>\n",
       "      <td>0.5</td>\n",
       "      <td>0.5</td>\n",
       "      <td>0.5</td>\n",
       "      <td>0.5</td>\n",
       "      <td>0.5</td>\n",
       "      <td>0.5</td>\n",
       "    </tr>\n",
       "    <tr>\n",
       "      <th>4</th>\n",
       "      <td>1</td>\n",
       "      <td>0.5</td>\n",
       "      <td>0.5</td>\n",
       "      <td>0.5</td>\n",
       "      <td>1.273.1379.0</td>\n",
       "      <td>0.5</td>\n",
       "      <td>0.5</td>\n",
       "      <td>0.5</td>\n",
       "      <td>NaN</td>\n",
       "      <td>53447</td>\n",
       "      <td>0.5</td>\n",
       "      <td>0.5</td>\n",
       "      <td>0.5</td>\n",
       "      <td>0.5</td>\n",
       "      <td>37376</td>\n",
       "      <td>0.5</td>\n",
       "      <td>0.5</td>\n",
       "      <td>0.5</td>\n",
       "      <td>0.5</td>\n",
       "      <td>0.5</td>\n",
       "      <td>0.5</td>\n",
       "      <td>0.5</td>\n",
       "      <td>0.5</td>\n",
       "      <td>0.5</td>\n",
       "      <td>17134.1.amd64fre.rs4_release.180410-1804</td>\n",
       "      <td>0.5</td>\n",
       "      <td>0.5</td>\n",
       "      <td>0.5</td>\n",
       "      <td>0.5</td>\n",
       "      <td>0.5</td>\n",
       "      <td>0.5</td>\n",
       "      <td>0.5</td>\n",
       "      <td>0.5</td>\n",
       "      <td>0.5</td>\n",
       "      <td>0.5</td>\n",
       "      <td>0.5</td>\n",
       "      <td>1443</td>\n",
       "      <td>331929</td>\n",
       "      <td>0.5</td>\n",
       "      <td>0.5</td>\n",
       "      <td>2500</td>\n",
       "      <td>0.5</td>\n",
       "      <td>476940</td>\n",
       "      <td>0.5</td>\n",
       "      <td>101900</td>\n",
       "      <td>0.5</td>\n",
       "      <td>6144</td>\n",
       "      <td>0.5</td>\n",
       "      <td>14</td>\n",
       "      <td>1366</td>\n",
       "      <td>768</td>\n",
       "      <td>0.5</td>\n",
       "      <td>0.5</td>\n",
       "      <td>0</td>\n",
       "      <td>10.0.17134.191</td>\n",
       "      <td>0.5</td>\n",
       "      <td>0.5</td>\n",
       "      <td>0.5</td>\n",
       "      <td>0.5</td>\n",
       "      <td>0.5</td>\n",
       "      <td>0.5</td>\n",
       "      <td>0.5</td>\n",
       "      <td>0.5</td>\n",
       "      <td>0.5</td>\n",
       "      <td>0.5</td>\n",
       "      <td>0.5</td>\n",
       "      <td>0.5</td>\n",
       "      <td>0.5</td>\n",
       "      <td>0.5</td>\n",
       "      <td>0.5</td>\n",
       "      <td>0.5</td>\n",
       "      <td>0.5</td>\n",
       "      <td>355</td>\n",
       "      <td>19844</td>\n",
       "      <td>0.5</td>\n",
       "      <td>0.5</td>\n",
       "      <td>0.5</td>\n",
       "      <td>0.5</td>\n",
       "      <td>0.5</td>\n",
       "      <td>0.5</td>\n",
       "      <td>0.5</td>\n",
       "      <td>0.5</td>\n",
       "    </tr>\n",
       "  </tbody>\n",
       "</table>\n",
       "</div>"
      ],
      "text/plain": [
       "   HasDetections  ProductName_  EngineVersion_  AppVersion_ AvSigVersion_  \\\n",
       "0              0           0.5             0.5          0.5  1.273.1735.0   \n",
       "1              0           0.5             0.5          0.5    1.263.48.0   \n",
       "2              0           0.5             0.5          0.5  1.273.1341.0   \n",
       "3              1           0.5             0.5          0.5  1.273.1527.0   \n",
       "4              1           0.5             0.5          0.5  1.273.1379.0   \n",
       "\n",
       "   IsBeta_  RtpStateBitfield_  IsSxsPassiveMode_ DefaultBrowsersIdentifier_  \\\n",
       "0      0.5                0.5                0.5                        NaN   \n",
       "1      0.5                0.5                0.5                        NaN   \n",
       "2      0.5                0.5                0.5                        NaN   \n",
       "3      0.5                0.5                0.5                        NaN   \n",
       "4      0.5                0.5                0.5                        NaN   \n",
       "\n",
       "  AVProductStatesIdentifier_  AVProductsInstalled_  AVProductsEnabled_  \\\n",
       "0                      53447                   0.5                 0.5   \n",
       "1                      53447                   0.5                 0.5   \n",
       "2                      53447                   0.5                 0.5   \n",
       "3                      53447                   0.5                 0.5   \n",
       "4                      53447                   0.5                 0.5   \n",
       "\n",
       "   HasTpm_  CountryIdentifier_ CityIdentifier_  OrganizationIdentifier_  \\\n",
       "0      0.5                 0.5          128035                      0.5   \n",
       "1      0.5                 0.5            1482                      0.5   \n",
       "2      0.5                 0.5          153579                      0.5   \n",
       "3      0.5                 0.5           20710                      0.5   \n",
       "4      0.5                 0.5           37376                      0.5   \n",
       "\n",
       "   GeoNameIdentifier_  LocaleEnglishNameIdentifier_  Platform_  Processor_  \\\n",
       "0                 0.5                           0.5        0.5         0.5   \n",
       "1                 0.5                           0.5        0.5         0.5   \n",
       "2                 0.5                           0.5        0.5         0.5   \n",
       "3                 0.5                           0.5        0.5         0.5   \n",
       "4                 0.5                           0.5        0.5         0.5   \n",
       "\n",
       "   OsVer_  OsBuild_  OsSuite_  OsPlatformSubRelease_  \\\n",
       "0     0.5       0.5       0.5                    0.5   \n",
       "1     0.5       0.5       0.5                    0.5   \n",
       "2     0.5       0.5       0.5                    0.5   \n",
       "3     0.5       0.5       0.5                    0.5   \n",
       "4     0.5       0.5       0.5                    0.5   \n",
       "\n",
       "                                OsBuildLab_  SkuEdition_  IsProtected_  \\\n",
       "0  17134.1.amd64fre.rs4_release.180410-1804          0.5           0.5   \n",
       "1  17134.1.amd64fre.rs4_release.180410-1804          0.5           0.5   \n",
       "2  17134.1.amd64fre.rs4_release.180410-1804          0.5           0.5   \n",
       "3  17134.1.amd64fre.rs4_release.180410-1804          0.5           0.5   \n",
       "4  17134.1.amd64fre.rs4_release.180410-1804          0.5           0.5   \n",
       "\n",
       "   AutoSampleOptIn_  PuaMode_  SMode_  IeVerIdentifier_  SmartScreen_  \\\n",
       "0               0.5       0.5     0.5               0.5           0.5   \n",
       "1               0.5       0.5     0.5               0.5           0.5   \n",
       "2               0.5       0.5     0.5               0.5           0.5   \n",
       "3               0.5       0.5     0.5               0.5           0.5   \n",
       "4               0.5       0.5     0.5               0.5           0.5   \n",
       "\n",
       "   Firewall_  UacLuaenable_  Census_MDC2FormFactor_  Census_DeviceFamily_  \\\n",
       "0        0.5            0.5                     0.5                   0.5   \n",
       "1        0.5            0.5                     0.5                   0.5   \n",
       "2        0.5            0.5                     0.5                   0.5   \n",
       "3        0.5            0.5                     0.5                   0.5   \n",
       "4        0.5            0.5                     0.5                   0.5   \n",
       "\n",
       "  Census_OEMNameIdentifier_ Census_OEMModelIdentifier_  \\\n",
       "0                      2668                       9124   \n",
       "1                      2668                      91656   \n",
       "2                      4909                     317701   \n",
       "3                      1443                     275890   \n",
       "4                      1443                     331929   \n",
       "\n",
       "   Census_ProcessorCoreCount_  Census_ProcessorManufacturerIdentifier_  \\\n",
       "0                         0.5                                      0.5   \n",
       "1                         0.5                                      0.5   \n",
       "2                         0.5                                      0.5   \n",
       "3                         0.5                                      0.5   \n",
       "4                         0.5                                      0.5   \n",
       "\n",
       "  Census_ProcessorModelIdentifier_  Census_ProcessorClass_  \\\n",
       "0                             2341                     0.5   \n",
       "1                             2405                     0.5   \n",
       "2                             1972                     0.5   \n",
       "3                             2273                     0.5   \n",
       "4                             2500                     0.5   \n",
       "\n",
       "  Census_PrimaryDiskTotalCapacity_  Census_PrimaryDiskTypeName_  \\\n",
       "0                           476940                          0.5   \n",
       "1                           476940                          0.5   \n",
       "2                           114473                          0.5   \n",
       "3                           238475                          0.5   \n",
       "4                           476940                          0.5   \n",
       "\n",
       "  Census_SystemVolumeTotalCapacity_  Census_HasOpticalDiskDrive_  \\\n",
       "0                            299451                          0.5   \n",
       "1                            102385                          0.5   \n",
       "2                            113907                          0.5   \n",
       "3                            227116                          0.5   \n",
       "4                            101900                          0.5   \n",
       "\n",
       "  Census_TotalPhysicalRAM_  Census_ChassisTypeName_  \\\n",
       "0                     4096                      0.5   \n",
       "1                     4096                      0.5   \n",
       "2                     4096                      0.5   \n",
       "3                     4096                      0.5   \n",
       "4                     6144                      0.5   \n",
       "\n",
       "  Census_InternalPrimaryDiagonalDisplaySizeInInches_  \\\n",
       "0                                               18.9   \n",
       "1                                               13.9   \n",
       "2                                               21.5   \n",
       "3                                               18.5   \n",
       "4                                                 14   \n",
       "\n",
       "  Census_InternalPrimaryDisplayResolutionHorizontal_  \\\n",
       "0                                               1440   \n",
       "1                                               1366   \n",
       "2                                               1920   \n",
       "3                                               1366   \n",
       "4                                               1366   \n",
       "\n",
       "  Census_InternalPrimaryDisplayResolutionVertical_  \\\n",
       "0                                              900   \n",
       "1                                              768   \n",
       "2                                             1080   \n",
       "3                                              768   \n",
       "4                                              768   \n",
       "\n",
       "   Census_PowerPlatformRoleName_  Census_InternalBatteryType_  \\\n",
       "0                            0.5                          0.5   \n",
       "1                            0.5                          0.5   \n",
       "2                            0.5                          0.5   \n",
       "3                            0.5                          0.5   \n",
       "4                            0.5                          0.5   \n",
       "\n",
       "  Census_InternalBatteryNumberOfCharges_ Census_OSVersion_  \\\n",
       "0                             4294967295    10.0.17134.165   \n",
       "1                                      1      10.0.17134.1   \n",
       "2                             4294967295    10.0.17134.165   \n",
       "3                             4294967295    10.0.17134.228   \n",
       "4                                      0    10.0.17134.191   \n",
       "\n",
       "   Census_OSArchitecture_  Census_OSBranch_  Census_OSBuildNumber_  \\\n",
       "0                     0.5               0.5                    0.5   \n",
       "1                     0.5               0.5                    0.5   \n",
       "2                     0.5               0.5                    0.5   \n",
       "3                     0.5               0.5                    0.5   \n",
       "4                     0.5               0.5                    0.5   \n",
       "\n",
       "   Census_OSBuildRevision_  Census_OSEdition_  Census_OSSkuName_  \\\n",
       "0                      0.5                0.5                0.5   \n",
       "1                      0.5                0.5                0.5   \n",
       "2                      0.5                0.5                0.5   \n",
       "3                      0.5                0.5                0.5   \n",
       "4                      0.5                0.5                0.5   \n",
       "\n",
       "   Census_OSInstallTypeName_  Census_OSInstallLanguageIdentifier_  \\\n",
       "0                        0.5                                  0.5   \n",
       "1                        0.5                                  0.5   \n",
       "2                        0.5                                  0.5   \n",
       "3                        0.5                                  0.5   \n",
       "4                        0.5                                  0.5   \n",
       "\n",
       "   Census_OSUILocaleIdentifier_  Census_OSWUAutoUpdateOptionsName_  \\\n",
       "0                           0.5                                0.5   \n",
       "1                           0.5                                0.5   \n",
       "2                           0.5                                0.5   \n",
       "3                           0.5                                0.5   \n",
       "4                           0.5                                0.5   \n",
       "\n",
       "   Census_IsPortableOperatingSystem_  Census_GenuineStateName_  \\\n",
       "0                                0.5                       0.5   \n",
       "1                                0.5                       0.5   \n",
       "2                                0.5                       0.5   \n",
       "3                                0.5                       0.5   \n",
       "4                                0.5                       0.5   \n",
       "\n",
       "   Census_ActivationChannel_  Census_IsFlightingInternal_  \\\n",
       "0                        0.5                          0.5   \n",
       "1                        0.5                          0.5   \n",
       "2                        0.5                          0.5   \n",
       "3                        0.5                          0.5   \n",
       "4                        0.5                          0.5   \n",
       "\n",
       "   Census_IsFlightsDisabled_  Census_FlightRing_  Census_ThresholdOptIn_  \\\n",
       "0                        0.5                 0.5                     0.5   \n",
       "1                        0.5                 0.5                     0.5   \n",
       "2                        0.5                 0.5                     0.5   \n",
       "3                        0.5                 0.5                     0.5   \n",
       "4                        0.5                 0.5                     0.5   \n",
       "\n",
       "  Census_FirmwareManufacturerIdentifier_ Census_FirmwareVersionIdentifier_  \\\n",
       "0                                    628                             36144   \n",
       "1                                    628                             57858   \n",
       "2                                    142                             52682   \n",
       "3                                    355                             20050   \n",
       "4                                    355                             19844   \n",
       "\n",
       "   Census_IsSecureBootEnabled_  Census_IsWIMBootEnabled_  \\\n",
       "0                          0.5                       0.5   \n",
       "1                          0.5                       0.5   \n",
       "2                          0.5                       0.5   \n",
       "3                          0.5                       0.5   \n",
       "4                          0.5                       0.5   \n",
       "\n",
       "   Census_IsVirtualDevice_  Census_IsTouchEnabled_  Census_IsPenCapable_  \\\n",
       "0                      0.5                     0.5                   0.5   \n",
       "1                      0.5                     0.5                   0.5   \n",
       "2                      0.5                     0.5                   0.5   \n",
       "3                      0.5                     0.5                   0.5   \n",
       "4                      0.5                     0.5                   0.5   \n",
       "\n",
       "   Census_IsAlwaysOnAlwaysConnectedCapable_  Wdft_IsGamer_  \\\n",
       "0                                       0.5            0.5   \n",
       "1                                       0.5            0.5   \n",
       "2                                       0.5            0.5   \n",
       "3                                       0.5            0.5   \n",
       "4                                       0.5            0.5   \n",
       "\n",
       "   Wdft_RegionIdentifier_  \n",
       "0                     0.5  \n",
       "1                     0.5  \n",
       "2                     0.5  \n",
       "3                     0.5  \n",
       "4                     0.5  "
      ]
     },
     "execution_count": 72,
     "metadata": {},
     "output_type": "execute_result"
    }
   ],
   "source": [
    "df_train2 = df_train.iloc[:,81:-1]\n",
    "print(df_train2.memory_usage(deep=True).sum())\n",
    "df_train2.to_csv('df_train2.csv', index=False, sep=',')\n",
    "df_train2.head()"
   ]
  },
  {
   "cell_type": "code",
   "execution_count": 6,
   "metadata": {},
   "outputs": [],
   "source": [
    "dtypes = {\n",
    "        'MachineIdentifier_':                                    'float16',\n",
    "        'ProductName_':                                          'float16',\n",
    "        'EngineVersion_':                                        'float16',\n",
    "        'AppVersion_':                                           'float16',\n",
    "        'AvSigVersion_':                                         'category',\n",
    "        'IsBeta_':                                               'float16',\n",
    "        'RtpStateBitfield_':                                     'float16',\n",
    "        'IsSxsPassiveMode_':                                     'float16',\n",
    "        'DefaultBrowsersIdentifier_':                            'category',\n",
    "        'AVProductStatesIdentifier_':                            'category',\n",
    "        'AVProductsInstalled_':                                  'float16',\n",
    "        'AVProductsEnabled_':                                    'float16',\n",
    "        'HasTpm_':                                               'float16',\n",
    "        'CountryIdentifier_':                                    'float16',\n",
    "        'CityIdentifier_':                                       'category',\n",
    "        'OrganizationIdentifier_':                               'float16',\n",
    "        'GeoNameIdentifier_':                                    'float16',\n",
    "        'LocaleEnglishNameIdentifier_':                          'float16',\n",
    "        'Platform_':                                             'float16',\n",
    "        'Processor_':                                            'float16',\n",
    "        'OsVer_':                                                'float16',\n",
    "        'OsBuild_':                                              'float16',\n",
    "        'OsSuite_':                                              'float16',\n",
    "        'OsPlatformSubRelease_':                                 'float16',\n",
    "        'OsBuildLab_':                                           'category',\n",
    "        'SkuEdition_':                                           'float16',\n",
    "        'IsProtected_':                                          'float16',\n",
    "        'AutoSampleOptIn_':                                      'float16',\n",
    "        'PuaMode_':                                              'float16',\n",
    "        'SMode_':                                                'float16',\n",
    "        'IeVerIdentifier_':                                      'float16',\n",
    "        'SmartScreen_':                                          'float16',\n",
    "        'Firewall_':                                             'float16',\n",
    "        'UacLuaenable_':                                         'float16',\n",
    "        'Census_MDC2FormFactor_':                                'float16',\n",
    "        'Census_DeviceFamily_':                                  'float16',\n",
    "        'Census_OEMNameIdentifier_':                             'category',\n",
    "        'Census_OEMModelIdentifier_':                            'category',\n",
    "        'Census_ProcessorCoreCount_':                            'float16',\n",
    "        'Census_ProcessorManufacturerIdentifier_':               'float16',\n",
    "        'Census_ProcessorModelIdentifier_':                      'category',\n",
    "        'Census_ProcessorClass_':                                'float16',\n",
    "        'Census_PrimaryDiskTotalCapacity_':                      'category',\n",
    "        'Census_PrimaryDiskTypeName_':                           'float16',\n",
    "        'Census_SystemVolumeTotalCapacity_':                     'category',\n",
    "        'Census_HasOpticalDiskDrive_':                           'float16',\n",
    "        'Census_TotalPhysicalRAM_':                              'category',\n",
    "        'Census_ChassisTypeName_':                               'float16',\n",
    "        'Census_InternalPrimaryDiagonalDisplaySizeInInches_':    'category',\n",
    "        'Census_InternalPrimaryDisplayResolutionHorizontal_':    'category',\n",
    "        'Census_InternalPrimaryDisplayResolutionVertical_':      'category',\n",
    "        'Census_PowerPlatformRoleName_':                         'float16',\n",
    "        'Census_InternalBatteryType_':                           'float16',\n",
    "        'Census_InternalBatteryNumberOfCharges_':                'category',\n",
    "        'Census_OSVersion_':                                     'category',\n",
    "        'Census_OSArchitecture_':                                'float16',\n",
    "        'Census_OSBranch_':                                      'float16',\n",
    "        'Census_OSBuildNumber_':                                 'float16',\n",
    "        'Census_OSBuildRevision_':                               'float16',\n",
    "        'Census_OSEdition_':                                     'float16',\n",
    "        'Census_OSSkuName_':                                     'float16',\n",
    "        'Census_OSInstallTypeName_':                             'float16',\n",
    "        'Census_OSInstallLanguageIdentifier_':                   'float16',\n",
    "        'Census_OSUILocaleIdentifier_':                          'float16',\n",
    "        'Census_OSWUAutoUpdateOptionsName_':                     'float16',\n",
    "        'Census_IsPortableOperatingSystem_':                     'float16',\n",
    "        'Census_GenuineStateName_':                              'float16',\n",
    "        'Census_ActivationChannel_':                             'float16',\n",
    "        'Census_IsFlightingInternal_':                           'float16',\n",
    "        'Census_IsFlightsDisabled_':                             'float16',\n",
    "        'Census_FlightRing_':                                    'float16',\n",
    "        'Census_ThresholdOptIn_':                                'float16',\n",
    "        'Census_FirmwareManufacturerIdentifier_':                'category',\n",
    "        'Census_FirmwareVersionIdentifier_':                     'category',\n",
    "        'Census_IsSecureBootEnabled_':                           'float16',\n",
    "        'Census_IsWIMBootEnabled_':                              'float16',\n",
    "        'Census_IsVirtualDevice_':                               'float16',\n",
    "        'Census_IsTouchEnabled_':                                'float16',\n",
    "        'Census_IsPenCapable_':                                  'float16',\n",
    "        'Census_IsAlwaysOnAlwaysConnectedCapable_':              'float16',\n",
    "        'Wdft_IsGamer_':                                         'float16',\n",
    "        'Wdft_RegionIdentifier_':                                'float16',\n",
    "        'HasDetections_':                                        'float16'\n",
    "        }"
   ]
  },
  {
   "cell_type": "code",
   "execution_count": 8,
   "metadata": {},
   "outputs": [
    {
     "name": "stdout",
     "output_type": "stream",
     "text": [
      "Start ens calc: 01:31:14\n",
      "Loaded: 01:32:55\n",
      "\n",
      " 01:32:55 Ens 0 Data split start\n",
      "01:33:05 Ens 0 Model fit start\n",
      "01:34:09 Ens 0 Test predict start\n",
      "01:34:37 Ens 0 Predict start: 01:34:37\n"
     ]
    },
    {
     "ename": "NameError",
     "evalue": "name 'df_test' is not defined",
     "output_type": "error",
     "traceback": [
      "\u001b[0;31m---------------------------------------------------------------------------\u001b[0m",
      "\u001b[0;31mNameError\u001b[0m                                 Traceback (most recent call last)",
      "\u001b[0;32m<ipython-input-8-174deca7f3a2>\u001b[0m in \u001b[0;36m<module>\u001b[0;34m\u001b[0m\n\u001b[1;32m     26\u001b[0m     \u001b[0mbatch_size\u001b[0m\u001b[0;34m=\u001b[0m\u001b[0;36m2000000\u001b[0m\u001b[0;34m\u001b[0m\u001b[0;34m\u001b[0m\u001b[0m\n\u001b[1;32m     27\u001b[0m     \u001b[0mbatch_pred\u001b[0m \u001b[0;34m=\u001b[0m \u001b[0;34m[\u001b[0m\u001b[0;34m]\u001b[0m\u001b[0;34m\u001b[0m\u001b[0;34m\u001b[0m\u001b[0m\n\u001b[0;32m---> 28\u001b[0;31m     \u001b[0;32mfor\u001b[0m \u001b[0mb\u001b[0m \u001b[0;32min\u001b[0m \u001b[0mrange\u001b[0m\u001b[0;34m(\u001b[0m\u001b[0;36m0\u001b[0m\u001b[0;34m,\u001b[0m \u001b[0mlen\u001b[0m\u001b[0;34m(\u001b[0m\u001b[0mdf_test\u001b[0m\u001b[0;34m)\u001b[0m\u001b[0;34m,\u001b[0m \u001b[0mbatch_size\u001b[0m\u001b[0;34m)\u001b[0m\u001b[0;34m:\u001b[0m\u001b[0;34m\u001b[0m\u001b[0;34m\u001b[0m\u001b[0m\n\u001b[0m\u001b[1;32m     29\u001b[0m         \u001b[0mcurrent_pred\u001b[0m \u001b[0;34m=\u001b[0m \u001b[0mmodel\u001b[0m\u001b[0;34m.\u001b[0m\u001b[0mpredict_proba\u001b[0m\u001b[0;34m(\u001b[0m\u001b[0mdf_test\u001b[0m\u001b[0;34m[\u001b[0m\u001b[0mb\u001b[0m\u001b[0;34m:\u001b[0m\u001b[0mb\u001b[0m\u001b[0;34m+\u001b[0m\u001b[0mbatch_size\u001b[0m\u001b[0;34m]\u001b[0m\u001b[0;34m)\u001b[0m\u001b[0;34m.\u001b[0m\u001b[0mT\u001b[0m\u001b[0;34m[\u001b[0m\u001b[0;36m1\u001b[0m\u001b[0;34m]\u001b[0m\u001b[0;34m\u001b[0m\u001b[0;34m\u001b[0m\u001b[0m\n\u001b[1;32m     30\u001b[0m         \u001b[0mbatch_pred\u001b[0m \u001b[0;34m=\u001b[0m \u001b[0mnp\u001b[0m\u001b[0;34m.\u001b[0m\u001b[0mconcatenate\u001b[0m\u001b[0;34m(\u001b[0m\u001b[0;34m[\u001b[0m \u001b[0mbatch_pred\u001b[0m\u001b[0;34m,\u001b[0m \u001b[0mcurrent_pred\u001b[0m \u001b[0;34m]\u001b[0m\u001b[0;34m)\u001b[0m\u001b[0;34m\u001b[0m\u001b[0;34m\u001b[0m\u001b[0m\n",
      "\u001b[0;31mNameError\u001b[0m: name 'df_test' is not defined"
     ]
    }
   ],
   "source": [
    "#--------------------------------------------------------\n",
    "print('Start ens calc:', time.ctime()[11:-5])\n",
    "df_train = pd.read_csv('df_train2.csv', dtype=dtypes, sep=',')\n",
    "print('Loaded:', time.ctime()[11:-5])\n",
    "\n",
    "ensemble = 9\n",
    "arr_y_pred = []#pd.DataFrame()\n",
    "arr_score = []\n",
    "\n",
    "for i in range(ensemble):\n",
    "    print('\\n', time.ctime()[11:-5], 'Ens', i, 'Data split start')\n",
    "    X_train, X_test, y_train, y_test = train_test_split(df_train.drop(columns='HasDetections'), df_train['HasDetections'], train_size=0.632, random_state=i) #train_size=0.632\n",
    "    \n",
    "    print(time.ctime()[11:-5], 'Ens', i, 'Model fit start')\n",
    "    model = lgb.LGBMClassifier(boosting='gbdt', num_leaves=60, min_data_in_leaf=60, objective='binary', max_depth=-1, learning_rate=0.1, \n",
    "                               feature_fraction=0.8, bagging_freq=1, bagging_fraction=0.8, bagging_seed=11, metric='auc', \n",
    "                               lambda_l1=0.1, random_state=133, verbosity=-1, nthread=-1) #, class_weight='balanced')\n",
    "    model.fit(X_train, y_train)\n",
    "    \n",
    "    print(time.ctime()[11:-5], 'Ens', i, 'Test predict start')\n",
    "    y_pred = model.predict(X_test)\n",
    "    score = roc_auc_score(y_test, y_pred)\n",
    "    arr_score.append(score)\n",
    "    \n",
    "    print(time.ctime()[11:-5], 'Ens', i, 'Predict start:', time.ctime()[11:-5])\n",
    "    batch_size=2000000\n",
    "    batch_pred = []\n",
    "    for b in range(0, len(df_test), batch_size):\n",
    "        current_pred = model.predict_proba(df_test[b:b+batch_size]).T[1]\n",
    "        batch_pred = np.concatenate([ batch_pred, current_pred ])\n",
    "        del current_pred\n",
    "        print(time.ctime()[11:-5], 'Batch', b, '-', b+batch_size, 'predicted.')\n",
    "        \n",
    "    arr_y_pred.append(batch_pred)\n",
    "    \n",
    "    #arr_y_pred.append(model.predict_proba(df_test).T[1])\n",
    "    \n",
    "    print(time.ctime()[11:-5], 'Ens', i, 'Score:', score, 'predicted') #, 'Pred proba >= 0.5 count:', sum(current_pred>=0.5)\n",
    "    del model\n",
    "    del X_train, X_test, y_train, y_test\n",
    "    \n",
    "print('Finish:', time.ctime()[11:-5])\n",
    "\n",
    "#--------------------------------------------------------\n",
    "#save ensemble result\n",
    "sub_df = pd.read_csv('input/test.csv', dtype='object', usecols=[0])\n",
    "sub_df['HasDetections'] = np.mean(np.array(arr_y_pred).T, axis=1)\n",
    "sub_df.to_csv('submit_ans.csv', index=False)"
   ]
  },
  {
   "cell_type": "code",
   "execution_count": 9,
   "metadata": {},
   "outputs": [
    {
     "data": {
      "text/plain": [
       "0.6238976751972016"
      ]
     },
     "execution_count": 9,
     "metadata": {},
     "output_type": "execute_result"
    }
   ],
   "source": [
    "score"
   ]
  },
  {
   "cell_type": "code",
   "execution_count": null,
   "metadata": {},
   "outputs": [],
   "source": [
    "#submit 10: 0.671\n",
    "#END\n",
    "\n",
    "\n",
    "\n"
   ]
  },
  {
   "cell_type": "code",
   "execution_count": 6,
   "metadata": {},
   "outputs": [],
   "source": [
    "del model\n",
    "del X_train, X_test, y_train, y_test"
   ]
  },
  {
   "cell_type": "markdown",
   "metadata": {},
   "source": [
    "pd.Series(arr_y_pred[1]).to_csv('arr_y_pred1.csv')\n",
    "pd.Series(arr_y_pred[2]).to_csv('arr_y_pred2.csv')\n",
    "pd.Series(arr_y_pred[3]).to_csv('arr_y_pred3.csv')"
   ]
  },
  {
   "cell_type": "code",
   "execution_count": null,
   "metadata": {
    "collapsed": true
   },
   "outputs": [],
   "source": [
    "#test\n",
    "arr_y_pred = []\n",
    "arr_score = []\n",
    "batch_size=10\n",
    "batch_pred = []\n",
    "for b in range(0, len(df_test[:50]), batch_size):\n",
    "    print(b, b+batch_size)\n",
    "    batch_pred = np.concatenate([ batch_pred, model.predict_proba(df_test[b:b+batch_size]).T[1] ])\n",
    "\n",
    "arr_y_pred.append(batch_pred)\n",
    "\n",
    "np.set_printoptions(threshold=np.nan)\n",
    "print(score, sum(batch_pred>=0.5))"
   ]
  },
  {
   "cell_type": "code",
   "execution_count": 17,
   "metadata": {},
   "outputs": [
    {
     "data": {
      "text/plain": [
       "7853253"
      ]
     },
     "execution_count": 17,
     "metadata": {},
     "output_type": "execute_result"
    }
   ],
   "source": [
    "len(np.mean(np.array(arr_y_pred).T, axis=1))"
   ]
  },
  {
   "cell_type": "code",
   "execution_count": 15,
   "metadata": {
    "collapsed": true
   },
   "outputs": [],
   "source": [
    "#Ensemble rate\n",
    "sub_df = pd.read_csv('input/test.csv', dtype='object', usecols=[0])\n",
    "i=0\n",
    "sub_df[\"HasDetections\"] = arr_y_pred[i]\n",
    "sub_df.to_csv('submit'+str(i)+'.csv', index=False)\n",
    "i=1\n",
    "sub_df[\"HasDetections\"] = arr_y_pred[i]\n",
    "sub_df.to_csv('submit'+str(i)+'.csv', index=False)\n",
    "i=2\n",
    "sub_df[\"HasDetections\"] = arr_y_pred[i]\n",
    "sub_df.to_csv('submit'+str(i)+'.csv', index=False)\n",
    "i=3\n",
    "sub_df[\"HasDetections\"] = arr_y_pred[i]\n",
    "sub_df.to_csv('submit'+str(i)+'.csv', index=False)\n",
    "\n",
    "sub_df[\"HasDetections\"] = np.mean(np.array(arr_y_pred).T, axis=1)\n",
    "sub_df.to_csv('submit_ans.csv', index=False)\n",
    "#sub_df[:10]"
   ]
  },
  {
   "cell_type": "code",
   "execution_count": null,
   "metadata": {},
   "outputs": [],
   "source": [
    "#END\n",
    "\n",
    "\n",
    "\n",
    "\n",
    "\n",
    "#TESTS"
   ]
  },
  {
   "cell_type": "code",
   "execution_count": 2,
   "metadata": {},
   "outputs": [
    {
     "name": "stdout",
     "output_type": "stream",
     "text": [
      "(8921483, 82)\n",
      "Wall time: 5min 2s\n"
     ]
    }
   ],
   "source": [
    "%%time\n",
    "def load(x):\n",
    "    if x in ['MachineIdentifier']: return False\n",
    "    else: return True\n",
    "    \n",
    "df_train = pd.read_csv('d:/input/train.csv', dtype='category', usecols=load, encoding='utf-8')#, nrows=1000000)\n",
    "df_train['HasDetections'] = df_train['HasDetections'].astype('int8')\n",
    "print(df_train.shape)"
   ]
  },
  {
   "cell_type": "markdown",
   "metadata": {},
   "source": [
    "%%time\n",
    "arr = []\n",
    "for col in df_train:\n",
    "    vc = df_train[col].value_counts(dropna=True)\n",
    "    arr.append([col, len(vc), len(df_train[pd.isnull(df_train[col])]), vc.argmax(), vc.max(), vc.argmin(), vc.min()])\n",
    "df_desc = pd.DataFrame(arr, columns=['feat','count','na_count','max_value','max_count','min_value','min_count']).sort_values('count')\n",
    "df_desc.sort_values('na_count', ascending=False)"
   ]
  },
  {
   "cell_type": "code",
   "execution_count": 2,
   "metadata": {},
   "outputs": [
    {
     "data": {
      "text/plain": [
       "array(['640', '800', '800', '848', '960', '1024', '1024', '1152', '1200',\n",
       "       '1280', '1280', '1280', '1440', '1400', '1536', '1536', '1600',\n",
       "       '1600', '1600', '1680', '1920', '1920', '2048', '2048', '2048',\n",
       "       '2560', '2560', '2560', '3072', '3200', '3200', '3200', '3440',\n",
       "       '3840', '3840', '4096', '4128', '4128', '5120', '5120', '5120',\n",
       "       '5120', '5120', '6144', '6400', '6400', '7168', '7680', '7680',\n",
       "       '8192', '1360', '1366', '1368', '2736', '3000', '3360', '5760',\n",
       "       '480', '480', '600', '480', '540', '600', '768', '864', '600',\n",
       "       '720', '768', '1024', '900', '1050', '960', '1024', '900', '1024',\n",
       "       '1200', '1050', '1080', '1200', '1080', '1152', '1536', '1440',\n",
       "       '1600', '2048', '1620', '1800', '2048', '2400', '1440', '2400',\n",
       "       '2160', '2160', '2322', '3096', '2160', '2700', '2880', '3840',\n",
       "       '4096', '3240', '4096', '4800', '3780', '4320', '4800', '4320',\n",
       "       '768', '768', '768', '1824', '2000', '2100', '2160'], dtype='<U4')"
      ]
     },
     "execution_count": 2,
     "metadata": {},
     "output_type": "execute_result"
    }
   ],
   "source": [
    "a = '''\n",
    "VGA\t640×480\t4:3\t307,2 кпикс\n",
    "WVGA\t800×480\t5:3\t384 кпикс\n",
    "SVGA\t800×600\t4:3\t480 кпикс\n",
    "FWVGA\t848×480\t16:9\t409,92 кпикс\n",
    "qHD\t960×540\t16:9\t518,4 кпикс\n",
    "WSVGA\t1024×600\t128:75\t614,4 кпикс\n",
    "XGA\t1024×768\t4:3\t786,432 кпикс\n",
    "XGA+\t1152×864\t4:3\t995,3 кпикс\n",
    "WXVGA\t1200×600\t2:1\t720 кпикс\n",
    "HD 720p\t1280×720\t16:9\t921,6 кпикс\n",
    "WXGA\t1280×768\t5:3\t983,04 кпикс\n",
    "SXGA\t1280×1024\t5:4\t1,31 Мпикс\n",
    "WXGA+\t1440×900\t8:5\t1,296 Мпикс\n",
    "SXGA+\t1400×1050\t4:3\t1,47 Мпикс\n",
    "XJXGA\t1536×960\t8:5\t1,475 Мпикс\n",
    "WSXGA (?)\t1536×1024\t3:2\t1,57 Мпикс\n",
    "WXGA++\t1600×900\t16:9\t1,44 Мпикс\n",
    "WSXGA\t1600×1024\t25:16\t1,64 Мпикс\n",
    "UXGA\t1600×1200\t4:3\t1,92 Мпикс\n",
    "WSXGA+\t1680×1050\t8:5\t1,76 Мпикс\n",
    "Full HD 1080p\t1920×1080\t16:9\t2,07 Мпикс\n",
    "WUXGA\t1920×1200\t8:5\t2,3 Мпикс\n",
    "2K\t2048×1080\t256:135\t2,2 Мпикс\n",
    "QWXGA\t2048×1152\t16:9\t2,36 Мпикс\n",
    "QXGA\t2048×1536\t4:3\t3,15 Мпикс\n",
    "WQXGA / Quad HD 1440p\t2560×1440\t16:9\t3,68 Мпикс\n",
    "WQXGA\t2560×1600\t8:5\t4,09 Мпикс\n",
    "QSXGA\t2560×2048\t5:4\t5,24 Мпикс\n",
    "3K\t3072×1620\t256:135\t4,97 Мпикс\n",
    "WQXGA\t3200×1800\t16:9\t5,76 Мпикс\n",
    "WQSXGA\t3200×2048\t25:16\t6,55 Мпикс\n",
    "QUXGA\t3200×2400\t4:3\t7,68 Мпикс\n",
    "QHD\t3440×1440\t43:18\t4.95 Мпикс\n",
    "WQUXGA\t3840×2400\t8:5\t9,2 Мпикс\n",
    "4K UHD (Ultra HD) 2160p\t3840×2160\t16:9\t8,3 Мпикс\n",
    "4K UHD\t4096×2160\t256:135\t8,8 Мпикс\n",
    "4128×2322\t16:9\t9,6 Мпикс\n",
    "4128×3096\t4:3\t12,78 Мпикс\n",
    "5120×2160\t21:9\t11,05 Мпикс\n",
    "5K UHD\t5120×2700\t256:135\t13,82 Мпикс\n",
    "5120×2880\t16:9\t14,74 Мпикс\n",
    "5120×3840\t4:3\t19,66 Мпикс\n",
    "HSXGA\t5120×4096\t5:4\t20,97 Мпикс\n",
    "6K UHD\t6144×3240\t256:135\t19,90 Мпикс\n",
    "WHSXGA\t6400×4096\t25:16\t26,2 Мпикс\n",
    "HUXGA\t6400×4800\t4:3\t30,72 Мпикс\n",
    "7K UHD\t7168×3780\t256:135\t27,09 Мпикс\n",
    "8K UHD (Ultra HD) 4320p / Super Hi-Vision\t7680×4320\t16:9\t33,17 Мпикс\n",
    "WHUXGA\t7680×4800\t8:5\t36,86 Мпикс\n",
    "8K UHD\t8192×4320\t256:135\t35,2 Мпикс\n",
    "\n",
    "WXGA\t1360×768\t5:3\t983,04 кпикс\n",
    "WXGA\t1366×768\t5:3\t983,04 кпикс\n",
    "WXGA\t1368×768\t5:3\t983,04 кпикс\n",
    "MS Surface\t2736×1824\t5:4\t5,24 Мпикс\n",
    "Microsoft Surface Book, Huawei Matebook X Pro[19]\t3000×2000\n",
    "Macbook Pro Retina 3360×2100\n",
    "SuperWS 5760×2160'''\n",
    "\n",
    "import re\n",
    "screen_list = np.concatenate([re.findall('(\\d{3,4})×', a),re.findall('×(\\d{3,4})', a)])\n",
    "screen_list"
   ]
  },
  {
   "cell_type": "markdown",
   "metadata": {},
   "source": [
    "x = df_train[:50000].apply(lambda row: row['Census_InternalPrimaryDisplayResolutionHorizontal'] \n",
    "                         if (row['Census_InternalPrimaryDisplayResolutionHorizontal'] in screen_list) \n",
    "                         else '---'+str(row['Census_InternalPrimaryDisplayResolutionHorizontal']), axis=1)\n",
    "x[(x.str[:3]=='---')&(x.str[-3:]!='nan')]"
   ]
  },
  {
   "cell_type": "markdown",
   "metadata": {},
   "source": [
    "x = df_train[:50000].apply(lambda row: row['Census_InternalPrimaryDisplayResolutionVertical'] \n",
    "                         if (row['Census_InternalPrimaryDisplayResolutionVertical'] in screen_list) \n",
    "                         else '---'+str(row['Census_InternalPrimaryDisplayResolutionVertical']), axis=1)\n",
    "x[(x.str[:3]=='---')&(x.str[-3:]!='nan')]"
   ]
  },
  {
   "cell_type": "markdown",
   "metadata": {},
   "source": [
    "df_train[df_train['Census_InternalPrimaryDisplayResolutionHorizontal']=='5760']"
   ]
  },
  {
   "cell_type": "markdown",
   "metadata": {},
   "source": [
    "%%time\n",
    "batch_size=1000000\n",
    "Census_IsVirtualDevice2 = []\n",
    "#Set correct Census_IsVirtualDevice via ScreenResolution\n",
    "for b in range(0, len(df_train), batch_size):\n",
    "    print(len(df_train[b:b+batch_size]))\n",
    "    Census_IsVirtualDevice2 = np.concatenate([ Census_IsVirtualDevice2, pd.concat( pool.map( oper_1, pd.np.array_split(df_train[b:b+batch_size], cpus) ) ) ])\n",
    "len(Census_IsVirtualDevice2)"
   ]
  },
  {
   "cell_type": "markdown",
   "metadata": {},
   "source": [
    "import gc\n",
    "gc.collect()"
   ]
  },
  {
   "cell_type": "code",
   "execution_count": 4,
   "metadata": {},
   "outputs": [
    {
     "name": "stdout",
     "output_type": "stream",
     "text": [
      "Start: 12:42:43\n",
      "250000 250000 250000 250000 250000 250000 250000 250000 250000 250000 250000 250000 250000 250000 250000 250000 250000 250000 250000 250000 250000 250000 250000 250000 250000 250000 250000 250000 250000 250000 250000 250000 250000 250000 250000 171483 \n",
      "Total objects: 8921483 \n",
      "Virtual machines found via non-standard screen resolution: 74890\n",
      "Census_IsVirtualDevice NaN: 15934\n",
      "Finish: 12:57:43\n"
     ]
    }
   ],
   "source": [
    "def oper_1(df):\n",
    "    return df.apply(lambda row: '1' if (row['Census_InternalPrimaryDisplayResolutionHorizontal'] not in screen_list) & (row['Census_InternalPrimaryDisplayResolutionVertical'] not in screen_list) &\n",
    "                                       pd.notnull(row['Census_InternalPrimaryDisplayResolutionHorizontal']) & pd.notnull(row['Census_InternalPrimaryDisplayResolutionVertical']) else \n",
    "                                 row['Census_IsVirtualDevice'], axis=1)\n",
    "\n",
    "batch_size=250000\n",
    "Census_IsVirtualDevice = []\n",
    "#Set correct Census_IsVirtualDevice via ScreenResolution\n",
    "print('Start:', time.ctime()[11:-5])\n",
    "for b in range(0, len(df_train), batch_size):\n",
    "    Census_IsVirtualDevice = np.concatenate([ Census_IsVirtualDevice, oper_1(df_train[b:b+batch_size]) ])\n",
    "    print(len(df_train[b:b+batch_size]), end=' ')\n",
    "\n",
    "print('\\nTotal objects:', len(Census_IsVirtualDevice), '\\nVirtual machines found via non-standard screen resolution:', len(Census_IsVirtualDevice[Census_IsVirtualDevice=='1']))\n",
    "print('Census_IsVirtualDevice NaN:', len(Census_IsVirtualDevice[pd.isnull(Census_IsVirtualDevice)]))\n",
    "pd.Series(Census_IsVirtualDevice).to_csv('Census_IsVirtualDevice_train.csv')\n",
    "print('Finish:', time.ctime()[11:-5])"
   ]
  },
  {
   "cell_type": "markdown",
   "metadata": {},
   "source": [
    "%%time\n",
    "import multiprocessing\n",
    "\n",
    "def oper_1(df):\n",
    "    return df.apply(lambda row: '1' if (row['Census_InternalPrimaryDisplayResolutionHorizontal'] not in screen_list) & (row['Census_InternalPrimaryDisplayResolutionVertical'] not in screen_list) &\n",
    "                                       pd.notna(row['Census_InternalPrimaryDisplayResolutionHorizontal']) & pd.notna(row['Census_InternalPrimaryDisplayResolutionVertical']) else \n",
    "                                 row['Census_IsVirtualDevice'], axis=1)\n",
    "\n",
    "try: # Delete MP pool, if it present!\n",
    "    pool.terminate()\n",
    "    print('old pool deleted!')\n",
    "except NameError:\n",
    "    print('pool absent!')\n",
    "\n",
    "try: # try to use MP, get proc count\n",
    "    cpus = multiprocessing.cpu_count()\n",
    "except NotImplementedError:\n",
    "    cpus = 2   # arbitrary default\n",
    "#cpus=4 # Set lower proc count, if memory not enough\n",
    "print('Use', cpus, 'threads')\n",
    "\n",
    "pool = multiprocessing.Pool(processes=cpus)\n",
    "\n",
    "batch_size=250000\n",
    "Census_IsVirtualDevice = []\n",
    "#Set correct Census_IsVirtualDevice via ScreenResolution\n",
    "for b in range(0, len(df_train), batch_size):\n",
    "    Census_IsVirtualDevice = np.concatenate([ Census_IsVirtualDevice, pd.concat( pool.map( oper_1, pd.np.array_split(df_train[b:b+batch_size], cpus) ) ) ])\n",
    "    print(len(df_train[b:b+batch_size]), end=' ')\n",
    "\n",
    "pool.terminate()\n",
    "\n",
    "print('\\nTotal objects:', len(Census_IsVirtualDevice), '\\nVirtual machines found via non-standard screen resolution:', len(Census_IsVirtualDevice[Census_IsVirtualDevice=='1']))\n",
    "print('Census_IsVirtualDevice NaN:', len(Census_IsVirtualDevice[pd.isna(Census_IsVirtualDevice)]))\n",
    "pd.Series(Census_IsVirtualDevice).to_csv('Census_IsVirtualDevice_train.csv')"
   ]
  },
  {
   "cell_type": "code",
   "execution_count": 5,
   "metadata": {},
   "outputs": [
    {
     "data": {
      "text/plain": [
       "0      8842840\n",
       "1        62690\n",
       "NaN      15953\n",
       "Name: Census_IsVirtualDevice, dtype: int64"
      ]
     },
     "execution_count": 5,
     "metadata": {},
     "output_type": "execute_result"
    }
   ],
   "source": [
    "df_train['Census_IsVirtualDevice'].value_counts(dropna=False)"
   ]
  },
  {
   "cell_type": "code",
   "execution_count": 6,
   "metadata": {},
   "outputs": [
    {
     "data": {
      "text/plain": [
       "0      8830659\n",
       "1        74890\n",
       "NaN      15934\n",
       "Name: Census_IsVirtualDevice, dtype: int64"
      ]
     },
     "execution_count": 6,
     "metadata": {},
     "output_type": "execute_result"
    }
   ],
   "source": [
    "df_train['Census_IsVirtualDevice'] = Census_IsVirtualDevice\n",
    "df_train['Census_IsVirtualDevice'] = df_train['Census_IsVirtualDevice'].astype('category')\n",
    "df_train['Census_IsVirtualDevice'].value_counts(dropna=False)"
   ]
  },
  {
   "cell_type": "code",
   "execution_count": 7,
   "metadata": {},
   "outputs": [
    {
     "name": "stdout",
     "output_type": "stream",
     "text": [
      "Wall time: 5min 28s\n"
     ]
    }
   ],
   "source": [
    "%%time\n",
    "df_train.to_csv('D:/input/train2.csv', encoding='utf-8')"
   ]
  },
  {
   "cell_type": "code",
   "execution_count": null,
   "metadata": {
    "collapsed": true
   },
   "outputs": [],
   "source": [
    "#STOP\n",
    "\n",
    "\n",
    "\n",
    "\n",
    "\n",
    "\n",
    "\n",
    "\n",
    "#TEST"
   ]
  },
  {
   "cell_type": "code",
   "execution_count": null,
   "metadata": {
    "collapsed": true
   },
   "outputs": [],
   "source": [
    "%%time\n",
    "#998217 998212\n",
    "df_train['Census_IsVirtualDevice'] = Census_IsVirtualDevice\n",
    "df_train['Census_IsVirtualDevice2'] = df_train['Census_IsVirtualDevice2'].astype('category')\n",
    "df_train['Census_IsVirtualDevice2'].value_counts(dropna=False)"
   ]
  },
  {
   "cell_type": "code",
   "execution_count": 14,
   "metadata": {},
   "outputs": [
    {
     "name": "stdout",
     "output_type": "stream",
     "text": [
      "CPU times: user 1min 48s, sys: 788 ms, total: 1min 48s\n",
      "Wall time: 1min 46s\n"
     ]
    }
   ],
   "source": [
    "%%time\n",
    "#998217 998212\n",
    "df_train['Census_IsVirtualDevice'] = df_train.apply(lambda row: '1' if (row['Census_IsVirtualDevice']!='1')&(row['Census_IsVirtualDevice2']=='1') else row['Census_IsVirtualDevice'], axis=1)\n",
    "df_train = df_train.iloc[:, :-1]#drop('Census_IsVirtualDevice2')\n",
    "df_train['Census_IsVirtualDevice'].value_counts(dropna=False)"
   ]
  },
  {
   "cell_type": "code",
   "execution_count": 17,
   "metadata": {},
   "outputs": [
    {
     "data": {
      "text/plain": [
       "(8836892, 37605, 46986)"
      ]
     },
     "execution_count": 17,
     "metadata": {},
     "output_type": "execute_result"
    }
   ],
   "source": [
    "len(Census_IsVirtualDevice2[Census_IsVirtualDevice2==0]), len(Census_IsVirtualDevice2[Census_IsVirtualDevice2==1]), len(Census_IsVirtualDevice2[pd.isna(Census_IsVirtualDevice2)])"
   ]
  },
  {
   "cell_type": "code",
   "execution_count": 43,
   "metadata": {
    "collapsed": true
   },
   "outputs": [],
   "source": [
    "df_train['Census_IsVirtualDevice2'] = Census_IsVirtualDevice2\n",
    "df_train['Census_IsVirtualDevice2'] = df_train['Census_IsVirtualDevice2'].astype('category')"
   ]
  },
  {
   "cell_type": "code",
   "execution_count": 58,
   "metadata": {
    "collapsed": true
   },
   "outputs": [],
   "source": [
    "df_train['Census_IsVirtualDevice2'] = df_train['Census_IsVirtualDevice2'].apply(lambda x: '0' if x==0 else '1' if x==1 else x)"
   ]
  },
  {
   "cell_type": "code",
   "execution_count": 56,
   "metadata": {
    "collapsed": true
   },
   "outputs": [],
   "source": [
    "df_train['Census_IsVirtualDevice2'] = df_train['Census_IsVirtualDevice2'].apply(lambda x: int(0) if x=='0' else int(1) if x=='1' else x).astype('int8', errors='ignore')"
   ]
  },
  {
   "cell_type": "code",
   "execution_count": 49,
   "metadata": {},
   "outputs": [
    {
     "data": {
      "text/plain": [
       "0      8836892\n",
       "NaN      46986\n",
       "1        37605\n",
       "Name: Census_IsVirtualDevice2, dtype: int64"
      ]
     },
     "execution_count": 49,
     "metadata": {},
     "output_type": "execute_result"
    }
   ],
   "source": [
    "df_train['Census_IsVirtualDevice2'].value_counts(dropna=False)"
   ]
  },
  {
   "cell_type": "code",
   "execution_count": 62,
   "metadata": {},
   "outputs": [
    {
     "data": {
      "text/plain": [
       "0      8842840\n",
       "1        62690\n",
       "NaN      15953\n",
       "Name: Census_IsVirtualDevice, dtype: int64"
      ]
     },
     "execution_count": 62,
     "metadata": {},
     "output_type": "execute_result"
    }
   ],
   "source": [
    "df_train['Census_IsVirtualDevice'].value_counts(dropna=False)"
   ]
  },
  {
   "cell_type": "code",
   "execution_count": 63,
   "metadata": {},
   "outputs": [
    {
     "data": {
      "text/plain": [
       "8858793"
      ]
     },
     "execution_count": 63,
     "metadata": {},
     "output_type": "execute_result"
    }
   ],
   "source": [
    "len(df_train[df_train['Census_IsVirtualDevice']!='1'])"
   ]
  },
  {
   "cell_type": "markdown",
   "metadata": {},
   "source": [
    "%%time\n",
    "df_train['Census_IsVirtualDevice2'] = df_train['Census_IsVirtualDevice2'].apply(lambda x: '0' if x=='1' else '1')"
   ]
  },
  {
   "cell_type": "code",
   "execution_count": 67,
   "metadata": {},
   "outputs": [
    {
     "data": {
      "text/plain": [
       "1.8710490151168118"
      ]
     },
     "execution_count": 67,
     "metadata": {},
     "output_type": "execute_result"
    }
   ],
   "source": [
    "len(df_train[ (df_train['Census_IsVirtualDevice2']=='1')&(df_train['HasDetections']==0)] )/len(df_train[(df_train['Census_IsVirtualDevice2']=='1')&(df_train['HasDetections']==1)])"
   ]
  },
  {
   "cell_type": "code",
   "execution_count": 68,
   "metadata": {},
   "outputs": [
    {
     "data": {
      "text/plain": [
       "4.150345054222806"
      ]
     },
     "execution_count": 68,
     "metadata": {},
     "output_type": "execute_result"
    }
   ],
   "source": [
    "len(df_train[ (df_train['Census_IsVirtualDevice']=='1')&(df_train['HasDetections']==0)] )/len(df_train[(df_train['Census_IsVirtualDevice']=='1')&(df_train['HasDetections']==1)])"
   ]
  },
  {
   "cell_type": "code",
   "execution_count": 69,
   "metadata": {
    "collapsed": true
   },
   "outputs": [],
   "source": [
    "df_train['Census_IsVirtualDevice'].loc[(df_train[(df_train['Census_IsVirtualDevice']!='1')&(df_train['Census_IsVirtualDevice2']=='1')].index)] = '1'"
   ]
  },
  {
   "cell_type": "code",
   "execution_count": 70,
   "metadata": {},
   "outputs": [
    {
     "data": {
      "text/plain": [
       "2.761368692711578"
      ]
     },
     "execution_count": 70,
     "metadata": {},
     "output_type": "execute_result"
    }
   ],
   "source": [
    "len(df_train[ (df_train['Census_IsVirtualDevice']=='1')&(df_train['HasDetections']==0)] )/len(df_train[(df_train['Census_IsVirtualDevice']=='1')&(df_train['HasDetections']==1)])"
   ]
  },
  {
   "cell_type": "code",
   "execution_count": null,
   "metadata": {
    "collapsed": true
   },
   "outputs": [],
   "source": [
    "df_train[(df_train['Census_IsVirtualDevice2']=='1')&(df_train['HasDetections']==1)]['Census_InternalPrimaryDisplayResolutionVertical']"
   ]
  },
  {
   "cell_type": "code",
   "execution_count": 35,
   "metadata": {},
   "outputs": [
    {
     "data": {
      "text/plain": [
       "0      8842840\n",
       "1        62690\n",
       "NaN      15953\n",
       "Name: Census_IsVirtualDevice, dtype: int64"
      ]
     },
     "execution_count": 35,
     "metadata": {},
     "output_type": "execute_result"
    }
   ],
   "source": [
    "df_train['Census_IsVirtualDevice'].value_counts(dropna=False)"
   ]
  },
  {
   "cell_type": "code",
   "execution_count": 36,
   "metadata": {},
   "outputs": [
    {
     "data": {
      "text/plain": [
       " 0.0    8836892\n",
       "NaN       46986\n",
       " 1.0      37605\n",
       "Name: Census_IsVirtualDevice2, dtype: int64"
      ]
     },
     "execution_count": 36,
     "metadata": {},
     "output_type": "execute_result"
    }
   ],
   "source": [
    "df_train['Census_IsVirtualDevice2'].value_counts(dropna=False)"
   ]
  },
  {
   "cell_type": "code",
   "execution_count": null,
   "metadata": {
    "collapsed": true
   },
   "outputs": [],
   "source": [
    "\n",
    "\n"
   ]
  },
  {
   "cell_type": "code",
   "execution_count": null,
   "metadata": {
    "collapsed": true
   },
   "outputs": [],
   "source": [
    "len(df_train[(df_train['Census_IsVirtualDevice']=='1')]), len(df_train[(df_train['Census_IsVirtualDevice']=='1')&(df_train['HasDetections']==1)])"
   ]
  },
  {
   "cell_type": "code",
   "execution_count": null,
   "metadata": {
    "collapsed": true
   },
   "outputs": [],
   "source": [
    "df_train[(df_train['HasDetections']==1)]['Census_InternalPrimaryDisplayResolutionHorizontal'].value_counts().sort_index()"
   ]
  },
  {
   "cell_type": "markdown",
   "metadata": {},
   "source": [
    "df_train['Census_SystemVolumeTotalCapacity2'] = df_train['Census_SystemVolumeTotalCapacity'].fillna('476389').astype(float)/1024\n",
    "pd.DataFrame(df_train.Census_SystemVolumeTotalCapacity2.value_counts(ascending=False)).sort_index()"
   ]
  },
  {
   "cell_type": "code",
   "execution_count": 29,
   "metadata": {},
   "outputs": [
    {
     "data": {
      "text/plain": [
       "Float64Index([       16.0,        32.0,         8.0,        64.0,        24.0,\n",
       "                     48.0,        12.0,       128.0,         4.0,        96.0,\n",
       "              ...\n",
       "                14.328125,     14.3125,     32.8125,       143.0,  14.2890625,\n",
       "                 14.28125,       14.25, 14.19140625,     14.1875, 13.37109375],\n",
       "             dtype='float64', length=3700)"
      ]
     },
     "execution_count": 29,
     "metadata": {},
     "output_type": "execute_result"
    }
   ],
   "source": [
    "mm = df_test['Census_TotalPhysicalRAM'].value_counts()\n",
    "mm.index.astype(int)/1024"
   ]
  },
  {
   "cell_type": "code",
   "execution_count": null,
   "metadata": {
    "collapsed": true
   },
   "outputs": [],
   "source": [
    "# Census_InternalBatteryNumberOfCharges to 0-100%"
   ]
  },
  {
   "cell_type": "code",
   "execution_count": null,
   "metadata": {
    "collapsed": true
   },
   "outputs": [],
   "source": [
    "#END TEST\n",
    "\n",
    "\n",
    "\n",
    "\n",
    "\n",
    "\n",
    "\n",
    "\n",
    "\n",
    "#START"
   ]
  },
  {
   "cell_type": "code",
   "execution_count": 8,
   "metadata": {
    "scrolled": true
   },
   "outputs": [
    {
     "name": "stdout",
     "output_type": "stream",
     "text": [
      "(7853253, 81)\n",
      "Wall time: 3min 17s\n"
     ]
    }
   ],
   "source": [
    "%%time\n",
    "def load(x):\n",
    "    if x in ['MachineIdentifier']: return False\n",
    "    else: return True\n",
    "    \n",
    "df_test = pd.read_csv('d:/input/test.csv', dtype='category', usecols=load, encoding='utf-8')#, nrows=2000000)\n",
    "print(df_test.shape)"
   ]
  },
  {
   "cell_type": "code",
   "execution_count": 9,
   "metadata": {},
   "outputs": [
    {
     "name": "stdout",
     "output_type": "stream",
     "text": [
      "Start: 13:06:30\n",
      "250000 250000 250000 250000 250000 250000 250000 250000 250000 250000 250000 250000 250000 250000 250000 250000 250000 250000 250000 250000 250000 250000 250000 250000 250000 250000 250000 250000 250000 250000 250000 103253 \n",
      "Total objects: 7853253 \n",
      "Virtual machines found via non-standard screen resolution: 76111\n",
      "Census_IsVirtualDevice NaN: 17279\n",
      "Finish: 13:19:43\n"
     ]
    }
   ],
   "source": [
    "def oper_1(df):\n",
    "    return df.apply(lambda row: '1' if (row['Census_InternalPrimaryDisplayResolutionHorizontal'] not in screen_list) & (row['Census_InternalPrimaryDisplayResolutionVertical'] not in screen_list) &\n",
    "                                       pd.notnull(row['Census_InternalPrimaryDisplayResolutionHorizontal']) & pd.notnull(row['Census_InternalPrimaryDisplayResolutionVertical']) else \n",
    "                                 row['Census_IsVirtualDevice'], axis=1)\n",
    "\n",
    "batch_size=250000\n",
    "Census_IsVirtualDevice = []\n",
    "#Set correct Census_IsVirtualDevice via ScreenResolution\n",
    "print('Start:', time.ctime()[11:-5])\n",
    "for b in range(0, len(df_test), batch_size):\n",
    "    Census_IsVirtualDevice = np.concatenate([ Census_IsVirtualDevice, oper_1(df_test[b:b+batch_size]) ])\n",
    "    print(len(df_test[b:b+batch_size]), end=' ')\n",
    "\n",
    "print('\\nTotal objects:', len(Census_IsVirtualDevice), '\\nVirtual machines found via non-standard screen resolution:', len(Census_IsVirtualDevice[Census_IsVirtualDevice=='1']))\n",
    "print('Census_IsVirtualDevice NaN:', len(Census_IsVirtualDevice[pd.isnull(Census_IsVirtualDevice)]))\n",
    "pd.Series(Census_IsVirtualDevice).to_csv('Census_IsVirtualDevice_test.csv')\n",
    "print('Finish:', time.ctime()[11:-5])"
   ]
  },
  {
   "cell_type": "markdown",
   "metadata": {},
   "source": [
    "%%time\n",
    "import multiprocessing\n",
    "\n",
    "def oper_1(df):\n",
    "    return df.apply(lambda row: '1' if (row['Census_InternalPrimaryDisplayResolutionHorizontal'] not in screen_list) & (row['Census_InternalPrimaryDisplayResolutionVertical'] not in screen_list) &\n",
    "                                       pd.notna(row['Census_InternalPrimaryDisplayResolutionHorizontal']) & pd.notna(row['Census_InternalPrimaryDisplayResolutionVertical']) else \n",
    "                                 row['Census_IsVirtualDevice'], axis=1)\n",
    "\n",
    "try: # Delete MP pool, if it present!\n",
    "    pool.terminate()\n",
    "    print('old pool deleted!')\n",
    "except NameError:\n",
    "    print('pool absent!')\n",
    "\n",
    "try: # try to use MP, get proc count\n",
    "    cpus = multiprocessing.cpu_count()\n",
    "except NotImplementedError:\n",
    "    cpus = 2   # arbitrary default\n",
    "cpus=4 # Set lower proc count, if memory not enough\n",
    "print('Use', cpus, 'threads')\n",
    "\n",
    "pool = multiprocessing.Pool(processes=cpus)\n",
    "\n",
    "batch_size=200000\n",
    "Census_IsVirtualDevice = []\n",
    "#Set correct Census_IsVirtualDevice via ScreenResolution\n",
    "for b in range(0, len(df_test), batch_size):\n",
    "    print(len(df_test[b:b+batch_size]), end=' ')\n",
    "    Census_IsVirtualDevice = np.concatenate([ Census_IsVirtualDevice, pd.concat( pool.map( oper_1, pd.np.array_split(df_test[b:b+batch_size], cpus) ) ) ])\n",
    "\n",
    "pool.terminate()\n",
    "\n",
    "print('\\nTotal objects:', len(Census_IsVirtualDevice), '\\nVirtual machines found via non-standard screen resolution:', len(Census_IsVirtualDevice[Census_IsVirtualDevice=='1']))\n",
    "print('Census_IsVirtualDevice NaN:', len(Census_IsVirtualDevice[pd.isna(Census_IsVirtualDevice)]))\n",
    "pd.Series(Census_IsVirtualDevice).to_csv('Census_IsVirtualDevice_test.csv')"
   ]
  },
  {
   "cell_type": "code",
   "execution_count": 10,
   "metadata": {},
   "outputs": [
    {
     "data": {
      "text/plain": [
       "0      7771328\n",
       "1        64634\n",
       "NaN      17291\n",
       "Name: Census_IsVirtualDevice, dtype: int64"
      ]
     },
     "execution_count": 10,
     "metadata": {},
     "output_type": "execute_result"
    }
   ],
   "source": [
    "df_test['Census_IsVirtualDevice'].value_counts(dropna=False)"
   ]
  },
  {
   "cell_type": "code",
   "execution_count": 11,
   "metadata": {},
   "outputs": [
    {
     "data": {
      "text/plain": [
       "0      7759863\n",
       "1        76111\n",
       "NaN      17279\n",
       "Name: Census_IsVirtualDevice, dtype: int64"
      ]
     },
     "execution_count": 11,
     "metadata": {},
     "output_type": "execute_result"
    }
   ],
   "source": [
    "df_test['Census_IsVirtualDevice'] = Census_IsVirtualDevice\n",
    "df_test['Census_IsVirtualDevice'] = df_test['Census_IsVirtualDevice'].astype('category')\n",
    "df_test['Census_IsVirtualDevice'].value_counts(dropna=False)"
   ]
  },
  {
   "cell_type": "code",
   "execution_count": null,
   "metadata": {},
   "outputs": [
    {
     "name": "stdout",
     "output_type": "stream",
     "text": [
      "Wall time: 4min 35s\n"
     ]
    }
   ],
   "source": [
    "%%time\n",
    "df_test.to_csv('D:/input/test2.csv', encoding='utf-8')"
   ]
  },
  {
   "cell_type": "code",
   "execution_count": null,
   "metadata": {
    "collapsed": true
   },
   "outputs": [],
   "source": [
    "#END\n",
    "\n",
    "\n",
    "\n",
    "\n",
    "\n"
   ]
  },
  {
   "cell_type": "code",
   "execution_count": 37,
   "metadata": {},
   "outputs": [
    {
     "data": {
      "text/plain": [
       "[array([0.52459461, 0.61365056, 0.40853752, 0.30270648, 0.50174165,\n",
       "        0.47203057, 0.28142489, 0.3227497 , 0.48214937, 0.22093096,\n",
       "        0.34149562, 0.47518184, 0.46467314, 0.64313697, 0.46153242,\n",
       "        0.51038097, 0.34477272, 0.27479118, 0.48422589, 0.42163987,\n",
       "        0.27079396, 0.84909159, 0.62759151, 0.59237769, 0.52020573,\n",
       "        0.68824319, 0.50541604, 0.41370924, 0.43586667, 0.29491575,\n",
       "        0.26677778, 0.51950646, 0.29453757, 0.26035104, 0.44094836,\n",
       "        0.60768271, 0.45933998, 0.32560008, 0.52041685, 0.17848765,\n",
       "        0.29439188, 0.45740024, 0.22996085, 0.4156397 , 0.42521942,\n",
       "        0.41468662, 0.38665748, 0.38961732, 0.63323365, 0.17209786]),\n",
       " array([10.52459461, 10.61365056, 10.40853752, 10.30270648, 10.50174165,\n",
       "        10.47203057, 10.28142489, 10.3227497 , 10.48214937, 10.22093096,\n",
       "        10.34149562, 10.47518184, 10.46467314, 10.64313697, 10.46153242,\n",
       "        10.51038097, 10.34477272, 10.27479118, 10.48422589, 10.42163987,\n",
       "        10.27079396, 10.84909159, 10.62759151, 10.59237769, 10.52020573,\n",
       "        10.68824319, 10.50541604, 10.41370924, 10.43586667, 10.29491575,\n",
       "        10.26677778, 10.51950646, 10.29453757, 10.26035104, 10.44094836,\n",
       "        10.60768271, 10.45933998, 10.32560008, 10.52041685, 10.17848765,\n",
       "        10.29439188, 10.45740024, 10.22996085, 10.4156397 , 10.42521942,\n",
       "        10.41468662, 10.38665748, 10.38961732, 10.63323365, 10.17209786]),\n",
       " array([20.52459461, 20.61365056, 20.40853752, 20.30270648, 20.50174165,\n",
       "        20.47203057, 20.28142489, 20.3227497 , 20.48214937, 20.22093096,\n",
       "        20.34149562, 20.47518184, 20.46467314, 20.64313697, 20.46153242,\n",
       "        20.51038097, 20.34477272, 20.27479118, 20.48422589, 20.42163987,\n",
       "        20.27079396, 20.84909159, 20.62759151, 20.59237769, 20.52020573,\n",
       "        20.68824319, 20.50541604, 20.41370924, 20.43586667, 20.29491575,\n",
       "        20.26677778, 20.51950646, 20.29453757, 20.26035104, 20.44094836,\n",
       "        20.60768271, 20.45933998, 20.32560008, 20.52041685, 20.17848765,\n",
       "        20.29439188, 20.45740024, 20.22996085, 20.4156397 , 20.42521942,\n",
       "        20.41468662, 20.38665748, 20.38961732, 20.63323365, 20.17209786])]"
      ]
     },
     "execution_count": 37,
     "metadata": {},
     "output_type": "execute_result"
    }
   ],
   "source": [
    "arr_y_pred = []#pd.DataFrame()\n",
    "arr_y_pred.append(batch_pred)\n",
    "arr_y_pred.append(batch_pred+10)\n",
    "arr_y_pred.append(batch_pred+20)\n",
    "arr_y_pred"
   ]
  },
  {
   "cell_type": "code",
   "execution_count": 49,
   "metadata": {},
   "outputs": [
    {
     "data": {
      "text/plain": [
       "array([10.52459461, 10.61365056, 10.40853752, 10.30270648, 10.50174165,\n",
       "       10.47203057, 10.28142489, 10.3227497 , 10.48214937, 10.22093096,\n",
       "       10.34149562, 10.47518184, 10.46467314, 10.64313697, 10.46153242,\n",
       "       10.51038097, 10.34477272, 10.27479118, 10.48422589, 10.42163987,\n",
       "       10.27079396, 10.84909159, 10.62759151, 10.59237769, 10.52020573,\n",
       "       10.68824319, 10.50541604, 10.41370924, 10.43586667, 10.29491575,\n",
       "       10.26677778, 10.51950646, 10.29453757, 10.26035104, 10.44094836,\n",
       "       10.60768271, 10.45933998, 10.32560008, 10.52041685, 10.17848765,\n",
       "       10.29439188, 10.45740024, 10.22996085, 10.4156397 , 10.42521942,\n",
       "       10.41468662, 10.38665748, 10.38961732, 10.63323365, 10.17209786])"
      ]
     },
     "execution_count": 49,
     "metadata": {},
     "output_type": "execute_result"
    }
   ],
   "source": [
    "np.mean(np.array(arr_y_pred).T, axis=1)"
   ]
  },
  {
   "cell_type": "code",
   "execution_count": 9,
   "metadata": {
    "scrolled": true
   },
   "outputs": [
    {
     "name": "stderr",
     "output_type": "stream",
     "text": [
      "/root/anaconda3/lib/python3.6/site-packages/sklearn/cross_validation.py:41: DeprecationWarning:\n",
      "\n",
      "This module was deprecated in version 0.18 in favor of the model_selection module into which all the refactored classes and functions are moved. Also note that the interface of the new CV iterators are different from that of this module. This module will be removed in 0.20.\n",
      "\n",
      "/root/anaconda3/lib/python3.6/site-packages/sklearn/grid_search.py:42: DeprecationWarning:\n",
      "\n",
      "This module was deprecated in version 0.18 in favor of the model_selection module into which all the refactored classes and functions are moved. This module will be removed in 0.20.\n",
      "\n"
     ]
    }
   ],
   "source": [
    "\n",
    "\n",
    "\n",
    "\n",
    "\n",
    "\n",
    "\n",
    "\n",
    "\n",
    "\n",
    "\n",
    "\n",
    "\n",
    "\n",
    "\n",
    "\n",
    "\n",
    "\n",
    "from sklearn.metrics import classification_report\n",
    "from sklearn.model_selection import train_test_split\n",
    "from sklearn.preprocessing import Normalizer\n",
    "from sklearn.metrics import roc_auc_score, precision_score, recall_score, f1_score\n",
    "from sklearn.grid_search import GridSearchCV\n",
    "\n",
    "#CATBOOST\n",
    "import catboost"
   ]
  },
  {
   "cell_type": "code",
   "execution_count": 18,
   "metadata": {},
   "outputs": [
    {
     "name": "stdout",
     "output_type": "stream",
     "text": [
      "[0, 1, 2, 3, 4, 18, 19, 20, 23, 24, 25, 28, 31, 34, 35, 41, 43, 47, 51, 52, 54, 55, 56, 59, 60, 61, 64, 66, 67, 70]\n",
      "\n",
      "Class 1 (0,1) weight multiplier 0.9969327113553582\n"
     ]
    }
   ],
   "source": [
    "# Categorial columns set \n",
    "#cat_features = [0,1,2,3] #Categorial columns\n",
    "cat_features = []\n",
    "for idx, item in enumerate(dtypes.items()):\n",
    "    #print(item[1])\n",
    "    if item[1] not in numerics:#=='category': \n",
    "        cat_features.append(idx)\n",
    "print(cat_features)\n",
    "\n",
    "# Balancing binary classess\n",
    "scale_pos_weight = len(train[train['HasDetections']==0])/len(train[train['HasDetections']==1])*1.\n",
    "print('\\nClass 1 (0,1) weight multiplier', scale_pos_weight)"
   ]
  },
  {
   "cell_type": "code",
   "execution_count": null,
   "metadata": {
    "collapsed": true
   },
   "outputs": [],
   "source": [
    "cat_features = range(len(df_train.columns[:-1]))\n",
    "# Balancing binary classess\n",
    "scale_pos_weight = len(df_train[df_train['HasDetections']==0])/len(df_train[df_train['HasDetections']==1])*1.\n",
    "print('\\nClass 1 (0,1) weight multiplier', scale_pos_weight)"
   ]
  },
  {
   "cell_type": "code",
   "execution_count": null,
   "metadata": {
    "collapsed": true
   },
   "outputs": [],
   "source": [
    "%%time\n",
    "ensemble = 3 #prefer odd number!\n",
    "\n",
    "preds = []\n",
    "\n",
    "y = df_train['HasDetections']\n",
    "X = df_train.iloc[:,:].fillna(0).drop(columns='HasDetections')\n",
    "F = df_test.iloc[:,:].fillna(0)#.drop(columns='HasDetections')\n",
    "from sklearn.model_selection import train_test_split\n",
    "from catboost import CatBoostClassifier#, CatBoostRegressor\n",
    "\n",
    "for i in range(ensemble):\n",
    "    \n",
    "    X_train, X_validation, y_train, y_validation = train_test_split(X, y, train_size=0.632, random_state=i) #train_size=0.632\n",
    "\n",
    "    model = CatBoostClassifier(\n",
    "        iterations=50,\n",
    "        random_seed=i,\n",
    "        depth=5,\n",
    "        l2_leaf_reg=7,\n",
    "        learning_rate=0.9,\n",
    "        eval_metric='Precision', #Logloss,Precision,Recall,F1,BalancedAccuracy,MCC,Accuracy,ZeroOneLoss,CtrFactor,AUC, #eval_metric - VERY SENSITIVE TO PREDICT CLASS SUMM !!!!!\n",
    "        leaf_estimation_method='Gradient',\n",
    "        scale_pos_weight=scale_pos_weight,\n",
    "        cat_features=cat_features\n",
    "    )\n",
    "    model.fit(\n",
    "        X_train, y_train,\n",
    "        eval_set=(X_validation, y_validation),\n",
    "        logging_level='Silent',\n",
    "        plot=True\n",
    "    )\n",
    "    #print('Model is fitted: '+str(model.is_fitted()))\n",
    "    print('Model params:\\n',model.get_params())\n",
    "    \n",
    "    #Feathure importance\n",
    "    importances = model.get_feature_importance(prettified=True)\n",
    "    for i in importances:\n",
    "        print(round(i[1],3), '/', str(i[0].decode('utf-8')), end='\\t')\n",
    "    \n",
    "    y_pred_X = model.predict(X_validation)\n",
    "    print('\\n         Predicted on X dataset: ', model.predict(X).sum(), '\\tfrom real', sum(y))\n",
    "    print('     Predicted on X_train dataset: ', model.predict(X_train).sum(), '\\tfrom real', sum(y_train))\n",
    "    print('Predicted on X_validation dataset: ', model.predict(X_validation).sum(), '\\tfrom real', sum(y_validation))\n",
    "    y_pred = model.predict_proba(F)\n",
    "    print('           Predicted on F dataset: ', sum(y_pred))\n",
    "    preds.append(y_pred)\n",
    "\n",
    "    print('precision:', precision_score(y_validation ,y_pred_X), '\\trecall:', recall_score(y_validation ,y_pred_X), \n",
    "          '\\tF1:', f1_score(y_validation ,y_pred_X), '\\taccuracy:', model.score(X_validation, y_validation))"
   ]
  },
  {
   "cell_type": "code",
   "execution_count": null,
   "metadata": {
    "collapsed": true
   },
   "outputs": [],
   "source": [
    "#Mean of CatBoostClassifier ensemble\n",
    "#np.set_printoptions(threshold=np.nan, linewidth=150)\n",
    "y_pred = np.round(np.round(np.array(preds).T.sum(axis=1)).astype(int)/ensemble)\n",
    "df_predicting['HasDetections'] = y_pred\n",
    "print( np.round(np.array(preds).sum(axis=1).mean()).astype(int), 'mean predicted from', len(y_pred), 'rielty objects' )\n",
    "print( len(df_predicting[df_predicting['HasDetections']==1]), 'ensemble', ensemble, 'contestations predicted from', len(y_pred), 'rielty objects' )"
   ]
  },
  {
   "cell_type": "code",
   "execution_count": null,
   "metadata": {
    "collapsed": true
   },
   "outputs": [],
   "source": [
    "sub_df = pd.DataFrame({\"MachineIdentifier\": test[\"MachineIdentifier\"].values})\n",
    "sub_df[\"HasDetections\"] = predictions\n",
    "sub_df[:10]\n",
    "sub_df.to_csv(\"submit.csv\", index=False)"
   ]
  },
  {
   "cell_type": "code",
   "execution_count": null,
   "metadata": {
    "collapsed": true
   },
   "outputs": [],
   "source": [
    "preds\n",
    "\n",
    "\n",
    "\n",
    "\n",
    "\n",
    "\n"
   ]
  },
  {
   "cell_type": "markdown",
   "metadata": {
    "_uuid": "3fc9d6b2803d88673e9455315e823b1407f7ff0f"
   },
   "source": [
    "<a id=\"0\"></a> <br>\n",
    "## 1. Utility functions\n",
    "Before starting, we define a utility function that helps managing memory."
   ]
  },
  {
   "cell_type": "code",
   "execution_count": 2,
   "metadata": {
    "_kg_hide-input": true,
    "_uuid": "9a15f134e550358f13e0f3b937e759ed48fd23d9"
   },
   "outputs": [],
   "source": [
    "def reduce_mem_usage(df, verbose=True):\n",
    "    numerics = ['int16', 'int32', 'int64', 'float16', 'float32', 'float64']\n",
    "    start_mem = df.memory_usage().sum() / 1024**2    \n",
    "    for col in df.columns:\n",
    "        col_type = df[col].dtypes\n",
    "        if col_type in numerics:\n",
    "            c_min = df[col].min()\n",
    "            c_max = df[col].max()\n",
    "            if str(col_type)[:3] == 'int':\n",
    "                if c_min > np.iinfo(np.int8).min and c_max < np.iinfo(np.int8).max:\n",
    "                    df[col] = df[col].astype(np.int8)\n",
    "                elif c_min > np.iinfo(np.int16).min and c_max < np.iinfo(np.int16).max:\n",
    "                    df[col] = df[col].astype(np.int16)\n",
    "                elif c_min > np.iinfo(np.int32).min and c_max < np.iinfo(np.int32).max:\n",
    "                    df[col] = df[col].astype(np.int32)\n",
    "                elif c_min > np.iinfo(np.int64).min and c_max < np.iinfo(np.int64).max:\n",
    "                    df[col] = df[col].astype(np.int64)  \n",
    "            else:\n",
    "                if c_min > np.finfo(np.float16).min and c_max < np.finfo(np.float16).max:\n",
    "                    df[col] = df[col].astype(np.float16)\n",
    "                elif c_min > np.finfo(np.float32).min and c_max < np.finfo(np.float32).max:\n",
    "                    df[col] = df[col].astype(np.float32)\n",
    "                else:\n",
    "                    df[col] = df[col].astype(np.float64)    \n",
    "    end_mem = df.memory_usage().sum() / 1024**2\n",
    "    if verbose: print('Mem. usage decreased to {:5.2f} Mb ({:.1f}% reduction)'.format(end_mem, 100 * (start_mem - end_mem) / start_mem))\n",
    "    return df"
   ]
  },
  {
   "cell_type": "markdown",
   "metadata": {
    "_uuid": "ea005def562ae65202ec9322bec60fd25a1961e1"
   },
   "source": [
    "<a id=\"1\"></a> <br>\n",
    "## 2. Loading the data"
   ]
  },
  {
   "cell_type": "markdown",
   "metadata": {
    "_uuid": "5568d0ede96997c2809e883d5c39cc20b1d8c37c"
   },
   "source": [
    "<a id=\"2.1\"></a> <br>\n",
    "### 2.1 Get the files and select the variables\n",
    "Following [Theo Viel](https://www.kaggle.com/theoviel/load-the-totality-of-the-data), we set the types of each fields in the train set in order to reduce the memory usage:"
   ]
  },
  {
   "cell_type": "code",
   "execution_count": 3,
   "metadata": {
    "_kg_hide-input": true,
    "_uuid": "b91444fc96ca462398820c2ba54bccd7b4bf4d03"
   },
   "outputs": [],
   "source": [
    "dtypes = {\n",
    "        'MachineIdentifier':                                    'category',\n",
    "        'ProductName':                                          'category',\n",
    "        'EngineVersion':                                        'category',\n",
    "        'AppVersion':                                           'category',\n",
    "        'AvSigVersion':                                         'category',\n",
    "        'IsBeta':                                               'int8',\n",
    "        'RtpStateBitfield':                                     'float16',\n",
    "        'IsSxsPassiveMode':                                     'int8',\n",
    "        'DefaultBrowsersIdentifier':                            'float16',\n",
    "        'AVProductStatesIdentifier':                            'float32',\n",
    "        'AVProductsInstalled':                                  'float16',\n",
    "        'AVProductsEnabled':                                    'float16',\n",
    "        'HasTpm':                                               'int8',\n",
    "        'CountryIdentifier':                                    'int16',\n",
    "        'CityIdentifier':                                       'float32',\n",
    "        'OrganizationIdentifier':                               'float16',\n",
    "        'GeoNameIdentifier':                                    'float16',\n",
    "        'LocaleEnglishNameIdentifier':                          'int8',\n",
    "        'Platform':                                             'category',\n",
    "        'Processor':                                            'category',\n",
    "        'OsVer':                                                'category',\n",
    "        'OsBuild':                                              'int16',\n",
    "        'OsSuite':                                              'int16',\n",
    "        'OsPlatformSubRelease':                                 'category',\n",
    "        'OsBuildLab':                                           'category',\n",
    "        'SkuEdition':                                           'category',\n",
    "        'IsProtected':                                          'float16',\n",
    "        'AutoSampleOptIn':                                      'int8',\n",
    "        'PuaMode':                                              'category',\n",
    "        'SMode':                                                'float16',\n",
    "        'IeVerIdentifier':                                      'float16',\n",
    "        'SmartScreen':                                          'category',\n",
    "        'Firewall':                                             'float16',\n",
    "        'UacLuaenable':                                         'float32',\n",
    "        'Census_MDC2FormFactor':                                'category',\n",
    "        'Census_DeviceFamily':                                  'category',\n",
    "        'Census_OEMNameIdentifier':                             'float16',\n",
    "        'Census_OEMModelIdentifier':                            'float32',\n",
    "        'Census_ProcessorCoreCount':                            'float16',\n",
    "        'Census_ProcessorManufacturerIdentifier':               'float16',\n",
    "        'Census_ProcessorModelIdentifier':                      'float16',\n",
    "        'Census_ProcessorClass':                                'category',\n",
    "        'Census_PrimaryDiskTotalCapacity':                      'float32',\n",
    "        'Census_PrimaryDiskTypeName':                           'category',\n",
    "        'Census_SystemVolumeTotalCapacity':                     'float32',\n",
    "        'Census_HasOpticalDiskDrive':                           'int8',\n",
    "        'Census_TotalPhysicalRAM':                              'float32',\n",
    "        'Census_ChassisTypeName':                               'category',\n",
    "        'Census_InternalPrimaryDiagonalDisplaySizeInInches':    'float16',\n",
    "        'Census_InternalPrimaryDisplayResolutionHorizontal':    'float16',\n",
    "        'Census_InternalPrimaryDisplayResolutionVertical':      'float16',\n",
    "        'Census_PowerPlatformRoleName':                         'category',\n",
    "        'Census_InternalBatteryType':                           'category',\n",
    "        'Census_InternalBatteryNumberOfCharges':                'float32',\n",
    "        'Census_OSVersion':                                     'category',\n",
    "        'Census_OSArchitecture':                                'category',\n",
    "        'Census_OSBranch':                                      'category',\n",
    "        'Census_OSBuildNumber':                                 'int16',\n",
    "        'Census_OSBuildRevision':                               'int32',\n",
    "        'Census_OSEdition':                                     'category',\n",
    "        'Census_OSSkuName':                                     'category',\n",
    "        'Census_OSInstallTypeName':                             'category',\n",
    "        'Census_OSInstallLanguageIdentifier':                   'float16',\n",
    "        'Census_OSUILocaleIdentifier':                          'int16',\n",
    "        'Census_OSWUAutoUpdateOptionsName':                     'category',\n",
    "        'Census_IsPortableOperatingSystem':                     'int8',\n",
    "        'Census_GenuineStateName':                              'category',\n",
    "        'Census_ActivationChannel':                             'category',\n",
    "        'Census_IsFlightingInternal':                           'float16',\n",
    "        'Census_IsFlightsDisabled':                             'float16',\n",
    "        'Census_FlightRing':                                    'category',\n",
    "        'Census_ThresholdOptIn':                                'float16',\n",
    "        'Census_FirmwareManufacturerIdentifier':                'float16',\n",
    "        'Census_FirmwareVersionIdentifier':                     'float32',\n",
    "        'Census_IsSecureBootEnabled':                           'int8',\n",
    "        'Census_IsWIMBootEnabled':                              'float16',\n",
    "        'Census_IsVirtualDevice':                               'float16',\n",
    "        'Census_IsTouchEnabled':                                'int8',\n",
    "        'Census_IsPenCapable':                                  'int8',\n",
    "        'Census_IsAlwaysOnAlwaysConnectedCapable':              'float16',\n",
    "        'Wdft_IsGamer':                                         'float16',\n",
    "        'Wdft_RegionIdentifier':                                'float16',\n",
    "        'HasDetections':                                        'int8'\n",
    "        }"
   ]
  },
  {
   "cell_type": "markdown",
   "metadata": {
    "_kg_hide-input": true,
    "_uuid": "b91444fc96ca462398820c2ba54bccd7b4bf4d03"
   },
   "source": [
    "dtypes = {\n",
    "        'MachineIdentifier':                                    'object',\n",
    "        'ProductName':                                          'object',\n",
    "        'EngineVersion':                                        'object',\n",
    "        'AppVersion':                                           'object',\n",
    "        'AvSigVersion':                                         'object',\n",
    "        'IsBeta':                                               'int8',\n",
    "        'RtpStateBitfield':                                     'float16',\n",
    "        'IsSxsPassiveMode':                                     'int8',\n",
    "        'DefaultBrowsersIdentifier':                            'float16',\n",
    "        'AVProductStatesIdentifier':                            'float32',\n",
    "        'AVProductsInstalled':                                  'float16',\n",
    "        'AVProductsEnabled':                                    'float16',\n",
    "        'HasTpm':                                               'int8',\n",
    "        'CountryIdentifier':                                    'int16',\n",
    "        'CityIdentifier':                                       'float32',\n",
    "        'OrganizationIdentifier':                               'float16',\n",
    "        'GeoNameIdentifier':                                    'float16',\n",
    "        'LocaleEnglishNameIdentifier':                          'int8',\n",
    "        'Platform':                                             'object',\n",
    "        'Processor':                                            'object',\n",
    "        'OsVer':                                                'object',\n",
    "        'OsBuild':                                              'int16',\n",
    "        'OsSuite':                                              'int16',\n",
    "        'OsPlatformSubRelease':                                 'object',\n",
    "        'OsBuildLab':                                           'object',\n",
    "        'SkuEdition':                                           'object',\n",
    "        'IsProtected':                                          'float16',\n",
    "        'AutoSampleOptIn':                                      'int8',\n",
    "        'PuaMode':                                              'object',\n",
    "        'SMode':                                                'float16',\n",
    "        'IeVerIdentifier':                                      'float16',\n",
    "        'SmartScreen':                                          'object',\n",
    "        'Firewall':                                             'float16',\n",
    "        'UacLuaenable':                                         'float32',\n",
    "        'Census_MDC2FormFactor':                                'object',\n",
    "        'Census_DeviceFamily':                                  'object',\n",
    "        'Census_OEMNameIdentifier':                             'float16',\n",
    "        'Census_OEMModelIdentifier':                            'float32',\n",
    "        #'Census_ProcessorCoreCount':                            'float16',\n",
    "        'Census_ProcessorManufacturerIdentifier':               'float16',\n",
    "        'Census_ProcessorModelIdentifier':                      'float16',\n",
    "        'Census_ProcessorClass':                                'object',\n",
    "        #'Census_PrimaryDiskTotalCapacity':                      'float32',\n",
    "        'Census_PrimaryDiskTypeName':                           'object',\n",
    "        #'Census_SystemVolumeTotalCapacity':                     'float32',\n",
    "        'Census_HasOpticalDiskDrive':                           'int8',\n",
    "        #'Census_TotalPhysicalRAM':                              'float32',\n",
    "        'Census_ChassisTypeName':                               'object',\n",
    "        #'Census_InternalPrimaryDiagonalDisplaySizeInInches':    'float16',\n",
    "        #'Census_InternalPrimaryDisplayResolutionHorizontal':    'float16',\n",
    "        #'Census_InternalPrimaryDisplayResolutionVertical':      'float16',\n",
    "        'Census_PowerPlatformRoleName':                         'object',\n",
    "        'Census_InternalBatteryType':                           'object',\n",
    "        #'Census_InternalBatteryNumberOfCharges':                'float32',\n",
    "        'Census_OSVersion':                                     'object',\n",
    "        'Census_OSArchitecture':                                'object',\n",
    "        'Census_OSBranch':                                      'object',\n",
    "        'Census_OSBuildNumber':                                 'int16',\n",
    "        'Census_OSBuildRevision':                               'int32',\n",
    "        'Census_OSEdition':                                     'object',\n",
    "        'Census_OSSkuName':                                     'object',\n",
    "        'Census_OSInstallTypeName':                             'object',\n",
    "        'Census_OSInstallLanguageIdentifier':                   'float16',\n",
    "        'Census_OSUILocaleIdentifier':                          'int16',\n",
    "        'Census_OSWUAutoUpdateOptionsName':                     'object',\n",
    "        'Census_IsPortableOperatingSystem':                     'int8',\n",
    "        'Census_GenuineStateName':                              'object',\n",
    "        'Census_ActivationChannel':                             'object',\n",
    "        'Census_IsFlightingInternal':                           'float16',\n",
    "        'Census_IsFlightsDisabled':                             'float16',\n",
    "        'Census_FlightRing':                                    'object',\n",
    "        'Census_ThresholdOptIn':                                'float16',\n",
    "        'Census_FirmwareManufacturerIdentifier':                'float16',\n",
    "        'Census_FirmwareVersionIdentifier':                     'float32',\n",
    "        'Census_IsSecureBootEnabled':                           'int8',\n",
    "        'Census_IsWIMBootEnabled':                              'float16',\n",
    "        'Census_IsVirtualDevice':                               'float16',\n",
    "        'Census_IsTouchEnabled':                                'int8',\n",
    "        'Census_IsPenCapable':                                  'int8',\n",
    "        'Census_IsAlwaysOnAlwaysConnectedCapable':              'float16',\n",
    "        'Wdft_IsGamer':                                         'float16',\n",
    "        'Wdft_RegionIdentifier':                                'float16',\n",
    "        'HasDetections':                                        'int8'\n",
    "        }"
   ]
  },
  {
   "cell_type": "markdown",
   "metadata": {
    "_uuid": "ba5573cfaec6625aed13e98c6e034809e2997b5b"
   },
   "source": [
    "First, we make a census of the variables, by type, and define the set we want to keep before reading the data:"
   ]
  },
  {
   "cell_type": "code",
   "execution_count": 4,
   "metadata": {
    "_uuid": "057a508919fad540d226da391cff358b85556b74"
   },
   "outputs": [
    {
     "data": {
      "text/plain": [
       "(83, 53, 30)"
      ]
     },
     "execution_count": 4,
     "metadata": {},
     "output_type": "execute_result"
    }
   ],
   "source": [
    "numerics = ['int8', 'int16', 'int32', 'int64', 'float16', 'float32', 'float64']\n",
    "numerical_columns = [c for c,v in dtypes.items() if v in numerics]\n",
    "categorical_columns = [c for c,v in dtypes.items() if v not in numerics]\n",
    "len(dtypes), len(numerical_columns), len(categorical_columns)"
   ]
  },
  {
   "cell_type": "code",
   "execution_count": 5,
   "metadata": {
    "_cell_guid": "79c7e3d0-c299-4dcb-8224-4455121ee9b0",
    "_uuid": "d629ff2d2480ee46fbb7e2d37f6b5fab8052498a"
   },
   "outputs": [
    {
     "name": "stdout",
     "output_type": "stream",
     "text": [
      "(8921483, 83)\n",
      "CPU times: user 1min 49s, sys: 5.72 s, total: 1min 55s\n",
      "Wall time: 1min 58s\n"
     ]
    }
   ],
   "source": [
    "%%time\n",
    "nrows = 100000\n",
    "retained_columns = numerical_columns + categorical_columns\n",
    "#train = pd.read_csv('input/train.csv', nrows = nrows, usecols = retained_columns, dtype = dtypes)\n",
    "train = pd.read_csv('input/train.csv', usecols = retained_columns, dtype = dtypes)\n",
    "print(train.shape) #full shape: (8921483, 83)"
   ]
  },
  {
   "cell_type": "code",
   "execution_count": 6,
   "metadata": {},
   "outputs": [
    {
     "name": "stdout",
     "output_type": "stream",
     "text": [
      "(7853253, 82)\n",
      "CPU times: user 1min 39s, sys: 4.31 s, total: 1min 44s\n",
      "Wall time: 1min 46s\n"
     ]
    }
   ],
   "source": [
    "%%time\n",
    "retained_columns += ['MachineIdentifier']\n",
    "retained_columns.remove('HasDetections')\n",
    "test = pd.read_csv('input/test.csv', usecols = retained_columns, dtype = dtypes)\n",
    "print(test.shape)"
   ]
  },
  {
   "cell_type": "markdown",
   "metadata": {},
   "source": [
    "train[['Census_ProcessorCoreCount',\n",
    "'Census_PrimaryDiskTotalCapacity',\n",
    "'Census_SystemVolumeTotalCapacity',\n",
    "'Census_TotalPhysicalRAM',\n",
    "'Census_InternalPrimaryDiagonalDisplaySizeInInches',\n",
    "'Census_InternalPrimaryDisplayResolutionHorizontal',\n",
    "'Census_InternalPrimaryDisplayResolutionVertical',\n",
    "'Census_InternalBatteryNumberOfCharges']] = 0"
   ]
  },
  {
   "cell_type": "markdown",
   "metadata": {},
   "source": [
    "train['Census_InternalPrimaryDiagonalDisplaySizeInInches'] = 0 \n",
    "train['Census_InternalPrimaryDisplayResolutionHorizontal'] = 0\n",
    "train['Census_InternalPrimaryDisplayResolutionVertical'] = 0"
   ]
  },
  {
   "cell_type": "markdown",
   "metadata": {},
   "source": [
    "test['Census_InternalPrimaryDiagonalDisplaySizeInInches'] = 0\n",
    "test['Census_InternalPrimaryDisplayResolutionHorizontal'] = 0\n",
    "test['Census_InternalPrimaryDisplayResolutionVertical'] = 0"
   ]
  },
  {
   "cell_type": "markdown",
   "metadata": {
    "_uuid": "123fe175bb92d7262b33649b1aa3619bad28b577"
   },
   "source": [
    "<a id=\"2.2\"></a> <br>\n",
    "### 2.2 Define the type of each variable\n",
    "In practice, among the numerical variables, many corresponds to identifiers. *In the current dataset, the truly numerical variables are in fact rare*. Below, I make a list of the variables which are truly numerical, according the the description of the data."
   ]
  },
  {
   "cell_type": "code",
   "execution_count": 7,
   "metadata": {
    "_uuid": "1485ef0a5822d9c0064e39f6b94977d336dd3698"
   },
   "outputs": [],
   "source": [
    "true_numerical_columns = [\n",
    "    'Census_ProcessorCoreCount',\n",
    "    'Census_PrimaryDiskTotalCapacity',\n",
    "    'Census_SystemVolumeTotalCapacity',\n",
    "    'Census_TotalPhysicalRAM',\n",
    "    'Census_InternalPrimaryDiagonalDisplaySizeInInches',\n",
    "    'Census_InternalPrimaryDisplayResolutionHorizontal',\n",
    "    'Census_InternalPrimaryDisplayResolutionVertical',\n",
    "    'Census_InternalBatteryNumberOfCharges']"
   ]
  },
  {
   "cell_type": "markdown",
   "metadata": {
    "_uuid": "837cc82ceb02e7dcb519542f7bead3299c1e0761"
   },
   "source": [
    "We also list binary variables, since they can be treated as numericals by tree methods:"
   ]
  },
  {
   "cell_type": "code",
   "execution_count": 8,
   "metadata": {
    "_uuid": "8bcb5afe9e9f6501f0f4f509d7c140617b259f69"
   },
   "outputs": [],
   "source": [
    "binary_variables = [c for c in train.columns if train[c].nunique() == 2]"
   ]
  },
  {
   "cell_type": "markdown",
   "metadata": {
    "_uuid": "746df3e5496acba451e89a05f75042e7ef5ddcd8"
   },
   "source": [
    "to finally make a census of the categorical variables:"
   ]
  },
  {
   "cell_type": "code",
   "execution_count": null,
   "metadata": {
    "_uuid": "7f249c89e5deee0e36a0983ec6c2ab934ee13a8c"
   },
   "outputs": [],
   "source": [
    "categorical_columns = [c for c in train.columns \n",
    "                       if (c not in true_numerical_columns) & (c not in binary_variables)]"
   ]
  },
  {
   "cell_type": "code",
   "execution_count": null,
   "metadata": {
    "_kg_hide-input": true,
    "_uuid": "02a03355068b80bd404dc6c34f95ded2b138e344"
   },
   "outputs": [
    {
     "data": {
      "application/vnd.plotly.v1+json": {
       "config": {
        "linkText": "Export to plot.ly",
        "plotlyServerURL": "https://plot.ly",
        "showLink": false
       },
       "data": [
        {
         "labels": [
          "categorical_columns",
          "binary_variables",
          "true_numerical_columns"
         ],
         "type": "pie",
         "uid": "4c6bdc66-3b47-457b-b77d-b1e734b5748c",
         "values": [
          54,
          21,
          8
         ]
        }
       ],
       "layout": {
        "height": 400,
        "title": {
         "text": "Variable types"
        },
        "width": 800
       }
      },
      "text/html": [
       "<div id=\"3d937073-35b9-43fe-8d6d-f1f04f160fe0\" style=\"height: 400px; width: 800px;\" class=\"plotly-graph-div\"></div><script type=\"text/javascript\">require([\"plotly\"], function(Plotly) { window.PLOTLYENV=window.PLOTLYENV || {};window.PLOTLYENV.BASE_URL=\"https://plot.ly\";\n",
       "if (document.getElementById(\"3d937073-35b9-43fe-8d6d-f1f04f160fe0\")) {\n",
       "    Plotly.newPlot(\"3d937073-35b9-43fe-8d6d-f1f04f160fe0\", [{\"labels\": [\"categorical_columns\", \"binary_variables\", \"true_numerical_columns\"], \"values\": [54, 21, 8], \"type\": \"pie\", \"uid\": \"f4f86732-68f8-455c-8417-7a9596d16ab0\"}], {\"height\": 400, \"title\": {\"text\": \"Variable types\"}, \"width\": 800}, {\"showLink\": false, \"linkText\": \"Export to plot.ly\", \"plotlyServerURL\": \"https://plot.ly\"}); \n",
       "}\n",
       "});</script>"
      ],
      "text/vnd.plotly.v1+html": [
       "<div id=\"3d937073-35b9-43fe-8d6d-f1f04f160fe0\" style=\"height: 400px; width: 800px;\" class=\"plotly-graph-div\"></div><script type=\"text/javascript\">require([\"plotly\"], function(Plotly) { window.PLOTLYENV=window.PLOTLYENV || {};window.PLOTLYENV.BASE_URL=\"https://plot.ly\";\n",
       "if (document.getElementById(\"3d937073-35b9-43fe-8d6d-f1f04f160fe0\")) {\n",
       "    Plotly.newPlot(\"3d937073-35b9-43fe-8d6d-f1f04f160fe0\", [{\"labels\": [\"categorical_columns\", \"binary_variables\", \"true_numerical_columns\"], \"values\": [54, 21, 8], \"type\": \"pie\", \"uid\": \"f4f86732-68f8-455c-8417-7a9596d16ab0\"}], {\"height\": 400, \"title\": {\"text\": \"Variable types\"}, \"width\": 800}, {\"showLink\": false, \"linkText\": \"Export to plot.ly\", \"plotlyServerURL\": \"https://plot.ly\"}); \n",
       "}\n",
       "});</script>"
      ]
     },
     "metadata": {},
     "output_type": "display_data"
    }
   ],
   "source": [
    "variables = {\n",
    "    'categorical_columns': len(categorical_columns),\n",
    "    'binary_variables': len(binary_variables),\n",
    "    'true_numerical_columns': len(true_numerical_columns)\n",
    "}\n",
    "pie_trace = go.Pie(labels=list(variables.keys()), values=list(variables.values()))\n",
    "layout = dict(title= \"Variable types\", height=400, width=800)\n",
    "fig = dict(data=[pie_trace], layout=layout)\n",
    "iplot(fig)"
   ]
  },
  {
   "cell_type": "markdown",
   "metadata": {
    "_uuid": "ad51d7daad193e0dab467f82dfad4c7ce7876d56"
   },
   "source": [
    "Most of the current variables are categories and we need to choose a method to treat them. **Depending on the cardinality of each variable**, we can opt for** one-hot-encoding, frequency or target encoding**. In the particular case of Light-GBM, we can also use the **built-in LGBM treatment of categoricals**:"
   ]
  },
  {
   "cell_type": "code",
   "execution_count": null,
   "metadata": {
    "_kg_hide-input": true,
    "_uuid": "bf2a4a2490650a68ca65991e08a0f6975a549102"
   },
   "outputs": [
    {
     "data": {
      "application/vnd.plotly.v1+json": {
       "config": {
        "linkText": "Export to plot.ly",
        "plotlyServerURL": "https://plot.ly",
        "showLink": false
       },
       "data": [
        {
         "marker": {
          "color": "rgb(49,130,189)"
         },
         "name": "train",
         "orientation": "h",
         "type": "bar",
         "uid": "f10f43eb-df78-4c06-85d3-d1304975ba29",
         "x": [
          3,
          3,
          3,
          3,
          4,
          4,
          5,
          6,
          6,
          6,
          6,
          7,
          7,
          8,
          8,
          9,
          9,
          10,
          10,
          11,
          13,
          14,
          15,
          21,
          30,
          32,
          33,
          39,
          49,
          52,
          58,
          70,
          76,
          78,
          110,
          147,
          165,
          222,
          252,
          285,
          292,
          303,
          469,
          663,
          712,
          1730,
          2564,
          2583,
          8531,
          28970,
          50494,
          107366,
          175365
         ],
         "y": [
          "Processor",
          "Census_DeviceFamily",
          "Census_ProcessorClass",
          "Census_OSArchitecture",
          "Platform",
          "Census_PrimaryDiskTypeName",
          "Census_GenuineStateName",
          "ProductName",
          "AVProductsEnabled",
          "Census_OSWUAutoUpdateOptionsName",
          "Census_ActivationChannel",
          "RtpStateBitfield",
          "Census_ProcessorManufacturerIdentifier",
          "AVProductsInstalled",
          "SkuEdition",
          "OsPlatformSubRelease",
          "Census_OSInstallTypeName",
          "Census_PowerPlatformRoleName",
          "Census_FlightRing",
          "UacLuaenable",
          "Census_MDC2FormFactor",
          "OsSuite",
          "Wdft_RegionIdentifier",
          "SmartScreen",
          "Census_OSSkuName",
          "Census_OSBranch",
          "Census_OSEdition",
          "Census_OSInstallLanguageIdentifier",
          "OrganizationIdentifier",
          "Census_ChassisTypeName",
          "OsVer",
          "EngineVersion",
          "OsBuild",
          "Census_InternalBatteryType",
          "AppVersion",
          "Census_OSUILocaleIdentifier",
          "Census_OSBuildNumber",
          "CountryIdentifier",
          "LocaleEnglishNameIdentifier",
          "Census_OSBuildRevision",
          "GeoNameIdentifier",
          "IeVerIdentifier",
          "Census_OSVersion",
          "OsBuildLab",
          "Census_FirmwareManufacturerIdentifier",
          "DefaultBrowsersIdentifier",
          "Census_OEMNameIdentifier",
          "Census_ProcessorModelIdentifier",
          "AvSigVersion",
          "AVProductStatesIdentifier",
          "Census_FirmwareVersionIdentifier",
          "CityIdentifier",
          "Census_OEMModelIdentifier"
         ]
        }
       ],
       "layout": {
        "bargap": 0.1,
        "bargroupgap": 0.1,
        "barmode": "group",
        "height": 1600,
        "title": {
         "text": "Categorical cardinality"
        },
        "width": 800,
        "xaxis": {
         "domain": [
          0.25,
          1
         ],
         "title": {
          "font": {
           "color": "rgb(107, 107, 107)",
           "size": 16
          },
          "text": "Number of categories"
         }
        }
       }
      },
      "text/html": [
       "<div id=\"f5a75985-2ac9-46cd-a6cd-85a9338b7409\" style=\"height: 1600px; width: 800px;\" class=\"plotly-graph-div\"></div><script type=\"text/javascript\">require([\"plotly\"], function(Plotly) { window.PLOTLYENV=window.PLOTLYENV || {};window.PLOTLYENV.BASE_URL=\"https://plot.ly\";\n",
       "if (document.getElementById(\"f5a75985-2ac9-46cd-a6cd-85a9338b7409\")) {\n",
       "    Plotly.newPlot(\"f5a75985-2ac9-46cd-a6cd-85a9338b7409\", [{\"marker\": {\"color\": \"rgb(49,130,189)\"}, \"name\": \"train\", \"orientation\": \"h\", \"x\": [3, 3, 3, 3, 4, 4, 5, 6, 6, 6, 6, 7, 7, 8, 8, 9, 9, 10, 10, 11, 13, 14, 15, 21, 30, 32, 33, 39, 49, 52, 58, 70, 76, 78, 110, 147, 165, 222, 252, 285, 292, 303, 469, 663, 712, 1730, 2564, 2583, 8531, 28970, 50494, 107366, 175365], \"y\": [\"Processor\", \"Census_DeviceFamily\", \"Census_ProcessorClass\", \"Census_OSArchitecture\", \"Platform\", \"Census_PrimaryDiskTypeName\", \"Census_GenuineStateName\", \"ProductName\", \"AVProductsEnabled\", \"Census_OSWUAutoUpdateOptionsName\", \"Census_ActivationChannel\", \"RtpStateBitfield\", \"Census_ProcessorManufacturerIdentifier\", \"AVProductsInstalled\", \"SkuEdition\", \"OsPlatformSubRelease\", \"Census_OSInstallTypeName\", \"Census_PowerPlatformRoleName\", \"Census_FlightRing\", \"UacLuaenable\", \"Census_MDC2FormFactor\", \"OsSuite\", \"Wdft_RegionIdentifier\", \"SmartScreen\", \"Census_OSSkuName\", \"Census_OSBranch\", \"Census_OSEdition\", \"Census_OSInstallLanguageIdentifier\", \"OrganizationIdentifier\", \"Census_ChassisTypeName\", \"OsVer\", \"EngineVersion\", \"OsBuild\", \"Census_InternalBatteryType\", \"AppVersion\", \"Census_OSUILocaleIdentifier\", \"Census_OSBuildNumber\", \"CountryIdentifier\", \"LocaleEnglishNameIdentifier\", \"Census_OSBuildRevision\", \"GeoNameIdentifier\", \"IeVerIdentifier\", \"Census_OSVersion\", \"OsBuildLab\", \"Census_FirmwareManufacturerIdentifier\", \"DefaultBrowsersIdentifier\", \"Census_OEMNameIdentifier\", \"Census_ProcessorModelIdentifier\", \"AvSigVersion\", \"AVProductStatesIdentifier\", \"Census_FirmwareVersionIdentifier\", \"CityIdentifier\", \"Census_OEMModelIdentifier\"], \"type\": \"bar\", \"uid\": \"f10f43eb-df78-4c06-85d3-d1304975ba29\"}], {\"bargap\": 0.1, \"bargroupgap\": 0.1, \"barmode\": \"group\", \"height\": 1600, \"title\": {\"text\": \"Categorical cardinality\"}, \"width\": 800, \"xaxis\": {\"domain\": [0.25, 1], \"title\": {\"font\": {\"color\": \"rgb(107, 107, 107)\", \"size\": 16}, \"text\": \"Number of categories\"}}}, {\"showLink\": false, \"linkText\": \"Export to plot.ly\", \"plotlyServerURL\": \"https://plot.ly\"}); \n",
       "}\n",
       "});</script>"
      ],
      "text/vnd.plotly.v1+html": [
       "<div id=\"f5a75985-2ac9-46cd-a6cd-85a9338b7409\" style=\"height: 1600px; width: 800px;\" class=\"plotly-graph-div\"></div><script type=\"text/javascript\">require([\"plotly\"], function(Plotly) { window.PLOTLYENV=window.PLOTLYENV || {};window.PLOTLYENV.BASE_URL=\"https://plot.ly\";\n",
       "if (document.getElementById(\"f5a75985-2ac9-46cd-a6cd-85a9338b7409\")) {\n",
       "    Plotly.newPlot(\"f5a75985-2ac9-46cd-a6cd-85a9338b7409\", [{\"marker\": {\"color\": \"rgb(49,130,189)\"}, \"name\": \"train\", \"orientation\": \"h\", \"x\": [3, 3, 3, 3, 4, 4, 5, 6, 6, 6, 6, 7, 7, 8, 8, 9, 9, 10, 10, 11, 13, 14, 15, 21, 30, 32, 33, 39, 49, 52, 58, 70, 76, 78, 110, 147, 165, 222, 252, 285, 292, 303, 469, 663, 712, 1730, 2564, 2583, 8531, 28970, 50494, 107366, 175365], \"y\": [\"Processor\", \"Census_DeviceFamily\", \"Census_ProcessorClass\", \"Census_OSArchitecture\", \"Platform\", \"Census_PrimaryDiskTypeName\", \"Census_GenuineStateName\", \"ProductName\", \"AVProductsEnabled\", \"Census_OSWUAutoUpdateOptionsName\", \"Census_ActivationChannel\", \"RtpStateBitfield\", \"Census_ProcessorManufacturerIdentifier\", \"AVProductsInstalled\", \"SkuEdition\", \"OsPlatformSubRelease\", \"Census_OSInstallTypeName\", \"Census_PowerPlatformRoleName\", \"Census_FlightRing\", \"UacLuaenable\", \"Census_MDC2FormFactor\", \"OsSuite\", \"Wdft_RegionIdentifier\", \"SmartScreen\", \"Census_OSSkuName\", \"Census_OSBranch\", \"Census_OSEdition\", \"Census_OSInstallLanguageIdentifier\", \"OrganizationIdentifier\", \"Census_ChassisTypeName\", \"OsVer\", \"EngineVersion\", \"OsBuild\", \"Census_InternalBatteryType\", \"AppVersion\", \"Census_OSUILocaleIdentifier\", \"Census_OSBuildNumber\", \"CountryIdentifier\", \"LocaleEnglishNameIdentifier\", \"Census_OSBuildRevision\", \"GeoNameIdentifier\", \"IeVerIdentifier\", \"Census_OSVersion\", \"OsBuildLab\", \"Census_FirmwareManufacturerIdentifier\", \"DefaultBrowsersIdentifier\", \"Census_OEMNameIdentifier\", \"Census_ProcessorModelIdentifier\", \"AvSigVersion\", \"AVProductStatesIdentifier\", \"Census_FirmwareVersionIdentifier\", \"CityIdentifier\", \"Census_OEMModelIdentifier\"], \"type\": \"bar\", \"uid\": \"f10f43eb-df78-4c06-85d3-d1304975ba29\"}], {\"bargap\": 0.1, \"bargroupgap\": 0.1, \"barmode\": \"group\", \"height\": 1600, \"title\": {\"text\": \"Categorical cardinality\"}, \"width\": 800, \"xaxis\": {\"domain\": [0.25, 1], \"title\": {\"font\": {\"color\": \"rgb(107, 107, 107)\", \"size\": 16}, \"text\": \"Number of categories\"}}}, {\"showLink\": false, \"linkText\": \"Export to plot.ly\", \"plotlyServerURL\": \"https://plot.ly\"}); \n",
       "}\n",
       "});</script>"
      ]
     },
     "metadata": {},
     "output_type": "display_data"
    }
   ],
   "source": [
    "cardinality = []\n",
    "for c in categorical_columns:\n",
    "    if c == 'MachineIdentifier': continue\n",
    "    cardinality.append([c, train[c].nunique()])\n",
    "cardinality.sort(key = lambda x:x[1], reverse=False)\n",
    "\n",
    "trace = go.Bar(y=[x[0] for x in cardinality],\n",
    "               x=[x[1] for x in cardinality],\n",
    "               orientation='h', marker=dict(color='rgb(49,130,189)'), name='train')\n",
    "\n",
    "layout = go.Layout(\n",
    "    title='Categorical cardinality', height=1600, width=800,\n",
    "    xaxis=dict(\n",
    "        title='Number of categories',\n",
    "        titlefont=dict(size=16, color='rgb(107, 107, 107)'),\n",
    "        domain=[0.25, 1]\n",
    "    ),\n",
    "    barmode='group',\n",
    "    bargap=0.1,\n",
    "    bargroupgap=0.1\n",
    ")\n",
    "\n",
    "fig = go.Figure(data=[trace], layout=layout)\n",
    "iplot(fig)"
   ]
  },
  {
   "cell_type": "markdown",
   "metadata": {
    "_uuid": "fec10635dc57ca66edf9600bed8a4eca5958f780"
   },
   "source": [
    "<a id=\"2\"></a> <br>\n",
    "## 3. Feature Engineering\n",
    "<a id=\"3.1\"></a> <br>\n",
    "### 3.1 Frequency encoding\n",
    "For variables with large cardinality, an efficient encoding consists in ranking the categories with respect to their frequencies. These variables are then treated as numerical."
   ]
  },
  {
   "cell_type": "code",
   "execution_count": null,
   "metadata": {
    "_kg_hide-input": true,
    "_uuid": "d8cc8d69a682a1a753c82ee69b6a3fc26c99ec3a"
   },
   "outputs": [],
   "source": [
    "def frequency_encoding(variable):\n",
    "    t = pd.concat([train[variable], test[variable]]).value_counts().reset_index()\n",
    "    t = t.reset_index()\n",
    "    t.loc[t[variable] == 1, 'level_0'] = np.nan\n",
    "    t.set_index('index', inplace=True)\n",
    "    max_label = t['level_0'].max() + 1\n",
    "    t.fillna(max_label, inplace=True)\n",
    "    return t.to_dict()['level_0']"
   ]
  },
  {
   "cell_type": "code",
   "execution_count": null,
   "metadata": {
    "_uuid": "5d59541ddae08fc488b48b36d426ab9ec43ebd60"
   },
   "outputs": [],
   "source": [
    "frequency_encoded_variables = [\n",
    "    'Census_OEMModelIdentifier',\n",
    "    'CityIdentifier',\n",
    "    'Census_FirmwareVersionIdentifier',\n",
    "    'AvSigVersion',\n",
    "    'Census_ProcessorModelIdentifier',\n",
    "    'Census_OEMNameIdentifier',\n",
    "    'DefaultBrowsersIdentifier']"
   ]
  },
  {
   "cell_type": "code",
   "execution_count": null,
   "metadata": {
    "_uuid": "8c18a1d420eeb72f8dfac35e2f9ce7bde823f66b"
   },
   "outputs": [
    {
     "name": "stderr",
     "output_type": "stream",
     "text": [
      "100%|██████████| 7/7 [00:39<00:00,  5.61s/it]\n"
     ]
    }
   ],
   "source": [
    "for variable in tqdm(frequency_encoded_variables):\n",
    "    freq_enc_dict = frequency_encoding(variable)\n",
    "    train[variable] = train[variable].map(lambda x: freq_enc_dict.get(x, np.nan))\n",
    "    test[variable] = test[variable].map(lambda x: freq_enc_dict.get(x, np.nan))\n",
    "    categorical_columns.remove(variable)"
   ]
  },
  {
   "cell_type": "markdown",
   "metadata": {
    "_uuid": "a1355051b9350acb3f0bd3cc14f52f47082e0756"
   },
   "source": [
    "<a id=\"3.2\"></a> <br>\n",
    "### 3.2 Label encoding"
   ]
  },
  {
   "cell_type": "code",
   "execution_count": null,
   "metadata": {
    "_uuid": "8eec30f337f6893ed6ae0cdb348595e0b701eef2"
   },
   "outputs": [
    {
     "name": "stderr",
     "output_type": "stream",
     "text": [
      "100%|██████████| 47/47 [00:03<00:00, 11.08it/s]\n",
      "  0%|          | 0/47 [00:00<?, ?it/s]"
     ]
    }
   ],
   "source": [
    "indexer = {}\n",
    "for col in tqdm(categorical_columns):\n",
    "    if col == 'MachineIdentifier': continue\n",
    "    _, indexer[col] = pd.factorize(train[col])\n",
    "    \n",
    "for col in tqdm(categorical_columns):\n",
    "    if col == 'MachineIdentifier': continue\n",
    "    train[col] = indexer[col].get_indexer(train[col])\n",
    "    test[col] = indexer[col].get_indexer(test[col])"
   ]
  },
  {
   "cell_type": "code",
   "execution_count": null,
   "metadata": {
    "_uuid": "e30b4a83f31c0ee16c5d628438bb3dc2d123ca8e"
   },
   "outputs": [],
   "source": [
    "train = reduce_mem_usage(train)\n",
    "test = reduce_mem_usage(test)"
   ]
  },
  {
   "cell_type": "code",
   "execution_count": null,
   "metadata": {
    "_uuid": "bdab1c1bcb1fc824d83943d702f9e060dc531402"
   },
   "outputs": [],
   "source": [
    "train[:5]"
   ]
  },
  {
   "cell_type": "code",
   "execution_count": null,
   "metadata": {
    "_uuid": "b24463c6a0bf3603b5cff08702910f82dece28f3"
   },
   "outputs": [],
   "source": [
    "target = train['HasDetections']\n",
    "del train['HasDetections']"
   ]
  },
  {
   "cell_type": "markdown",
   "metadata": {
    "_uuid": "b91db8b5c98da4f014f1863ba7de18e241f517c6"
   },
   "source": [
    "<a id=\"3\"></a> <br>\n",
    "## 3. Training the model"
   ]
  },
  {
   "cell_type": "code",
   "execution_count": null,
   "metadata": {
    "_uuid": "56d006d366fc5c2686249887b5d1f302d4a708f5"
   },
   "outputs": [],
   "source": [
    "param = {'num_leaves': 60,\n",
    "         'min_data_in_leaf': 60, \n",
    "         'objective':'binary',\n",
    "         'max_depth': -1,\n",
    "         'learning_rate': 0.1,\n",
    "         \"boosting\": \"gbdt\",\n",
    "         \"feature_fraction\": 0.8,\n",
    "         \"bagging_freq\": 1,\n",
    "         \"bagging_fraction\": 0.8 ,\n",
    "         \"bagging_seed\": 11,\n",
    "         \"metric\": 'auc',\n",
    "         \"lambda_l1\": 0.1,\n",
    "         \"random_state\": 133,\n",
    "         \"verbosity\": -1}"
   ]
  },
  {
   "cell_type": "markdown",
   "metadata": {
    "_uuid": "7ab8ef627687c7602b81a9ac83f90ff3a2094d0c"
   },
   "source": [
    "We set the max number of iteration over folds:"
   ]
  },
  {
   "cell_type": "code",
   "execution_count": null,
   "metadata": {
    "_uuid": "9f306e20ae748715da17a2f15702ea1aa4d81497"
   },
   "outputs": [],
   "source": [
    "max_iter = 5"
   ]
  },
  {
   "cell_type": "code",
   "execution_count": null,
   "metadata": {
    "_uuid": "f2f01a6006dcb34ffb53ca33a055e592ee9e75e1"
   },
   "outputs": [],
   "source": [
    "gc.collect()"
   ]
  },
  {
   "cell_type": "code",
   "execution_count": null,
   "metadata": {
    "_uuid": "0e9f0fd37207aeaa33f3d758ed22a32b462fc93d",
    "scrolled": false
   },
   "outputs": [],
   "source": [
    "folds = KFold(n_splits=9, shuffle=True, random_state=0)\n",
    "oof = np.zeros(len(train))\n",
    "categorical_columns = [c for c in categorical_columns if c not in ['MachineIdentifier']]\n",
    "features = [c for c in train.columns if c not in ['MachineIdentifier']]\n",
    "predictions = np.zeros(len(test))\n",
    "start = time.time()\n",
    "feature_importance_df = pd.DataFrame()\n",
    "start_time= time.time()\n",
    "score = [0 for _ in range(folds.n_splits)]\n",
    "\n",
    "for fold_, (trn_idx, val_idx) in enumerate(folds.split(train.values, target.values)):\n",
    "    print(\"fold n°{}\".format(fold_))\n",
    "    trn_data = lgb.Dataset(train.iloc[trn_idx][features],\n",
    "                           label=target.iloc[trn_idx],\n",
    "                           categorical_feature = categorical_columns\n",
    "                          )\n",
    "    val_data = lgb.Dataset(train.iloc[val_idx][features],\n",
    "                           label=target.iloc[val_idx],\n",
    "                           categorical_feature = categorical_columns\n",
    "                          )\n",
    "\n",
    "    num_round = 10000\n",
    "    clf = lgb.train(param,\n",
    "                    trn_data,\n",
    "                    num_round,\n",
    "                    valid_sets = [trn_data, val_data],\n",
    "                    verbose_eval=100,\n",
    "                    early_stopping_rounds = 200)\n",
    "    \n",
    "    oof[val_idx] = clf.predict(train.iloc[val_idx][features], num_iteration=clf.best_iteration)\n",
    "    \n",
    "    fold_importance_df = pd.DataFrame()\n",
    "    fold_importance_df[\"feature\"] = features\n",
    "    fold_importance_df[\"importance\"] = clf.feature_importance(importance_type='gain')\n",
    "    fold_importance_df[\"fold\"] = fold_ + 1\n",
    "    feature_importance_df = pd.concat([feature_importance_df, fold_importance_df], axis=0)\n",
    "\n",
    "    # we perform predictions by chunks\n",
    "    initial_idx = 0\n",
    "    chunk_size = 100000\n",
    "    current_pred = np.zeros(len(test))\n",
    "    while initial_idx < test.shape[0]:\n",
    "        final_idx = min(initial_idx + chunk_size, test.shape[0])\n",
    "        idx = range(initial_idx, final_idx)\n",
    "        current_pred[idx] = clf.predict(test.iloc[idx][features], num_iteration=clf.best_iteration)\n",
    "        initial_idx = final_idx\n",
    "    predictions += current_pred / min(folds.n_splits, max_iter)\n",
    "   \n",
    "    print(\"time elapsed: {:<5.2}s\".format((time.time() - start_time) / 3600))\n",
    "    score[fold_] = metrics.roc_auc_score(target.iloc[val_idx], oof[val_idx])\n",
    "    if fold_ == max_iter - 1: break\n",
    "        \n",
    "if (folds.n_splits == max_iter):\n",
    "    print(\"CV score: {:<8.5f}\".format(metrics.roc_auc_score(target, oof)))\n",
    "else:\n",
    "    print(\"CV score: {:<8.5f}\".format(sum(score) / max_iter))"
   ]
  },
  {
   "cell_type": "code",
   "execution_count": null,
   "metadata": {},
   "outputs": [],
   "source": [
    "score"
   ]
  },
  {
   "cell_type": "code",
   "execution_count": 23,
   "metadata": {},
   "outputs": [
    {
     "data": {
      "text/plain": [
       "[0.7340464250497462, 0.7339649700713216]"
      ]
     },
     "execution_count": 23,
     "metadata": {},
     "output_type": "execute_result"
    }
   ],
   "source": [
    "score"
   ]
  },
  {
   "cell_type": "code",
   "execution_count": 25,
   "metadata": {},
   "outputs": [
    {
     "data": {
      "text/plain": [
       "[0.7337612358840596, 0.7337589776724989]"
      ]
     },
     "execution_count": 25,
     "metadata": {},
     "output_type": "execute_result"
    }
   ],
   "source": [
    "score"
   ]
  },
  {
   "cell_type": "markdown",
   "metadata": {
    "_uuid": "15075259e27c5180c8e650ac9c9bc06f8ca2239b"
   },
   "source": [
    "<a id=\"4\"></a> <br>\n",
    "## 4. Feature importance"
   ]
  },
  {
   "cell_type": "code",
   "execution_count": null,
   "metadata": {
    "_uuid": "8b814f54b6ee5665fcadaa4b1a1bd28282fc2390",
    "scrolled": false
   },
   "outputs": [],
   "source": [
    "cols = (feature_importance_df[[\"feature\", \"importance\"]]\n",
    "        .groupby(\"feature\")\n",
    "        .mean()\n",
    "        .sort_values(by=\"importance\", ascending=False)[:1000].index)\n",
    "\n",
    "best_features = feature_importance_df.loc[feature_importance_df.feature.isin(cols)]\n",
    "\n",
    "plt.figure(figsize=(14,25))\n",
    "sns.barplot(x=\"importance\",\n",
    "            y=\"feature\",\n",
    "            data=best_features.sort_values(by=\"importance\",\n",
    "                                           ascending=False))\n",
    "plt.title('LightGBM Features (avg over folds)')\n",
    "plt.tight_layout()\n",
    "plt.savefig('lgbm_importances.png')"
   ]
  },
  {
   "cell_type": "code",
   "execution_count": 26,
   "metadata": {
    "_uuid": "8b814f54b6ee5665fcadaa4b1a1bd28282fc2390",
    "scrolled": false
   },
   "outputs": [
    {
     "data": {
      "image/png": "[encoded data removed]",
      "text/plain": [
       "<Figure size 1008x1800 with 1 Axes>"
      ]
     },
     "metadata": {},
     "output_type": "display_data"
    }
   ],
   "source": [
    "cols = (feature_importance_df[[\"feature\", \"importance\"]]\n",
    "        .groupby(\"feature\")\n",
    "        .mean()\n",
    "        .sort_values(by=\"importance\", ascending=False)[:1000].index)\n",
    "\n",
    "best_features = feature_importance_df.loc[feature_importance_df.feature.isin(cols)]\n",
    "\n",
    "plt.figure(figsize=(14,25))\n",
    "sns.barplot(x=\"importance\",\n",
    "            y=\"feature\",\n",
    "            data=best_features.sort_values(by=\"importance\",\n",
    "                                           ascending=False))\n",
    "plt.title('LightGBM Features (avg over folds)')\n",
    "plt.tight_layout()\n",
    "plt.savefig('lgbm_importances.png')"
   ]
  },
  {
   "cell_type": "markdown",
   "metadata": {
    "_uuid": "08a4c881ae24d784e9ee3c197d1188e26fdb40c7"
   },
   "source": [
    "<a id=\"5\"></a> <br>\n",
    "## 5. Submission"
   ]
  },
  {
   "cell_type": "code",
   "execution_count": null,
   "metadata": {
    "_uuid": "1fe8a68970387c8e57d373b4d0944731a32ccd51"
   },
   "outputs": [],
   "source": [
    "sub_df = pd.DataFrame({\"MachineIdentifier\": test[\"MachineIdentifier\"].values})\n",
    "sub_df[\"HasDetections\"] = predictions\n",
    "sub_df[:10]"
   ]
  },
  {
   "cell_type": "code",
   "execution_count": null,
   "metadata": {},
   "outputs": [],
   "source": [
    "sub_df.shape"
   ]
  },
  {
   "cell_type": "code",
   "execution_count": null,
   "metadata": {
    "_uuid": "65cd74398d3f80186d65a2ff3431403a6846e229"
   },
   "outputs": [],
   "source": [
    "sub_df.to_csv(\"submit.csv\", index=False)"
   ]
  },
  {
   "cell_type": "code",
   "execution_count": null,
   "metadata": {
    "collapsed": true
   },
   "outputs": [],
   "source": []
  }
 ],
 "metadata": {
  "kernelspec": {
   "display_name": "Python 3",
   "language": "python",
   "name": "python3"
  },
  "language_info": {
   "codemirror_mode": {
    "name": "ipython",
    "version": 3
   },
   "file_extension": ".py",
   "mimetype": "text/x-python",
   "name": "python",
   "nbconvert_exporter": "python",
   "pygments_lexer": "ipython3",
   "version": "3.7.1"
  },
  "toc": {
   "base_numbering": 1,
   "nav_menu": {},
   "number_sections": false,
   "sideBar": false,
   "skip_h1_title": false,
   "title_cell": "Table of Contents",
   "title_sidebar": "Contents",
   "toc_cell": false,
   "toc_position": {},
   "toc_section_display": false,
   "toc_window_display": false
  }
 },
 "nbformat": 4,
 "nbformat_minor": 1
}
