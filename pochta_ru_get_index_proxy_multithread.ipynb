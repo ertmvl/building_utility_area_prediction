{
 "cells": [
  {
   "cell_type": "markdown",
   "metadata": {},
   "source": [
    "## Request address index via address: pochta.ru/post-index"
   ]
  },
  {
   "cell_type": "code",
   "execution_count": 1,
   "metadata": {},
   "outputs": [
    {
     "data": {
      "text/html": [
       "<style>.container { width:99% !important; }</style>"
      ],
      "text/plain": [
       "<IPython.core.display.HTML object>"
      ]
     },
     "metadata": {},
     "output_type": "display_data"
    }
   ],
   "source": [
    "import pandas as pd\n",
    "import numpy as np\n",
    "import time\n",
    "import re\n",
    "\n",
    "#import socket\n",
    "#from tqdm import tqdm\n",
    "from random import choice, uniform\n",
    "import requests\n",
    "import json\n",
    "from fake_useragent import UserAgent\n",
    "import bs4\n",
    "\n",
    "from multiprocessing import Pool, cpu_count\n",
    "from multiprocessing.dummy import Pool as ThreadPool\n",
    "\n",
    "from sqlalchemy import create_engine\n",
    "import cx_Oracle #before import, execute from Anaconda prompt: conda install cx_Oracle\n",
    "\n",
    "from IPython.core.display import display, HTML, display_html\n",
    "display(HTML(\"<style>.container { width:99% !important; }</style>\")) # set full window wide cells (only in this notebook)\n",
    "\n",
    "# Display some dataframes in one cell from left to right \n",
    "def display_side_by_side(*args):\n",
    "    html_str=''\n",
    "    for df in args:\n",
    "        html_str+=df.to_html()\n",
    "    display_html(html_str.replace('table','table style=\"display:inline\"'),raw=True)\n",
    "    \n",
    "pd.set_option('display.max_columns', None)\n",
    "pd.set_option('display.max_rows', None)\n",
    "pd.set_option('display.max_colwidth', 220)\n",
    "pd.set_option('display.precision', 2)\n",
    "pd.set_option('display.float_format', '{:,.2f}'.format)"
   ]
  },
  {
   "cell_type": "code",
   "execution_count": 2,
   "metadata": {},
   "outputs": [],
   "source": [
    "url = 'https://www.pochta.ru/portal-portlet/delegate/postoffice-api/method/offices.find.forAddress'\n",
    "headers = {'Accept': 'application/json',}\n",
    "cookies = {\n",
    "    'JSESSIONID': '68ADFA92B4F5B1E7643D938E9C1952FE',\n",
    "    'ANALYTICS_UUID': 'efda9147-5b7b-442d-82e2-9519f143ff49',\n",
    "    'GUEST_LANGUAGE_ID': 'ru_RU',\n",
    "    'COOKIE_SUPPORT': 'true',\n",
    "    '_ga': 'GA1.2.883162138.1541063535',\n",
    "    '_gid': 'GA1.2.128994641.1541063535',\n",
    "    '_ym_uid': '1541063535465768396', \n",
    "    '_ym_d': '1541063535', \n",
    "    '_ym_isad': '2',\n",
    "    'HeaderBusinessTooltip': 'showed',\n",
    "    'webchat-uuid': 'c645b2a8-46c7-4783-9377-ccfeb584edad', \n",
    "    'sputnik_session': '1541072375545|0',\n",
    "}"
   ]
  },
  {
   "cell_type": "code",
   "execution_count": 4,
   "metadata": {},
   "outputs": [
    {
     "data": {
      "application/vnd.jupyter.widget-view+json": {
       "model_id": "a3d13e4a4b80452eabe8c448983e0152",
       "version_major": 2,
       "version_minor": 0
      }
     },
     "metadata": {},
     "output_type": "display_data"
    }
   ],
   "source": [
    "#PROXY IP (16k)\n",
    "df_proxys = pd.read_excel('//home/data/parsing/proxy.xlsx')\n",
    "df_proxys.head()"
   ]
  },
  {
   "cell_type": "code",
   "execution_count": 5,
   "metadata": {},
   "outputs": [
    {
     "data": {
      "text/plain": [
       "'37.59.248.191:8080'"
      ]
     },
     "execution_count": 5,
     "metadata": {},
     "output_type": "execute_result"
    }
   ],
   "source": [
    "#TEST\n",
    "random_proxy_idx = choice(df_proxys['proxy'].index)\n",
    "df_proxys.loc[random_proxy_idx]['proxy']"
   ]
  },
  {
   "cell_type": "code",
   "execution_count": null,
   "metadata": {},
   "outputs": [],
   "source": [
    "df = pd.read_excel('Список адресов для получения индекса с pochta_ru (4463 ФЛ 2019-04-15).xlsx', dtype='object', index_col=0)\n",
    "df = df.fillna('').reset_index(drop=True)\n",
    "df = df.astype(str)\n",
    "df['Индекс1'] = '0'\n",
    "df['Индекс2'] = '0'\n",
    "df = df.iloc[:,:15].join([df.iloc[:,-2:], df.iloc[:,15:-2]])\n",
    "df['Полный адрес'] = df['Регион']+', '+df['Город']+', '+df['Поселение']+', '+df['Населенный пункт1']+', '+df['Улица1']+', '+df['Дом1']+', '+df['Корпус1']\n",
    "df['Полный адрес'] = df['Полный адрес'].apply(lambda x: re.sub('(, )+', ', ', x))\n",
    "\n",
    "#df['Регион'][df['Полный адрес'].str.contains('осковская обл')] = 'Московская область'\n",
    "\n",
    "df['Адрес'] = df['Регион']+', '+df['Город']+', '+df['Поселение']+', '+df['Населенный пункт1']+', '+df['Улица1']+', '+df['Дом1']+', '+df['Корпус1']\n",
    "df['Адрес'] = df['Адрес'].apply(lambda x: re.sub('(, )+', ', ', x))\n",
    "df['Адрес_сокр'] = df['Регион']+', '+df['Город']+', '+df['Поселение']+', '+df['Населенный пункт1']\n",
    "df['Адрес_сокр'] = df['Адрес_сокр'].apply(lambda x: re.sub('(, )+', ', ', x))\n",
    "display_side_by_side(df.head(2), df.tail(2))"
   ]
  },
  {
   "cell_type": "code",
   "execution_count": null,
   "metadata": {},
   "outputs": [],
   "source": [
    "post_counter = 0\n",
    "global post_counter"
   ]
  },
  {
   "cell_type": "code",
   "execution_count": 46,
   "metadata": {},
   "outputs": [],
   "source": [
    "def pochta_index(addr, use_proxy=True):\n",
    "    data = {'address': addr}\n",
    "    \n",
    "    if use_proxy: #With proxy\n",
    "        \n",
    "        timeout=True\n",
    "        while timeout:\n",
    "            \n",
    "            random_proxy_idx = choice(df_proxys['proxy'].index)\n",
    "            while df_proxys.loc[random_proxy_idx,'retry'] > 0:\n",
    "                random_proxy_idx = choice(df_proxys['proxy'].index)\n",
    "                \n",
    "            proxy = {'https': 'http://' + df_proxys.loc[random_proxy_idx]['proxy']}\n",
    "            \n",
    "            try:\n",
    "                r = requests.post(url, headers=headers, cookies=cookies, data=data, proxies=proxy, timeout=2)\n",
    "                timeout=False\n",
    "                df_proxys.loc[random_proxy_idx,'retry'] -= 1\n",
    "            except Exception as e:\n",
    "                #print(e, 'Change proxy...', proxy)\n",
    "                #print('Change proxy...', proxy)\n",
    "                df_proxys.loc[random_proxy_idx,'retry'] += 1\n",
    "                timeout=True\n",
    "    else: #Without proxy\n",
    "        r = requests.post(url, headers=headers, cookies=cookies, data=data)\n",
    "    \n",
    "    valid_json_string = \"[\" + r.text + \"]\"  # or \"[{0}]\".format(your_string)\n",
    "    try:\n",
    "        valid_json_string = json.loads(valid_json_string)\n",
    "    except:\n",
    "        valid_json_string = \"[\" + r.text + \"]\"\n",
    "    return valid_json_string"
   ]
  },
  {
   "cell_type": "code",
   "execution_count": 47,
   "metadata": {},
   "outputs": [],
   "source": [
    "def gis2_index(address):\n",
    "    headers = {'userAgent': 'Mozilla/5.0 (Windows NT 6.1; Win64; x64) AppleWebKit/537.36 (KHTML, like Gecko) Chrome/72.0.3626.121 Safari/537.36',\n",
    "           'BrowserBaseVersion': '72.0.3626.121', 'OSFamily': 'Windows', 'BrowserVersion': '72.0.3626.121', \n",
    "           'x64': 'true', 'OSVersion': '6.1', 'OSName': 'Windows 7', 'appCodeName': 'Mozilla', 'appName': 'Netscape', \n",
    "           'appVersion': '5.0 (Windows NT 6.1; Win64; x64) AppleWebKit/537.36 (KHTML, like Gecko) Chrome/72.0.3626.121 Safari/537.36',\n",
    "           'doNotTrack': '1', 'platform': 'Win32', 'product': 'Gecko', 'productSub': '20030107', 'vendor': 'Google Inc.', \n",
    "           'geolocation': 'denied', 'notifications': 'denied'}\n",
    "\n",
    "    url='https://beta.2gis.ru/moscow/search/'+ address +'?m=37.607557%2C55.790193%2F10.73'\n",
    "    content = requests.get(url, headers=headers)\n",
    "    soap = bs4.BeautifulSoup(content.text, \"html.parser\")\n",
    "    try:\n",
    "        url = soap.select('div._1h3cgic')[0].select('a')[0]['href']\n",
    "    except:\n",
    "        return '0'\n",
    "    url_main = 'https://beta.2gis.ru'\n",
    "    content = requests.get(url_main + url, headers=headers)\n",
    "    soap = bs4.BeautifulSoup(content.text, \"html.parser\")\n",
    "    try:\n",
    "        index_org = soap.select('li._1w9o2igt')[1].text\n",
    "    except:\n",
    "        index_org = '0'\n",
    "    return index_org"
   ]
  },
  {
   "cell_type": "code",
   "execution_count": 73,
   "metadata": {},
   "outputs": [
    {
     "data": {
      "text/plain": [
       "'108830'"
      ]
     },
     "execution_count": 73,
     "metadata": {},
     "output_type": "execute_result"
    }
   ],
   "source": [
    "#TEST FOR ONE ADDRESS\n",
    "pochta_index('г. Москва, ст. Мачихино, с/т \"Полесье\"')[0]['postOffices'][0]['index']"
   ]
  },
  {
   "cell_type": "code",
   "execution_count": 52,
   "metadata": {},
   "outputs": [],
   "source": [
    "def pochta_mp(df_sub):\n",
    "    \n",
    "    global post_counter\n",
    "    addr_index1 = []\n",
    "    addr_index2 = []\n",
    "    addr = []\n",
    "    for idx, i, j, k, l in zip(df_sub['Полный адрес'].index, df_sub['Полный адрес'], df_sub['Адрес'], df_sub['Адрес_сокр'], df['Регион']+', '+df['Поселение']):\n",
    "        \n",
    "        post_counter += 1\n",
    "        print(idx, end=' ')\n",
    "        if post_counter % 100 == 0:\n",
    "            print('\\n',time.ctime()[11:-5], 'Counter:', post_counter)\n",
    "            \n",
    "        content1 = pochta_index(i)\n",
    "        try:\n",
    "            content1 = content1[0]['postOffices'][0]['index']\n",
    "        except:\n",
    "            \n",
    "            content1 = pochta_index(j)\n",
    "            try:\n",
    "                content1 = content1[0]['postOffices'][0]['index']\n",
    "            except:\n",
    "        \n",
    "                content1 = pochta_index(k)\n",
    "                try:\n",
    "                    content1 = content1[0]['postOffices'][0]['index']\n",
    "                except:\n",
    "        \n",
    "                    content1 = pochta_index(l)\n",
    "                    try:\n",
    "                        content1 = content1[0]['postOffices'][0]['index']\n",
    "                    except:\n",
    "                        content1 = '0'\n",
    "\n",
    "        content2 = gis2_index(i)\n",
    "        try:\n",
    "            content2 = int(content2)\n",
    "        except:\n",
    "            \n",
    "            content2 = gis2_index(j)\n",
    "            try:\n",
    "                content2 = int(content2)\n",
    "            except:\n",
    "        \n",
    "                content2 = gis2_index(k)\n",
    "                try:\n",
    "                    content2 = int(content2)\n",
    "                except:\n",
    "\n",
    "                    content2 = gis2_index(l)\n",
    "                    try:\n",
    "                        content2 = int(content2)\n",
    "                    except:\n",
    "                        content2 = '0'\n",
    "\n",
    "        addr_index1.append(content1)\n",
    "        addr_index2.append(content2)\n",
    "        addr.append(i)\n",
    "        \n",
    "        \n",
    "    return pd.DataFrame({'addr_index1': addr_index1, 'addr_index2': addr_index2, 'addr': addr})"
   ]
  },
  {
   "cell_type": "code",
   "execution_count": null,
   "metadata": {},
   "outputs": [],
   "source": [
    "#First try\n",
    "post_counter = 0\n",
    "print('Indexes for post:', len(df[df['Индекс']=='']))\n",
    "\n",
    "print(time.ctime()[11:-5], 'Start')\n",
    "\n",
    "\n",
    "try_num = 1\n",
    "while ( len(df[df['Индекс']==''])>0 ) and ( try_num<=3 ):\n",
    "\n",
    "    index_for_check = df[df['Индекс']==''].index\n",
    "\n",
    "    try: # Delete MP pool, if it present!\n",
    "        pool.close()\n",
    "        print('old pool deleted!')\n",
    "    except NameError:\n",
    "        print('pool absent!')\n",
    "\n",
    "    try: # try to use MP, get proc count\n",
    "        cpus = cpu_count()\n",
    "    except NotImplementedError:\n",
    "        cpus = 2   # arbitrary default\n",
    "\n",
    "    if len(index_for_check)<16:\n",
    "        cpus = len(index_for_check)\n",
    "    #cpus=1 # Set lower proc count, if memory not enough\n",
    "    print('Use', cpus, 'threads')\n",
    "\n",
    "    pool = ThreadPool(processes=cpus)\n",
    "\n",
    "    df_index = pd.concat( pool.map( pochta_mp, pd.np.array_split(df.loc[index_for_check], cpus) ), ignore_index=True)#.reset_index(drop=True)\n",
    "    \n",
    "    #Close pool\n",
    "    pool.close()\n",
    "    pool.join()\n",
    "    \n",
    "    df['Индекс1'].loc[index_for_check] = np.array(df_index['addr_index1'])\n",
    "    df['Индекс2'].loc[index_for_check] = np.array(df_index['addr_index2'])\n",
    "    #display_side_by_side(df.loc[index_for_check])\n",
    "    print('Not found in Pochta:', len(df[df['Индекс1']=='0']))\n",
    "    print('Not found in 2Gis:', len(df[df['Индекс2']=='0']))\n",
    "    try_num += 1\n",
    "\n",
    "\n",
    "print(time.ctime()[11:-5], 'Finish')\n",
    "#display_side_by_side(df_index[df_index['addr_index']=='0'])\n",
    "df"
   ]
  },
  {
   "cell_type": "code",
   "execution_count": 54,
   "metadata": {},
   "outputs": [],
   "source": [
    "df_all = df_index.copy()\n",
    "df_all.to_excel('Список индексов с pochta_ru (2019-04-15 ФЛ).xlsx')"
   ]
  },
  {
   "cell_type": "code",
   "execution_count": null,
   "metadata": {},
   "outputs": [],
   "source": [
    "\n",
    "\n",
    "\n",
    "\n",
    "\n",
    "\n",
    "\n",
    "\n",
    "#TEST AND SAVE PROXY GATES WORK STATUS"
   ]
  },
  {
   "cell_type": "code",
   "execution_count": 11,
   "metadata": {},
   "outputs": [
    {
     "data": {
      "text/plain": [
       "(20761, 722)"
      ]
     },
     "execution_count": 11,
     "metadata": {},
     "output_type": "execute_result"
    }
   ],
   "source": [
    "#proxy status level: negative value - good worked proxy\n",
    "len(df_proxys[df_proxys['retry']>0]), len(df_proxys[df_proxys['retry']<0])"
   ]
  },
  {
   "cell_type": "code",
   "execution_count": 12,
   "metadata": {},
   "outputs": [
    {
     "data": {
      "text/plain": [
       " 1     20725\n",
       "-4        58\n",
       "-6        53\n",
       "-5        51\n",
       "-9        49\n",
       "-11       45\n",
       "-7        43\n",
       "-10       42\n",
       "-2        37\n",
       "-8        37\n",
       " 2        36\n",
       "-12       36\n",
       "-1        36\n",
       "-3        33\n",
       "-14       32\n",
       "-16       30\n",
       "-13       24\n",
       "-15       23\n",
       " 0        22\n",
       "-17       21\n",
       "-19       14\n",
       "-18       13\n",
       "-20       10\n",
       "-21        8\n",
       "-24        5\n",
       "-25        5\n",
       "-26        4\n",
       "-22        4\n",
       "-23        3\n",
       "-27        2\n",
       "-28        2\n",
       "-30        1\n",
       "-31        1\n",
       "Name: retry, dtype: int64"
      ]
     },
     "execution_count": 12,
     "metadata": {},
     "output_type": "execute_result"
    }
   ],
   "source": [
    "df_proxys['retry'].value_counts()"
   ]
  },
  {
   "cell_type": "code",
   "execution_count": 13,
   "metadata": {},
   "outputs": [],
   "source": [
    "df_proxys.to_excel('//home/data/parsing/proxy.xlsx')"
   ]
  }
 ],
 "metadata": {
  "kernelspec": {
   "display_name": "Python 3",
   "language": "python",
   "name": "python3"
  },
  "language_info": {
   "codemirror_mode": {
    "name": "ipython",
    "version": 3
   },
   "file_extension": ".py",
   "mimetype": "text/x-python",
   "name": "python",
   "nbconvert_exporter": "python",
   "pygments_lexer": "ipython3",
   "version": "3.6.5"
  },
  "toc": {
   "base_numbering": 1,
   "nav_menu": {},
   "number_sections": false,
   "sideBar": false,
   "skip_h1_title": false,
   "title_cell": "Table of Contents",
   "title_sidebar": "Contents",
   "toc_cell": false,
   "toc_position": {},
   "toc_section_display": false,
   "toc_window_display": false
  }
 },
 "nbformat": 4,
 "nbformat_minor": 2
}
