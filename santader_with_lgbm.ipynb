{
 "cells": [
  {
   "cell_type": "markdown",
   "metadata": {},
   "source": [
    "# Install lightgbm"
   ]
  },
  {
   "cell_type": "code",
   "execution_count": 2,
   "metadata": {},
   "outputs": [
    {
     "name": "stdout",
     "output_type": "stream",
     "text": [
      "Requirement already satisfied: lightgbm in /home/user/anaconda3/lib/python3.7/site-packages (2.2.3)\r\n",
      "Requirement already satisfied: scipy in /home/user/anaconda3/lib/python3.7/site-packages (from lightgbm) (1.1.0)\r\n",
      "Requirement already satisfied: numpy in /home/user/anaconda3/lib/python3.7/site-packages (from lightgbm) (1.15.4)\r\n",
      "Requirement already satisfied: scikit-learn in /home/user/anaconda3/lib/python3.7/site-packages (from lightgbm) (0.20.1)\r\n"
     ]
    }
   ],
   "source": [
    "!/home/user/anaconda3/bin/pip install lightgbm"
   ]
  },
  {
   "cell_type": "markdown",
   "metadata": {},
   "source": [
    "# Download from kaggle with kaggle driver"
   ]
  },
  {
   "cell_type": "code",
   "execution_count": 62,
   "metadata": {
    "scrolled": false
   },
   "outputs": [
    {
     "name": "stdout",
     "output_type": "stream",
     "text": [
      "train.csv.zip: Skipping, found more recently modified local copy (use --force to force download)\n",
      "Downloading sample_submission.csv.zip to /home/user/work/Santader\n",
      "\n",
      "test.csv.zip: Skipping, found more recently modified local copy (use --force to force download)\n"
     ]
    },
    {
     "name": "stderr",
     "output_type": "stream",
     "text": [
      "\r",
      "  0%|          | 0.00/463k [00:00<?, ?B/s]\r",
      "100%|██████████| 463k/463k [00:00<00:00, 5.92MB/s]\n"
     ]
    }
   ],
   "source": [
    "%%bash\n",
    "/home/user/anaconda3/bin/kaggle competitions download -c santander-customer-transaction-prediction"
   ]
  },
  {
   "cell_type": "code",
   "execution_count": 76,
   "metadata": {},
   "outputs": [
    {
     "data": {
      "text/html": [
       "<style>.container { width:99% !important; }</style>"
      ],
      "text/plain": [
       "<IPython.core.display.HTML object>"
      ]
     },
     "metadata": {},
     "output_type": "display_data"
    }
   ],
   "source": [
    "import lightgbm as lgb\n",
    "import pandas as pd\n",
    "import numpy as np\n",
    "import zipfile\n",
    "\n",
    "import os\n",
    "import subprocess\n",
    "\n",
    "from datetime import datetime\n",
    "from pathlib import Path\n",
    "from sklearn.model_selection import StratifiedKFold\n",
    "from sklearn.model_selection import RepeatedStratifiedKFold\n",
    "\n",
    "import warnings\n",
    "warnings.simplefilter(action='ignore', category=FutureWarning)\n",
    "\n",
    "from IPython.core.display import display, HTML, display_html\n",
    "display(HTML(\"<style>.container { width:99% !important; }</style>\")) # set full window wide cells (only in this notebook)\n",
    "\n",
    "def display_side_by_side(*args):\n",
    "    html_str=''\n",
    "    for df in args:\n",
    "        html_str+=df.to_html()\n",
    "    display_html(html_str.replace('table','table style=\"display:inline\"'),raw=True)\n",
    "    \n",
    "pd.set_option('display.max_columns', 500)\n",
    "pd.set_option('display.max_rows', 5000)"
   ]
  },
  {
   "cell_type": "markdown",
   "metadata": {},
   "source": [
    "# Make dir and unzip all"
   ]
  },
  {
   "cell_type": "code",
   "execution_count": 17,
   "metadata": {},
   "outputs": [],
   "source": [
    "#zip_ref = zipfile.ZipFile('train.csv.zip', 'r')\n",
    "#zip_ref.extractall()\n",
    "#zip_ref.close()\n",
    "\n",
    "os.mkdir('input')\n",
    "zipfile.ZipFile('train.csv.zip', 'r').extractall('input/')\n",
    "zipfile.ZipFile('test.csv.zip', 'r').extractall('input/')\n",
    "zipfile.ZipFile('sample_submission.csv.zip', 'r').extractall('input/')"
   ]
  },
  {
   "cell_type": "code",
   "execution_count": 3,
   "metadata": {},
   "outputs": [
    {
     "name": "stdout",
     "output_type": "stream",
     "text": [
      "итого 250640\n",
      "     4 input\n",
      "   464 sample_submission.csv.zip\n",
      "    16 Santader.ipynb\n",
      "124920 test.csv.zip\n",
      "125236 train.csv.zip\n"
     ]
    }
   ],
   "source": [
    "%%bash\n",
    "ls -s"
   ]
  },
  {
   "cell_type": "code",
   "execution_count": 2,
   "metadata": {},
   "outputs": [
    {
     "name": "stdout",
     "output_type": "stream",
     "text": [
      "итого 592140\n",
      "  2628 sample_submission.csv\n",
      "294460 test.csv\n",
      "295052 train.csv\n"
     ]
    }
   ],
   "source": [
    "%%bash\n",
    "ls input/ -s"
   ]
  },
  {
   "cell_type": "code",
   "execution_count": 4,
   "metadata": {},
   "outputs": [],
   "source": [
    "\n",
    "\n",
    "\n",
    "#START"
   ]
  },
  {
   "cell_type": "code",
   "execution_count": 9,
   "metadata": {},
   "outputs": [
    {
     "data": {
      "text/plain": [
       "(179902, 20098)"
      ]
     },
     "execution_count": 9,
     "metadata": {},
     "output_type": "execute_result"
    }
   ],
   "source": [
    "path='input/'\n",
    "df_train=pd.read_csv(path+'train.csv').drop('ID_code',axis=1)\n",
    "df_test=pd.read_csv(path+'test.csv').drop('ID_code',axis=1)\n",
    "len(train[train.target==0]), len(train[train.target==1])"
   ]
  },
  {
   "cell_type": "code",
   "execution_count": 2,
   "metadata": {},
   "outputs": [],
   "source": [
    "## Inspiration from\n",
    "#https://www.kaggle.com/jiweiliu/lgb-2-leaves-augment\n",
    "def augment(df_train,num_n=1,num_p=2):\n",
    "    newtrain=[train]\n",
    "    \n",
    "    for i in range(num_n):\n",
    "        n=df_train[df_train.target==0]\n",
    "        newtrain.append(n.apply(lambda x: x.values.take(np.random.permutation(len(n)))))\n",
    "    \n",
    "    for i in range(num_p):\n",
    "        p=df_train[df_train.target==1]\n",
    "        newtrain.append(p.apply(lambda x: x.values.take(np.random.permutation(len(p)))))\n",
    "    return pd.concat(newtrain)\n",
    "#df=oversample(train,2,1)"
   ]
  },
  {
   "cell_type": "code",
   "execution_count": 3,
   "metadata": {},
   "outputs": [],
   "source": [
    "param = {\n",
    "    'bagging_freq': 5,\n",
    "    'bagging_fraction': 0.335,\n",
    "    'boost_from_average':'false',\n",
    "    'boost': 'gbdt',\n",
    "    'feature_fraction': 0.041,\n",
    "    'learning_rate': 0.0083,\n",
    "    'max_depth': -1,\n",
    "    'metric':'auc',\n",
    "    'min_data_in_leaf': 80,\n",
    "    'min_sum_hessian_in_leaf': 10.0,\n",
    "    'num_leaves': 13,\n",
    "    'num_threads': -1,\n",
    "    'tree_learner': 'serial',\n",
    "    'objective': 'binary', \n",
    "    'verbosity': -1\n",
    "    #'scaleposweight': 1,\n",
    "    #'is_unbalance': True\n",
    "}"
   ]
  },
  {
   "cell_type": "code",
   "execution_count": 6,
   "metadata": {},
   "outputs": [
    {
     "name": "stdout",
     "output_type": "stream",
     "text": [
      "1\n",
      "Training until validation scores don't improve for 4000 rounds.\n",
      "[500]\ttraining's auc: 0.888273\tvalid_1's auc: 0.880517\n",
      "[1000]\ttraining's auc: 0.893134\tvalid_1's auc: 0.884581\n",
      "[1500]\ttraining's auc: 0.896485\tvalid_1's auc: 0.887492\n",
      "[2000]\ttraining's auc: 0.899162\tvalid_1's auc: 0.889545\n",
      "[2500]\ttraining's auc: 0.901348\tvalid_1's auc: 0.891479\n",
      "[3000]\ttraining's auc: 0.903076\tvalid_1's auc: 0.892915\n",
      "[3500]\ttraining's auc: 0.904741\tvalid_1's auc: 0.894421\n",
      "[4000]\ttraining's auc: 0.906188\tvalid_1's auc: 0.895592\n",
      "[4500]\ttraining's auc: 0.907434\tvalid_1's auc: 0.896519\n",
      "[5000]\ttraining's auc: 0.908628\tvalid_1's auc: 0.897403\n",
      "[5500]\ttraining's auc: 0.909676\tvalid_1's auc: 0.898092\n",
      "[6000]\ttraining's auc: 0.910662\tvalid_1's auc: 0.898767\n",
      "[6500]\ttraining's auc: 0.911604\tvalid_1's auc: 0.899313\n",
      "[7000]\ttraining's auc: 0.912477\tvalid_1's auc: 0.89979\n",
      "[7500]\ttraining's auc: 0.913294\tvalid_1's auc: 0.900155\n",
      "[8000]\ttraining's auc: 0.914072\tvalid_1's auc: 0.900502\n",
      "[8500]\ttraining's auc: 0.9148\tvalid_1's auc: 0.900792\n",
      "[9000]\ttraining's auc: 0.915521\tvalid_1's auc: 0.90105\n",
      "[9500]\ttraining's auc: 0.916214\tvalid_1's auc: 0.901237\n",
      "[10000]\ttraining's auc: 0.916842\tvalid_1's auc: 0.90134\n",
      "[10500]\ttraining's auc: 0.917478\tvalid_1's auc: 0.901452\n",
      "[11000]\ttraining's auc: 0.918103\tvalid_1's auc: 0.901543\n",
      "[11500]\ttraining's auc: 0.918711\tvalid_1's auc: 0.901585\n",
      "[12000]\ttraining's auc: 0.919302\tvalid_1's auc: 0.901596\n",
      "[12500]\ttraining's auc: 0.919872\tvalid_1's auc: 0.901604\n",
      "[13000]\ttraining's auc: 0.920454\tvalid_1's auc: 0.901602\n",
      "[13500]\ttraining's auc: 0.921011\tvalid_1's auc: 0.901624\n",
      "[14000]\ttraining's auc: 0.921571\tvalid_1's auc: 0.901606\n",
      "[14500]\ttraining's auc: 0.92213\tvalid_1's auc: 0.901556\n",
      "[15000]\ttraining's auc: 0.922666\tvalid_1's auc: 0.901538\n",
      "[15500]\ttraining's auc: 0.923196\tvalid_1's auc: 0.90152\n",
      "[16000]\ttraining's auc: 0.923715\tvalid_1's auc: 0.901486\n",
      "[16500]\ttraining's auc: 0.924239\tvalid_1's auc: 0.901517\n",
      "[17000]\ttraining's auc: 0.924765\tvalid_1's auc: 0.901501\n",
      "[17500]\ttraining's auc: 0.925269\tvalid_1's auc: 0.901489\n",
      "Early stopping, best iteration is:\n",
      "[13534]\ttraining's auc: 0.92105\tvalid_1's auc: 0.901634\n",
      "2\n",
      "Training until validation scores don't improve for 4000 rounds.\n",
      "[500]\ttraining's auc: 0.888953\tvalid_1's auc: 0.875323\n",
      "[1000]\ttraining's auc: 0.893887\tvalid_1's auc: 0.87994\n",
      "[1500]\ttraining's auc: 0.897125\tvalid_1's auc: 0.882616\n",
      "[2000]\ttraining's auc: 0.899885\tvalid_1's auc: 0.885184\n",
      "[2500]\ttraining's auc: 0.902075\tvalid_1's auc: 0.886879\n",
      "[3000]\ttraining's auc: 0.903816\tvalid_1's auc: 0.888109\n",
      "[3500]\ttraining's auc: 0.905419\tvalid_1's auc: 0.88949\n",
      "[4000]\ttraining's auc: 0.906879\tvalid_1's auc: 0.890635\n",
      "[4500]\ttraining's auc: 0.908113\tvalid_1's auc: 0.891582\n",
      "[5000]\ttraining's auc: 0.909313\tvalid_1's auc: 0.892402\n",
      "[5500]\ttraining's auc: 0.910372\tvalid_1's auc: 0.893111\n",
      "[6000]\ttraining's auc: 0.911362\tvalid_1's auc: 0.893786\n",
      "[6500]\ttraining's auc: 0.912302\tvalid_1's auc: 0.894368\n",
      "[7000]\ttraining's auc: 0.913163\tvalid_1's auc: 0.8949\n",
      "[7500]\ttraining's auc: 0.913973\tvalid_1's auc: 0.895219\n",
      "[8000]\ttraining's auc: 0.91474\tvalid_1's auc: 0.895541\n",
      "[8500]\ttraining's auc: 0.915477\tvalid_1's auc: 0.895834\n",
      "[9000]\ttraining's auc: 0.916166\tvalid_1's auc: 0.896057\n",
      "[9500]\ttraining's auc: 0.916843\tvalid_1's auc: 0.896174\n",
      "[10000]\ttraining's auc: 0.917491\tvalid_1's auc: 0.896327\n",
      "[10500]\ttraining's auc: 0.91812\tvalid_1's auc: 0.896426\n",
      "[11000]\ttraining's auc: 0.918752\tvalid_1's auc: 0.896544\n",
      "[11500]\ttraining's auc: 0.919337\tvalid_1's auc: 0.896636\n",
      "[12000]\ttraining's auc: 0.919925\tvalid_1's auc: 0.89669\n",
      "[12500]\ttraining's auc: 0.92051\tvalid_1's auc: 0.896738\n",
      "[13000]\ttraining's auc: 0.921055\tvalid_1's auc: 0.896787\n",
      "[13500]\ttraining's auc: 0.921613\tvalid_1's auc: 0.896792\n",
      "[14000]\ttraining's auc: 0.922159\tvalid_1's auc: 0.896777\n",
      "[14500]\ttraining's auc: 0.922696\tvalid_1's auc: 0.896788\n",
      "[15000]\ttraining's auc: 0.923233\tvalid_1's auc: 0.896802\n",
      "[15500]\ttraining's auc: 0.923758\tvalid_1's auc: 0.896817\n",
      "[16000]\ttraining's auc: 0.924285\tvalid_1's auc: 0.896759\n",
      "[16500]\ttraining's auc: 0.924794\tvalid_1's auc: 0.896731\n",
      "[17000]\ttraining's auc: 0.925311\tvalid_1's auc: 0.896641\n",
      "[17500]\ttraining's auc: 0.925827\tvalid_1's auc: 0.896554\n",
      "[18000]\ttraining's auc: 0.926316\tvalid_1's auc: 0.896544\n",
      "[18500]\ttraining's auc: 0.926818\tvalid_1's auc: 0.896489\n",
      "[19000]\ttraining's auc: 0.927308\tvalid_1's auc: 0.89643\n",
      "Early stopping, best iteration is:\n",
      "[15495]\ttraining's auc: 0.923752\tvalid_1's auc: 0.896818\n",
      "3\n",
      "Training until validation scores don't improve for 4000 rounds.\n",
      "[500]\ttraining's auc: 0.887346\tvalid_1's auc: 0.882732\n",
      "[1000]\ttraining's auc: 0.892318\tvalid_1's auc: 0.887054\n",
      "[1500]\ttraining's auc: 0.895523\tvalid_1's auc: 0.889915\n",
      "[2000]\ttraining's auc: 0.898332\tvalid_1's auc: 0.892404\n",
      "[2500]\ttraining's auc: 0.900528\tvalid_1's auc: 0.894505\n",
      "[3000]\ttraining's auc: 0.902348\tvalid_1's auc: 0.89601\n",
      "[3500]\ttraining's auc: 0.903983\tvalid_1's auc: 0.89724\n",
      "[4000]\ttraining's auc: 0.905468\tvalid_1's auc: 0.898315\n",
      "[4500]\ttraining's auc: 0.90672\tvalid_1's auc: 0.899056\n",
      "[5000]\ttraining's auc: 0.907953\tvalid_1's auc: 0.899975\n",
      "[5500]\ttraining's auc: 0.909019\tvalid_1's auc: 0.900685\n",
      "[6000]\ttraining's auc: 0.910027\tvalid_1's auc: 0.901225\n",
      "[6500]\ttraining's auc: 0.910982\tvalid_1's auc: 0.901691\n",
      "[7000]\ttraining's auc: 0.911837\tvalid_1's auc: 0.902021\n",
      "[7500]\ttraining's auc: 0.912642\tvalid_1's auc: 0.902325\n",
      "[8000]\ttraining's auc: 0.913418\tvalid_1's auc: 0.902528\n",
      "[8500]\ttraining's auc: 0.914145\tvalid_1's auc: 0.902712\n",
      "[9000]\ttraining's auc: 0.914861\tvalid_1's auc: 0.902929\n",
      "[9500]\ttraining's auc: 0.915553\tvalid_1's auc: 0.903027\n",
      "[10000]\ttraining's auc: 0.916199\tvalid_1's auc: 0.903099\n",
      "[10500]\ttraining's auc: 0.916841\tvalid_1's auc: 0.903169\n",
      "[11000]\ttraining's auc: 0.917457\tvalid_1's auc: 0.903235\n",
      "[11500]\ttraining's auc: 0.918063\tvalid_1's auc: 0.903297\n",
      "[12000]\ttraining's auc: 0.91866\tvalid_1's auc: 0.903279\n",
      "[12500]\ttraining's auc: 0.919245\tvalid_1's auc: 0.90329\n",
      "[13000]\ttraining's auc: 0.91981\tvalid_1's auc: 0.903248\n",
      "[13500]\ttraining's auc: 0.920377\tvalid_1's auc: 0.903222\n",
      "[14000]\ttraining's auc: 0.920937\tvalid_1's auc: 0.903124\n",
      "[14500]\ttraining's auc: 0.921496\tvalid_1's auc: 0.903094\n",
      "[15000]\ttraining's auc: 0.922023\tvalid_1's auc: 0.903089\n",
      "[15500]\ttraining's auc: 0.922556\tvalid_1's auc: 0.903042\n",
      "Early stopping, best iteration is:\n",
      "[11601]\ttraining's auc: 0.918186\tvalid_1's auc: 0.903309\n",
      "4\n",
      "Training until validation scores don't improve for 4000 rounds.\n",
      "[500]\ttraining's auc: 0.888522\tvalid_1's auc: 0.879228\n",
      "[1000]\ttraining's auc: 0.893508\tvalid_1's auc: 0.884156\n",
      "[1500]\ttraining's auc: 0.896642\tvalid_1's auc: 0.887145\n",
      "[2000]\ttraining's auc: 0.89925\tvalid_1's auc: 0.889527\n",
      "[2500]\ttraining's auc: 0.901426\tvalid_1's auc: 0.891274\n",
      "[3000]\ttraining's auc: 0.903121\tvalid_1's auc: 0.892617\n",
      "[3500]\ttraining's auc: 0.904704\tvalid_1's auc: 0.893977\n",
      "[4000]\ttraining's auc: 0.906124\tvalid_1's auc: 0.895164\n",
      "[4500]\ttraining's auc: 0.907346\tvalid_1's auc: 0.896155\n",
      "[5000]\ttraining's auc: 0.908511\tvalid_1's auc: 0.897044\n",
      "[5500]\ttraining's auc: 0.909558\tvalid_1's auc: 0.897902\n",
      "[6000]\ttraining's auc: 0.910533\tvalid_1's auc: 0.898661\n",
      "[6500]\ttraining's auc: 0.911459\tvalid_1's auc: 0.89926\n",
      "[7000]\ttraining's auc: 0.912331\tvalid_1's auc: 0.899688\n",
      "[7500]\ttraining's auc: 0.91316\tvalid_1's auc: 0.900083\n",
      "[8000]\ttraining's auc: 0.913936\tvalid_1's auc: 0.900465\n",
      "[8500]\ttraining's auc: 0.914673\tvalid_1's auc: 0.900747\n",
      "[9000]\ttraining's auc: 0.915371\tvalid_1's auc: 0.900984\n",
      "[9500]\ttraining's auc: 0.916047\tvalid_1's auc: 0.901227\n",
      "[10000]\ttraining's auc: 0.916694\tvalid_1's auc: 0.901384\n",
      "[10500]\ttraining's auc: 0.91732\tvalid_1's auc: 0.901509\n",
      "[11000]\ttraining's auc: 0.91796\tvalid_1's auc: 0.901649\n",
      "[11500]\ttraining's auc: 0.918574\tvalid_1's auc: 0.901789\n",
      "[12000]\ttraining's auc: 0.919172\tvalid_1's auc: 0.901873\n",
      "[12500]\ttraining's auc: 0.91976\tvalid_1's auc: 0.901917\n",
      "[13000]\ttraining's auc: 0.920334\tvalid_1's auc: 0.901949\n",
      "[13500]\ttraining's auc: 0.920889\tvalid_1's auc: 0.901964\n",
      "[14000]\ttraining's auc: 0.921442\tvalid_1's auc: 0.901988\n",
      "[14500]\ttraining's auc: 0.92199\tvalid_1's auc: 0.902042\n",
      "[15000]\ttraining's auc: 0.92253\tvalid_1's auc: 0.902024\n",
      "[15500]\ttraining's auc: 0.923065\tvalid_1's auc: 0.902029\n",
      "[16000]\ttraining's auc: 0.9236\tvalid_1's auc: 0.902032\n",
      "[16500]\ttraining's auc: 0.924119\tvalid_1's auc: 0.902081\n"
     ]
    },
    {
     "name": "stdout",
     "output_type": "stream",
     "text": [
      "[17000]\ttraining's auc: 0.924635\tvalid_1's auc: 0.902081\n",
      "[17500]\ttraining's auc: 0.925141\tvalid_1's auc: 0.902082\n",
      "[18000]\ttraining's auc: 0.925647\tvalid_1's auc: 0.90205\n",
      "[18500]\ttraining's auc: 0.926152\tvalid_1's auc: 0.902064\n",
      "[19000]\ttraining's auc: 0.926658\tvalid_1's auc: 0.902075\n",
      "[19500]\ttraining's auc: 0.927155\tvalid_1's auc: 0.902065\n",
      "[20000]\ttraining's auc: 0.927641\tvalid_1's auc: 0.902031\n",
      "[20500]\ttraining's auc: 0.928129\tvalid_1's auc: 0.901992\n",
      "[21000]\ttraining's auc: 0.928614\tvalid_1's auc: 0.901952\n",
      "Early stopping, best iteration is:\n",
      "[17119]\ttraining's auc: 0.924757\tvalid_1's auc: 0.902104\n",
      "5\n",
      "Training until validation scores don't improve for 4000 rounds.\n",
      "[500]\ttraining's auc: 0.888108\tvalid_1's auc: 0.882371\n",
      "[1000]\ttraining's auc: 0.893017\tvalid_1's auc: 0.887069\n",
      "[1500]\ttraining's auc: 0.896327\tvalid_1's auc: 0.890014\n",
      "[2000]\ttraining's auc: 0.8991\tvalid_1's auc: 0.892224\n",
      "[2500]\ttraining's auc: 0.901368\tvalid_1's auc: 0.894037\n",
      "[3000]\ttraining's auc: 0.903112\tvalid_1's auc: 0.895309\n",
      "[3500]\ttraining's auc: 0.904742\tvalid_1's auc: 0.896468\n",
      "[4000]\ttraining's auc: 0.906231\tvalid_1's auc: 0.897454\n",
      "[4500]\ttraining's auc: 0.907484\tvalid_1's auc: 0.898173\n",
      "[5000]\ttraining's auc: 0.908672\tvalid_1's auc: 0.898818\n",
      "[5500]\ttraining's auc: 0.909717\tvalid_1's auc: 0.899423\n",
      "[6000]\ttraining's auc: 0.910696\tvalid_1's auc: 0.899923\n",
      "[6500]\ttraining's auc: 0.911622\tvalid_1's auc: 0.900331\n",
      "[7000]\ttraining's auc: 0.912481\tvalid_1's auc: 0.900642\n",
      "[7500]\ttraining's auc: 0.913284\tvalid_1's auc: 0.900921\n",
      "[8000]\ttraining's auc: 0.914031\tvalid_1's auc: 0.901133\n",
      "[8500]\ttraining's auc: 0.914762\tvalid_1's auc: 0.901289\n",
      "[9000]\ttraining's auc: 0.915462\tvalid_1's auc: 0.901446\n",
      "[9500]\ttraining's auc: 0.916145\tvalid_1's auc: 0.901594\n",
      "[10000]\ttraining's auc: 0.916799\tvalid_1's auc: 0.901684\n",
      "[10500]\ttraining's auc: 0.91744\tvalid_1's auc: 0.901758\n",
      "[11000]\ttraining's auc: 0.918058\tvalid_1's auc: 0.901799\n",
      "[11500]\ttraining's auc: 0.918661\tvalid_1's auc: 0.901805\n",
      "[12000]\ttraining's auc: 0.919248\tvalid_1's auc: 0.901827\n",
      "[12500]\ttraining's auc: 0.919827\tvalid_1's auc: 0.901832\n",
      "[13000]\ttraining's auc: 0.920397\tvalid_1's auc: 0.901817\n",
      "[13500]\ttraining's auc: 0.920952\tvalid_1's auc: 0.901795\n",
      "[14000]\ttraining's auc: 0.92149\tvalid_1's auc: 0.901726\n",
      "[14500]\ttraining's auc: 0.922046\tvalid_1's auc: 0.901691\n",
      "[15000]\ttraining's auc: 0.922588\tvalid_1's auc: 0.901614\n",
      "[15500]\ttraining's auc: 0.923133\tvalid_1's auc: 0.901581\n",
      "Early stopping, best iteration is:\n",
      "[11873]\ttraining's auc: 0.919103\tvalid_1's auc: 0.901855\n",
      "6\n",
      "Training until validation scores don't improve for 4000 rounds.\n",
      "[500]\ttraining's auc: 0.888244\tvalid_1's auc: 0.876116\n",
      "[1000]\ttraining's auc: 0.893244\tvalid_1's auc: 0.881017\n",
      "[1500]\ttraining's auc: 0.896459\tvalid_1's auc: 0.883848\n",
      "[2000]\ttraining's auc: 0.899196\tvalid_1's auc: 0.886081\n",
      "[2500]\ttraining's auc: 0.901386\tvalid_1's auc: 0.888131\n",
      "[3000]\ttraining's auc: 0.90313\tvalid_1's auc: 0.889387\n",
      "[3500]\ttraining's auc: 0.904745\tvalid_1's auc: 0.89062\n",
      "[4000]\ttraining's auc: 0.906191\tvalid_1's auc: 0.891898\n",
      "[4500]\ttraining's auc: 0.907433\tvalid_1's auc: 0.892792\n",
      "[5000]\ttraining's auc: 0.908628\tvalid_1's auc: 0.893822\n",
      "[5500]\ttraining's auc: 0.909704\tvalid_1's auc: 0.894608\n",
      "[6000]\ttraining's auc: 0.910712\tvalid_1's auc: 0.895285\n",
      "[6500]\ttraining's auc: 0.91163\tvalid_1's auc: 0.895811\n",
      "[7000]\ttraining's auc: 0.912497\tvalid_1's auc: 0.896311\n",
      "[7500]\ttraining's auc: 0.913297\tvalid_1's auc: 0.896763\n",
      "[8000]\ttraining's auc: 0.914056\tvalid_1's auc: 0.897137\n",
      "[8500]\ttraining's auc: 0.914775\tvalid_1's auc: 0.897391\n",
      "[9000]\ttraining's auc: 0.915486\tvalid_1's auc: 0.89761\n",
      "[9500]\ttraining's auc: 0.916191\tvalid_1's auc: 0.8978\n",
      "[10000]\ttraining's auc: 0.91684\tvalid_1's auc: 0.897943\n",
      "[10500]\ttraining's auc: 0.917472\tvalid_1's auc: 0.898111\n",
      "[11000]\ttraining's auc: 0.918103\tvalid_1's auc: 0.898263\n",
      "[11500]\ttraining's auc: 0.918696\tvalid_1's auc: 0.898402\n",
      "[12000]\ttraining's auc: 0.919288\tvalid_1's auc: 0.898436\n",
      "[12500]\ttraining's auc: 0.919875\tvalid_1's auc: 0.898496\n",
      "[13000]\ttraining's auc: 0.920447\tvalid_1's auc: 0.898497\n",
      "[13500]\ttraining's auc: 0.921001\tvalid_1's auc: 0.898514\n",
      "[14000]\ttraining's auc: 0.921558\tvalid_1's auc: 0.898538\n",
      "[14500]\ttraining's auc: 0.922107\tvalid_1's auc: 0.89854\n",
      "[15000]\ttraining's auc: 0.922641\tvalid_1's auc: 0.898538\n",
      "[15500]\ttraining's auc: 0.923168\tvalid_1's auc: 0.898501\n",
      "[16000]\ttraining's auc: 0.923705\tvalid_1's auc: 0.898459\n",
      "[16500]\ttraining's auc: 0.924215\tvalid_1's auc: 0.898454\n",
      "[17000]\ttraining's auc: 0.924725\tvalid_1's auc: 0.898421\n",
      "[17500]\ttraining's auc: 0.925227\tvalid_1's auc: 0.898416\n",
      "[18000]\ttraining's auc: 0.925731\tvalid_1's auc: 0.898404\n",
      "[18500]\ttraining's auc: 0.926235\tvalid_1's auc: 0.898368\n",
      "Early stopping, best iteration is:\n",
      "[14678]\ttraining's auc: 0.922292\tvalid_1's auc: 0.898555\n",
      "7\n",
      "Training until validation scores don't improve for 4000 rounds.\n",
      "[500]\ttraining's auc: 0.888544\tvalid_1's auc: 0.879718\n",
      "[1000]\ttraining's auc: 0.89345\tvalid_1's auc: 0.885046\n",
      "[1500]\ttraining's auc: 0.896685\tvalid_1's auc: 0.888204\n",
      "[2000]\ttraining's auc: 0.899389\tvalid_1's auc: 0.890609\n",
      "[2500]\ttraining's auc: 0.90153\tvalid_1's auc: 0.892296\n",
      "[3000]\ttraining's auc: 0.903216\tvalid_1's auc: 0.893674\n",
      "[3500]\ttraining's auc: 0.904802\tvalid_1's auc: 0.894877\n",
      "[4000]\ttraining's auc: 0.906255\tvalid_1's auc: 0.895904\n",
      "[4500]\ttraining's auc: 0.907499\tvalid_1's auc: 0.896742\n",
      "[5000]\ttraining's auc: 0.908679\tvalid_1's auc: 0.897508\n",
      "[5500]\ttraining's auc: 0.909722\tvalid_1's auc: 0.898165\n",
      "[6000]\ttraining's auc: 0.910669\tvalid_1's auc: 0.898739\n",
      "[6500]\ttraining's auc: 0.911593\tvalid_1's auc: 0.899286\n",
      "[7000]\ttraining's auc: 0.912451\tvalid_1's auc: 0.899694\n",
      "[7500]\ttraining's auc: 0.913271\tvalid_1's auc: 0.900101\n",
      "[8000]\ttraining's auc: 0.914034\tvalid_1's auc: 0.900443\n",
      "[8500]\ttraining's auc: 0.914775\tvalid_1's auc: 0.900696\n",
      "[9000]\ttraining's auc: 0.915474\tvalid_1's auc: 0.900908\n",
      "[9500]\ttraining's auc: 0.916142\tvalid_1's auc: 0.901129\n",
      "[10000]\ttraining's auc: 0.916778\tvalid_1's auc: 0.90127\n",
      "[10500]\ttraining's auc: 0.917413\tvalid_1's auc: 0.901387\n",
      "[11000]\ttraining's auc: 0.918035\tvalid_1's auc: 0.901463\n",
      "[11500]\ttraining's auc: 0.918643\tvalid_1's auc: 0.901588\n",
      "[12000]\ttraining's auc: 0.91924\tvalid_1's auc: 0.901687\n",
      "[12500]\ttraining's auc: 0.919821\tvalid_1's auc: 0.901717\n",
      "[13000]\ttraining's auc: 0.920394\tvalid_1's auc: 0.901809\n",
      "[13500]\ttraining's auc: 0.92094\tvalid_1's auc: 0.901845\n",
      "[14000]\ttraining's auc: 0.921488\tvalid_1's auc: 0.901863\n",
      "[14500]\ttraining's auc: 0.922043\tvalid_1's auc: 0.90189\n",
      "[15000]\ttraining's auc: 0.922591\tvalid_1's auc: 0.9019\n",
      "[15500]\ttraining's auc: 0.92313\tvalid_1's auc: 0.901914\n",
      "[16000]\ttraining's auc: 0.923652\tvalid_1's auc: 0.901925\n",
      "[16500]\ttraining's auc: 0.924164\tvalid_1's auc: 0.901927\n",
      "[17000]\ttraining's auc: 0.924678\tvalid_1's auc: 0.901908\n",
      "[17500]\ttraining's auc: 0.925186\tvalid_1's auc: 0.901885\n",
      "[18000]\ttraining's auc: 0.925699\tvalid_1's auc: 0.901861\n",
      "[18500]\ttraining's auc: 0.926189\tvalid_1's auc: 0.901803\n",
      "[19000]\ttraining's auc: 0.926687\tvalid_1's auc: 0.901751\n",
      "[19500]\ttraining's auc: 0.927174\tvalid_1's auc: 0.901753\n",
      "Early stopping, best iteration is:\n",
      "[15839]\ttraining's auc: 0.923479\tvalid_1's auc: 0.901941\n",
      "8\n",
      "Training until validation scores don't improve for 4000 rounds.\n",
      "[500]\ttraining's auc: 0.887358\tvalid_1's auc: 0.882364\n",
      "[1000]\ttraining's auc: 0.892292\tvalid_1's auc: 0.887455\n",
      "[1500]\ttraining's auc: 0.895603\tvalid_1's auc: 0.890233\n",
      "[2000]\ttraining's auc: 0.898318\tvalid_1's auc: 0.892544\n",
      "[2500]\ttraining's auc: 0.900547\tvalid_1's auc: 0.894374\n",
      "[3000]\ttraining's auc: 0.902363\tvalid_1's auc: 0.895682\n",
      "[3500]\ttraining's auc: 0.903996\tvalid_1's auc: 0.897004\n",
      "[4000]\ttraining's auc: 0.905438\tvalid_1's auc: 0.898154\n",
      "[4500]\ttraining's auc: 0.906693\tvalid_1's auc: 0.898935\n",
      "[5000]\ttraining's auc: 0.907915\tvalid_1's auc: 0.899666\n",
      "[5500]\ttraining's auc: 0.908958\tvalid_1's auc: 0.900284\n",
      "[6000]\ttraining's auc: 0.90995\tvalid_1's auc: 0.900813\n",
      "[6500]\ttraining's auc: 0.910909\tvalid_1's auc: 0.901237\n",
      "[7000]\ttraining's auc: 0.911785\tvalid_1's auc: 0.901504\n",
      "[7500]\ttraining's auc: 0.912613\tvalid_1's auc: 0.901762\n",
      "[8000]\ttraining's auc: 0.913396\tvalid_1's auc: 0.902045\n",
      "[8500]\ttraining's auc: 0.914129\tvalid_1's auc: 0.902208\n",
      "[9000]\ttraining's auc: 0.914848\tvalid_1's auc: 0.902359\n",
      "[9500]\ttraining's auc: 0.915539\tvalid_1's auc: 0.902498\n"
     ]
    },
    {
     "name": "stdout",
     "output_type": "stream",
     "text": [
      "[10000]\ttraining's auc: 0.916203\tvalid_1's auc: 0.902606\n",
      "[10500]\ttraining's auc: 0.916856\tvalid_1's auc: 0.902674\n",
      "[11000]\ttraining's auc: 0.917476\tvalid_1's auc: 0.902734\n",
      "[11500]\ttraining's auc: 0.918092\tvalid_1's auc: 0.902734\n",
      "[12000]\ttraining's auc: 0.918678\tvalid_1's auc: 0.902697\n",
      "[12500]\ttraining's auc: 0.91926\tvalid_1's auc: 0.90269\n",
      "[13000]\ttraining's auc: 0.919839\tvalid_1's auc: 0.902646\n",
      "[13500]\ttraining's auc: 0.920419\tvalid_1's auc: 0.902609\n",
      "[14000]\ttraining's auc: 0.920977\tvalid_1's auc: 0.902563\n",
      "[14500]\ttraining's auc: 0.921532\tvalid_1's auc: 0.902547\n",
      "[15000]\ttraining's auc: 0.922068\tvalid_1's auc: 0.902497\n",
      "Early stopping, best iteration is:\n",
      "[11407]\ttraining's auc: 0.917972\tvalid_1's auc: 0.902758\n",
      "9\n",
      "Training until validation scores don't improve for 4000 rounds.\n",
      "[500]\ttraining's auc: 0.887971\tvalid_1's auc: 0.881639\n",
      "[1000]\ttraining's auc: 0.892903\tvalid_1's auc: 0.885777\n",
      "[1500]\ttraining's auc: 0.896179\tvalid_1's auc: 0.889013\n",
      "[2000]\ttraining's auc: 0.898878\tvalid_1's auc: 0.891381\n",
      "[2500]\ttraining's auc: 0.90105\tvalid_1's auc: 0.89318\n",
      "[3000]\ttraining's auc: 0.902754\tvalid_1's auc: 0.894762\n",
      "[3500]\ttraining's auc: 0.904346\tvalid_1's auc: 0.896092\n",
      "[4000]\ttraining's auc: 0.905758\tvalid_1's auc: 0.897036\n",
      "[4500]\ttraining's auc: 0.906975\tvalid_1's auc: 0.897936\n",
      "[5000]\ttraining's auc: 0.90817\tvalid_1's auc: 0.898692\n",
      "[5500]\ttraining's auc: 0.90922\tvalid_1's auc: 0.899251\n",
      "[6000]\ttraining's auc: 0.910209\tvalid_1's auc: 0.899761\n",
      "[6500]\ttraining's auc: 0.911145\tvalid_1's auc: 0.900271\n",
      "[7000]\ttraining's auc: 0.911987\tvalid_1's auc: 0.900646\n",
      "[7500]\ttraining's auc: 0.912792\tvalid_1's auc: 0.901029\n",
      "[8000]\ttraining's auc: 0.913535\tvalid_1's auc: 0.90127\n",
      "[8500]\ttraining's auc: 0.914254\tvalid_1's auc: 0.90156\n",
      "[9000]\ttraining's auc: 0.914943\tvalid_1's auc: 0.901733\n",
      "[9500]\ttraining's auc: 0.915643\tvalid_1's auc: 0.901891\n",
      "[10000]\ttraining's auc: 0.916297\tvalid_1's auc: 0.902027\n",
      "[10500]\ttraining's auc: 0.916932\tvalid_1's auc: 0.902104\n",
      "[11000]\ttraining's auc: 0.917547\tvalid_1's auc: 0.902174\n",
      "[11500]\ttraining's auc: 0.918144\tvalid_1's auc: 0.902181\n",
      "[12000]\ttraining's auc: 0.918744\tvalid_1's auc: 0.902248\n",
      "[12500]\ttraining's auc: 0.919324\tvalid_1's auc: 0.902324\n",
      "[13000]\ttraining's auc: 0.919904\tvalid_1's auc: 0.90234\n",
      "[13500]\ttraining's auc: 0.920455\tvalid_1's auc: 0.90237\n",
      "[14000]\ttraining's auc: 0.921004\tvalid_1's auc: 0.902377\n",
      "[14500]\ttraining's auc: 0.921553\tvalid_1's auc: 0.902381\n",
      "[15000]\ttraining's auc: 0.922102\tvalid_1's auc: 0.902361\n",
      "[15500]\ttraining's auc: 0.922636\tvalid_1's auc: 0.902363\n",
      "[16000]\ttraining's auc: 0.923164\tvalid_1's auc: 0.902365\n",
      "[16500]\ttraining's auc: 0.923692\tvalid_1's auc: 0.902305\n",
      "[17000]\ttraining's auc: 0.924216\tvalid_1's auc: 0.902287\n",
      "[17500]\ttraining's auc: 0.924726\tvalid_1's auc: 0.902249\n",
      "[18000]\ttraining's auc: 0.925227\tvalid_1's auc: 0.902189\n",
      "[18500]\ttraining's auc: 0.925731\tvalid_1's auc: 0.902126\n",
      "Early stopping, best iteration is:\n",
      "[14536]\ttraining's auc: 0.921591\tvalid_1's auc: 0.90239\n",
      "10\n",
      "Training until validation scores don't improve for 4000 rounds.\n",
      "[500]\ttraining's auc: 0.888528\tvalid_1's auc: 0.878346\n",
      "[1000]\ttraining's auc: 0.89344\tvalid_1's auc: 0.882895\n",
      "[1500]\ttraining's auc: 0.896856\tvalid_1's auc: 0.885947\n",
      "[2000]\ttraining's auc: 0.89969\tvalid_1's auc: 0.888263\n",
      "[2500]\ttraining's auc: 0.901923\tvalid_1's auc: 0.890181\n",
      "[3000]\ttraining's auc: 0.903692\tvalid_1's auc: 0.891423\n",
      "[3500]\ttraining's auc: 0.90534\tvalid_1's auc: 0.892763\n",
      "[4000]\ttraining's auc: 0.906797\tvalid_1's auc: 0.893867\n",
      "[4500]\ttraining's auc: 0.908035\tvalid_1's auc: 0.894755\n",
      "[5000]\ttraining's auc: 0.909229\tvalid_1's auc: 0.895518\n",
      "[5500]\ttraining's auc: 0.91031\tvalid_1's auc: 0.89633\n",
      "[6000]\ttraining's auc: 0.911349\tvalid_1's auc: 0.896913\n",
      "[6500]\ttraining's auc: 0.912289\tvalid_1's auc: 0.897461\n",
      "[7000]\ttraining's auc: 0.913152\tvalid_1's auc: 0.89798\n",
      "[7500]\ttraining's auc: 0.913966\tvalid_1's auc: 0.898272\n",
      "[8000]\ttraining's auc: 0.914738\tvalid_1's auc: 0.89858\n",
      "[8500]\ttraining's auc: 0.915478\tvalid_1's auc: 0.898849\n",
      "[9000]\ttraining's auc: 0.916205\tvalid_1's auc: 0.899029\n",
      "[9500]\ttraining's auc: 0.916896\tvalid_1's auc: 0.899146\n",
      "[10000]\ttraining's auc: 0.917531\tvalid_1's auc: 0.899258\n",
      "[10500]\ttraining's auc: 0.918179\tvalid_1's auc: 0.899345\n",
      "[11000]\ttraining's auc: 0.918793\tvalid_1's auc: 0.899391\n",
      "[11500]\ttraining's auc: 0.919411\tvalid_1's auc: 0.899452\n",
      "[12000]\ttraining's auc: 0.920022\tvalid_1's auc: 0.899558\n",
      "[12500]\ttraining's auc: 0.920601\tvalid_1's auc: 0.899571\n",
      "[13000]\ttraining's auc: 0.921166\tvalid_1's auc: 0.899558\n",
      "[13500]\ttraining's auc: 0.921717\tvalid_1's auc: 0.899562\n",
      "[14000]\ttraining's auc: 0.922261\tvalid_1's auc: 0.899566\n",
      "[14500]\ttraining's auc: 0.922813\tvalid_1's auc: 0.899515\n",
      "[15000]\ttraining's auc: 0.923346\tvalid_1's auc: 0.899495\n",
      "[15500]\ttraining's auc: 0.923875\tvalid_1's auc: 0.899489\n",
      "[16000]\ttraining's auc: 0.924398\tvalid_1's auc: 0.899441\n",
      "[16500]\ttraining's auc: 0.924911\tvalid_1's auc: 0.899445\n",
      "[17000]\ttraining's auc: 0.925431\tvalid_1's auc: 0.89942\n",
      "[17500]\ttraining's auc: 0.925943\tvalid_1's auc: 0.899399\n",
      "Early stopping, best iteration is:\n",
      "[13872]\ttraining's auc: 0.922121\tvalid_1's auc: 0.899613\n",
      "CPU times: user 13h 48min 3s, sys: 17.4 s, total: 13h 48min 20s\n",
      "Wall time: 1h 44min 28s\n"
     ]
    }
   ],
   "source": [
    "%%time\n",
    "#LightGBM PREDICTION\n",
    "result=np.zeros(df_test.shape[0])\n",
    "\n",
    "rskf = RepeatedStratifiedKFold(n_splits=5, n_repeats=2, random_state=777)\n",
    "for counter, (train_index, valid_index) in enumerate(rskf.split(df_train, df_train.target), 1):\n",
    "    #print (counter)\n",
    "    \n",
    "    #Train data\n",
    "    t=df_train.iloc[train_index]\n",
    "    #param['scaleposweight'] = sum(t.target==0) / sum(t.target>0) #\n",
    "    t=augment(t)\n",
    "    trn_data = lgb.Dataset(t.drop(\"target\",axis=1), label=t.target)\n",
    "    \n",
    "    #Validation data\n",
    "    v=train.iloc[valid_index]\n",
    "    val_data = lgb.Dataset(v.drop(\"target\",axis=1), label=v.target)\n",
    "    print (counter)\n",
    "    #Training\n",
    "    model = lgb.train(param, trn_data, 1000000, valid_sets = [trn_data, val_data], verbose_eval=500, early_stopping_rounds = 4000)\n",
    "    result += model.predict(df_test)"
   ]
  },
  {
   "cell_type": "code",
   "execution_count": 7,
   "metadata": {},
   "outputs": [
    {
     "name": "stdout",
     "output_type": "stream",
     "text": [
      "2019-03-30_16_32_sub.csv.zip\n"
     ]
    }
   ],
   "source": [
    "#SAVE\n",
    "submission = pd.read_csv(path/'sample_submission.csv')\n",
    "submission['target'] = result/counter\n",
    "filename=\"{:%Y-%m-%d_%H_%M}_sub.csv\".format(datetime.now())\n",
    "submission.to_csv(filename, index=False)\n",
    "\n",
    "with zipfile.ZipFile(filename+'.zip', 'w', zipfile.ZIP_DEFLATED) as newzip:\n",
    "    newzip.write(filename)\n",
    "print(filename+'.zip')"
   ]
  },
  {
   "cell_type": "code",
   "execution_count": 172,
   "metadata": {
    "scrolled": true
   },
   "outputs": [
    {
     "data": {
      "text/html": [
       "<table style=\"display:inline\" border=\"1\" class=\"dataframe\">\n",
       "  <thead>\n",
       "    <tr style=\"text-align: right;\">\n",
       "      <th></th>\n",
       "      <th>min0</th>\n",
       "      <th>min1</th>\n",
       "      <th>max1</th>\n",
       "      <th>max0</th>\n",
       "      <th>count</th>\n",
       "      <th>diff</th>\n",
       "      <th>diff_min</th>\n",
       "      <th>diff_max</th>\n",
       "    </tr>\n",
       "  </thead>\n",
       "  <tbody>\n",
       "    <tr>\n",
       "      <th>0</th>\n",
       "      <td>0.4084</td>\n",
       "      <td>0.4528</td>\n",
       "      <td>19.4583</td>\n",
       "      <td>20.3150</td>\n",
       "      <td>94672</td>\n",
       "      <td>0.199066</td>\n",
       "      <td>0.22</td>\n",
       "      <td>4.30</td>\n",
       "    </tr>\n",
       "    <tr>\n",
       "      <th>1</th>\n",
       "      <td>-15.0434</td>\n",
       "      <td>-14.0370</td>\n",
       "      <td>9.0298</td>\n",
       "      <td>10.3768</td>\n",
       "      <td>108932</td>\n",
       "      <td>0.254202</td>\n",
       "      <td>3.96</td>\n",
       "      <td>5.30</td>\n",
       "    </tr>\n",
       "    <tr>\n",
       "      <th>2</th>\n",
       "      <td>2.1171</td>\n",
       "      <td>2.9462</td>\n",
       "      <td>18.2941</td>\n",
       "      <td>19.3530</td>\n",
       "      <td>86555</td>\n",
       "      <td>0.172359</td>\n",
       "      <td>4.81</td>\n",
       "      <td>6.14</td>\n",
       "    </tr>\n",
       "    <tr>\n",
       "      <th>3</th>\n",
       "      <td>-0.0402</td>\n",
       "      <td>0.3740</td>\n",
       "      <td>12.7069</td>\n",
       "      <td>13.1883</td>\n",
       "      <td>74597</td>\n",
       "      <td>0.132285</td>\n",
       "      <td>3.13</td>\n",
       "      <td>3.64</td>\n",
       "    </tr>\n",
       "    <tr>\n",
       "      <th>4</th>\n",
       "      <td>5.0748</td>\n",
       "      <td>5.8762</td>\n",
       "      <td>15.6925</td>\n",
       "      <td>16.6714</td>\n",
       "      <td>63515</td>\n",
       "      <td>0.115966</td>\n",
       "      <td>6.91</td>\n",
       "      <td>8.44</td>\n",
       "    </tr>\n",
       "  </tbody>\n",
       "</table style=\"display:inline\"><table style=\"display:inline\" border=\"1\" class=\"dataframe\">\n",
       "  <thead>\n",
       "    <tr style=\"text-align: right;\">\n",
       "      <th></th>\n",
       "      <th>min0</th>\n",
       "      <th>min1</th>\n",
       "      <th>max1</th>\n",
       "      <th>max0</th>\n",
       "      <th>count</th>\n",
       "      <th>diff</th>\n",
       "      <th>diff_min</th>\n",
       "      <th>diff_max</th>\n",
       "    </tr>\n",
       "  </thead>\n",
       "  <tbody>\n",
       "    <tr>\n",
       "      <th>195</th>\n",
       "      <td>-5.2610</td>\n",
       "      <td>-5.0185</td>\n",
       "      <td>4.0881</td>\n",
       "      <td>4.2729</td>\n",
       "      <td>57870</td>\n",
       "      <td>0.095339</td>\n",
       "      <td>2.54</td>\n",
       "      <td>1.94</td>\n",
       "    </tr>\n",
       "    <tr>\n",
       "      <th>196</th>\n",
       "      <td>-14.2096</td>\n",
       "      <td>-14.0204</td>\n",
       "      <td>17.1614</td>\n",
       "      <td>18.3215</td>\n",
       "      <td>125560</td>\n",
       "      <td>0.325311</td>\n",
       "      <td>0.58</td>\n",
       "      <td>3.57</td>\n",
       "    </tr>\n",
       "    <tr>\n",
       "      <th>197</th>\n",
       "      <td>5.9606</td>\n",
       "      <td>6.1190</td>\n",
       "      <td>11.7069</td>\n",
       "      <td>12.0004</td>\n",
       "      <td>40537</td>\n",
       "      <td>0.060398</td>\n",
       "      <td>2.62</td>\n",
       "      <td>4.86</td>\n",
       "    </tr>\n",
       "    <tr>\n",
       "      <th>198</th>\n",
       "      <td>6.2993</td>\n",
       "      <td>6.5587</td>\n",
       "      <td>25.8571</td>\n",
       "      <td>26.0791</td>\n",
       "      <td>94153</td>\n",
       "      <td>0.197798</td>\n",
       "      <td>1.31</td>\n",
       "      <td>1.12</td>\n",
       "    </tr>\n",
       "    <tr>\n",
       "      <th>199</th>\n",
       "      <td>-38.8528</td>\n",
       "      <td>-38.8528</td>\n",
       "      <td>24.5646</td>\n",
       "      <td>28.5007</td>\n",
       "      <td>149430</td>\n",
       "      <td>0.673535</td>\n",
       "      <td>0.00</td>\n",
       "      <td>5.84</td>\n",
       "    </tr>\n",
       "  </tbody>\n",
       "</table style=\"display:inline\">"
      ]
     },
     "metadata": {},
     "output_type": "display_data"
    },
    {
     "data": {
      "text/plain": [
       "(4.487950000000001,\n",
       " 4.445450000000001,\n",
       " 4.12,\n",
       " 4.225,\n",
       " 2.752507910339662,\n",
       " 2.8568042372113536)"
      ]
     },
     "execution_count": 172,
     "metadata": {},
     "output_type": "execute_result"
    }
   ],
   "source": [
    "#TRAIN CALC MIN/MAX percent in each feathure\n",
    "arr_min0, arr_min1, arr_max0, arr_max1, arr_count = [], [], [], [], []\n",
    "for col in df_train.iloc[:,1:]:\n",
    "    arr_min0.append(df_train[col][df_train['target']==0].min())\n",
    "    arr_min1.append(df_train[col][df_train['target']==1].min())\n",
    "    arr_max0.append(df_train[col][df_train['target']==0].max())\n",
    "    arr_max1.append(df_train[col][df_train['target']==1].max())\n",
    "    arr_count.append(len(df_train[col].value_counts()))\n",
    "df_minmax = pd.DataFrame({ 'min0':arr_min0, 'min1':arr_min1, 'max1':arr_max1, 'max0':arr_max0, 'count':arr_count, 'diff':abs(np.array(arr_min0)-np.array(arr_max0))/100 })\n",
    "df_minmax['diff_min'] = round(abs(df_minmax['min0']-df_minmax['min1'])/df_minmax['diff'], 2)#.astype(int)\n",
    "df_minmax['diff_max'] = round(abs(df_minmax['max1']-df_minmax['max0'])/df_minmax['diff'], 2)#.astype(int)\n",
    "display_side_by_side(df_minmax.head(), df_minmax.tail())\n",
    "df_minmax['diff_min'].mean(), df_minmax['diff_max'].mean(), df_minmax['diff_min'].median(), df_minmax['diff_max'].median(), df_minmax['diff_min'].std(), df_minmax['diff_max'].std()"
   ]
  },
  {
   "cell_type": "code",
   "execution_count": 173,
   "metadata": {
    "scrolled": true
   },
   "outputs": [
    {
     "data": {
      "text/html": [
       "<table style=\"display:inline\" border=\"1\" class=\"dataframe\">\n",
       "  <thead>\n",
       "    <tr style=\"text-align: right;\">\n",
       "      <th></th>\n",
       "      <th>min</th>\n",
       "      <th>max</th>\n",
       "      <th>count</th>\n",
       "      <th>pr</th>\n",
       "      <th>diff_min_pr</th>\n",
       "      <th>diff_max_pr</th>\n",
       "    </tr>\n",
       "  </thead>\n",
       "  <tbody>\n",
       "    <tr>\n",
       "      <th>0</th>\n",
       "      <td>0.1887</td>\n",
       "      <td>22.3234</td>\n",
       "      <td>65580</td>\n",
       "      <td>0.221347</td>\n",
       "      <td>0.631394</td>\n",
       "      <td>21.880706</td>\n",
       "    </tr>\n",
       "    <tr>\n",
       "      <th>1</th>\n",
       "      <td>-15.0434</td>\n",
       "      <td>9.3851</td>\n",
       "      <td>71661</td>\n",
       "      <td>0.244285</td>\n",
       "      <td>-14.554830</td>\n",
       "      <td>8.896530</td>\n",
       "    </tr>\n",
       "    <tr>\n",
       "      <th>2</th>\n",
       "      <td>2.3552</td>\n",
       "      <td>18.7141</td>\n",
       "      <td>61865</td>\n",
       "      <td>0.163589</td>\n",
       "      <td>2.682378</td>\n",
       "      <td>18.386922</td>\n",
       "    </tr>\n",
       "    <tr>\n",
       "      <th>3</th>\n",
       "      <td>-0.0224</td>\n",
       "      <td>13.1420</td>\n",
       "      <td>56507</td>\n",
       "      <td>0.131644</td>\n",
       "      <td>0.240888</td>\n",
       "      <td>12.878712</td>\n",
       "    </tr>\n",
       "    <tr>\n",
       "      <th>4</th>\n",
       "      <td>5.4844</td>\n",
       "      <td>16.0371</td>\n",
       "      <td>49995</td>\n",
       "      <td>0.105527</td>\n",
       "      <td>5.695454</td>\n",
       "      <td>15.826046</td>\n",
       "    </tr>\n",
       "  </tbody>\n",
       "</table style=\"display:inline\"><table style=\"display:inline\" border=\"1\" class=\"dataframe\">\n",
       "  <thead>\n",
       "    <tr style=\"text-align: right;\">\n",
       "      <th></th>\n",
       "      <th>min</th>\n",
       "      <th>max</th>\n",
       "      <th>count</th>\n",
       "      <th>pr</th>\n",
       "      <th>diff_min_pr</th>\n",
       "      <th>diff_max_pr</th>\n",
       "    </tr>\n",
       "  </thead>\n",
       "  <tbody>\n",
       "    <tr>\n",
       "      <th>195</th>\n",
       "      <td>-4.9119</td>\n",
       "      <td>4.5454</td>\n",
       "      <td>46482</td>\n",
       "      <td>0.094573</td>\n",
       "      <td>-4.722754</td>\n",
       "      <td>4.356254</td>\n",
       "    </tr>\n",
       "    <tr>\n",
       "      <th>196</th>\n",
       "      <td>-13.9442</td>\n",
       "      <td>15.9207</td>\n",
       "      <td>78038</td>\n",
       "      <td>0.298649</td>\n",
       "      <td>-13.346902</td>\n",
       "      <td>15.323402</td>\n",
       "    </tr>\n",
       "    <tr>\n",
       "      <th>197</th>\n",
       "      <td>6.1696</td>\n",
       "      <td>12.2758</td>\n",
       "      <td>34817</td>\n",
       "      <td>0.061062</td>\n",
       "      <td>6.291724</td>\n",
       "      <td>12.153676</td>\n",
       "    </tr>\n",
       "    <tr>\n",
       "      <th>198</th>\n",
       "      <td>6.5840</td>\n",
       "      <td>26.5384</td>\n",
       "      <td>65262</td>\n",
       "      <td>0.199544</td>\n",
       "      <td>6.983088</td>\n",
       "      <td>26.139312</td>\n",
       "    </tr>\n",
       "    <tr>\n",
       "      <th>199</th>\n",
       "      <td>-39.4578</td>\n",
       "      <td>27.9074</td>\n",
       "      <td>85933</td>\n",
       "      <td>0.673652</td>\n",
       "      <td>-38.110496</td>\n",
       "      <td>26.560096</td>\n",
       "    </tr>\n",
       "  </tbody>\n",
       "</table style=\"display:inline\">"
      ]
     },
     "metadata": {},
     "output_type": "display_data"
    }
   ],
   "source": [
    "#TEST CALC MIN/MAX percent in each feathure\n",
    "pr = 2 #percents for cut from min and max\n",
    "arr_min, arr_max, arr_count = [], [], []\n",
    "for col in df_test.iloc[:,:]:\n",
    "    arr_min.append(df_test[col].min())\n",
    "    arr_max.append(df_test[col].max())\n",
    "    arr_count.append(len(df_test[col].value_counts()))\n",
    "df_minmax = pd.DataFrame({ 'min':arr_min, 'max':arr_max, 'count':arr_count, 'pr':abs(np.array(arr_min)-np.array(arr_max))/100 })\n",
    "df_minmax['diff_min_pr'] = df_minmax['min'] + pr*df_minmax['pr']#.astype(int)\n",
    "df_minmax['diff_max_pr'] = df_minmax['max'] - pr*df_minmax['pr']#.astype(int)\n",
    "display_side_by_side(df_minmax.head(), df_minmax.tail())\n",
    "#df_minmax['diff_min'].mean(), df_minmax['diff_max'].mean(), df_minmax['diff_min'].median(), df_minmax['diff_max'].median(), df_minmax['diff_min'].std(), df_minmax['diff_max'].std()"
   ]
  },
  {
   "cell_type": "code",
   "execution_count": 174,
   "metadata": {},
   "outputs": [
    {
     "data": {
      "text/plain": [
       "12275"
      ]
     },
     "execution_count": 174,
     "metadata": {},
     "output_type": "execute_result"
    }
   ],
   "source": [
    "submission = pd.read_csv('2019-03-28_18_23_sub.csv') #0.901\n",
    "#df_test_t = pd.concat([submission['target'].round().astype(int), df_test], axis=1)\n",
    "df_test_t = pd.concat([submission['target'], df_test], axis=1)\n",
    "len(df_test_t[df_test_t['target']>0.5])"
   ]
  },
  {
   "cell_type": "code",
   "execution_count": 175,
   "metadata": {},
   "outputs": [
    {
     "name": "stdout",
     "output_type": "stream",
     "text": [
      "2322 2322 Found class 1 mistakes: 190\n"
     ]
    },
    {
     "name": "stderr",
     "output_type": "stream",
     "text": [
      "/home/user/anaconda3/lib/python3.7/site-packages/ipykernel_launcher.py:12: UserWarning: Boolean Series key will be reindexed to match DataFrame index.\n",
      "  if sys.path[0] == '':\n"
     ]
    }
   ],
   "source": [
    "idx_for_trim = []\n",
    "for idx,col in enumerate(df_test_t.iloc[:,1:]):\n",
    "    diff_min_pr = df_minmax.loc[idx]['diff_min_pr']\n",
    "    diff_max_pr = df_minmax.loc[idx]['diff_max_pr']\n",
    "    #print(idx, df_test_t[(df_test_t[col]<diff_min_pr)|(df_test_t[col]>diff_max_pr)]['target'].sum(), df_minmax.loc[idx]['min'], diff_min_pr, diff_max_pr, df_minmax.loc[idx]['max'])\n",
    "    idx_for_trim.append( df_test_t[(df_test_t[col]<diff_min_pr)|(df_test_t[col]>diff_max_pr)]['target'].index )\n",
    "    \n",
    "    #display_side_by_side(df_test_t[[col,'target']].sort_values(col, ascending=False).head(), df_test_t[[col,'target']].sort_values(col, ascending=True).head())\n",
    "idx_for_trim = np.hstack(idx_for_trim)\n",
    "len(idx_for_trim), len(np.unique(idx_for_trim))\n",
    "idx_for_trim = np.unique(idx_for_trim)\n",
    "print(len(idx_for_trim), len(np.unique(idx_for_trim)), 'Found class 1 mistakes:', len(df_test_t.loc[idx_for_trim][df_test_t['target']>0.5]))"
   ]
  },
  {
   "cell_type": "code",
   "execution_count": 176,
   "metadata": {},
   "outputs": [
    {
     "name": "stderr",
     "output_type": "stream",
     "text": [
      "/home/user/anaconda3/lib/python3.7/site-packages/ipykernel_launcher.py:2: UserWarning: Boolean Series key will be reindexed to match DataFrame index.\n",
      "  \n"
     ]
    }
   ],
   "source": [
    "#Replace class 1 mistakes with class 0\n",
    "idx_for_trim = df_test_t.loc[idx_for_trim][df_test_t['target']>0.5].index\n",
    "df_test_t['target'].loc[idx_for_trim] = df_test_t['target'].loc[idx_for_trim] - 0.2"
   ]
  },
  {
   "cell_type": "code",
   "execution_count": 177,
   "metadata": {},
   "outputs": [
    {
     "name": "stderr",
     "output_type": "stream",
     "text": [
      "/home/user/anaconda3/lib/python3.7/site-packages/ipykernel_launcher.py:2: UserWarning: Boolean Series key will be reindexed to match DataFrame index.\n",
      "  \n"
     ]
    },
    {
     "data": {
      "text/plain": [
       "92"
      ]
     },
     "execution_count": 177,
     "metadata": {},
     "output_type": "execute_result"
    }
   ],
   "source": [
    "#TEST must be zero\n",
    "len(df_test_t.loc[idx_for_trim][df_test_t['target']>0.5])"
   ]
  },
  {
   "cell_type": "code",
   "execution_count": 178,
   "metadata": {},
   "outputs": [
    {
     "name": "stdout",
     "output_type": "stream",
     "text": [
      "2019-04-01_22_58_sub.csv.zip\n"
     ]
    }
   ],
   "source": [
    "#SAVE\n",
    "submission['target'] = df_test_t['target']\n",
    "filename=\"{:%Y-%m-%d_%H_%M}_sub.csv\".format(datetime.now())\n",
    "submission.to_csv(filename, index=False)\n",
    "\n",
    "with zipfile.ZipFile(filename+'.zip', 'w', zipfile.ZIP_DEFLATED) as newzip:\n",
    "    newzip.write(filename)\n",
    "print(filename+'.zip')"
   ]
  },
  {
   "cell_type": "code",
   "execution_count": null,
   "metadata": {},
   "outputs": [],
   "source": [
    "#END\n",
    "\n",
    "\n",
    "\n",
    "\n",
    "\n",
    "\n",
    "\n",
    "\n",
    "\n"
   ]
  },
  {
   "cell_type": "code",
   "execution_count": null,
   "metadata": {},
   "outputs": [],
   "source": [
    "import matplotlib.pyplot as plt\n",
    "%pylab inline\n",
    "%config InlineBackend.figure_format = 'retina'\n",
    "\n",
    "fig, ax = plt.subplots(figsize=(70,35))\n",
    "\n",
    "ax.plot(df_minmax['count'])\n",
    "ax.legend(loc='upper left')\n",
    "ax.grid()\n",
    "plt.show()"
   ]
  },
  {
   "cell_type": "markdown",
   "metadata": {},
   "source": [
    "%%time\n",
    "sub = model.predict(train.iloc[:,1:])\n",
    "sub = pd.DataFrame(sub)\n",
    "sub.sum()"
   ]
  },
  {
   "cell_type": "code",
   "execution_count": 147,
   "metadata": {},
   "outputs": [
    {
     "data": {
      "text/plain": [
       "(200000, 188023, 10401, 1450)"
      ]
     },
     "execution_count": 147,
     "metadata": {},
     "output_type": "execute_result"
    }
   ],
   "source": [
    "sub = pd.DataFrame(sub)\n",
    "len(sub), len(sub[sub[0]<0.4]), len(sub[sub[0]>=0.5]), len(sub[sub[0]>0.9])"
   ]
  },
  {
   "cell_type": "code",
   "execution_count": 151,
   "metadata": {},
   "outputs": [
    {
     "data": {
      "text/html": [
       "<div>\n",
       "<style scoped>\n",
       "    .dataframe tbody tr th:only-of-type {\n",
       "        vertical-align: middle;\n",
       "    }\n",
       "\n",
       "    .dataframe tbody tr th {\n",
       "        vertical-align: top;\n",
       "    }\n",
       "\n",
       "    .dataframe thead th {\n",
       "        text-align: right;\n",
       "    }\n",
       "</style>\n",
       "<table border=\"1\" class=\"dataframe\">\n",
       "  <thead>\n",
       "    <tr style=\"text-align: right;\">\n",
       "      <th></th>\n",
       "      <th>ID_code</th>\n",
       "      <th>target</th>\n",
       "    </tr>\n",
       "  </thead>\n",
       "  <tbody>\n",
       "    <tr>\n",
       "      <th>0</th>\n",
       "      <td>test_0</td>\n",
       "      <td>0.103143</td>\n",
       "    </tr>\n",
       "    <tr>\n",
       "      <th>1</th>\n",
       "      <td>test_1</td>\n",
       "      <td>0.207697</td>\n",
       "    </tr>\n",
       "    <tr>\n",
       "      <th>2</th>\n",
       "      <td>test_2</td>\n",
       "      <td>0.173284</td>\n",
       "    </tr>\n",
       "    <tr>\n",
       "      <th>3</th>\n",
       "      <td>test_3</td>\n",
       "      <td>0.199731</td>\n",
       "    </tr>\n",
       "    <tr>\n",
       "      <th>4</th>\n",
       "      <td>test_4</td>\n",
       "      <td>0.044954</td>\n",
       "    </tr>\n",
       "  </tbody>\n",
       "</table>\n",
       "</div>"
      ],
      "text/plain": [
       "  ID_code    target\n",
       "0  test_0  0.103143\n",
       "1  test_1  0.207697\n",
       "2  test_2  0.173284\n",
       "3  test_3  0.199731\n",
       "4  test_4  0.044954"
      ]
     },
     "execution_count": 151,
     "metadata": {},
     "output_type": "execute_result"
    }
   ],
   "source": [
    "sum_moved = pd.read_csv(name)\n",
    "sum_moved.head()"
   ]
  },
  {
   "cell_type": "code",
   "execution_count": 2,
   "metadata": {},
   "outputs": [
    {
     "data": {
      "text/html": [
       "<div>\n",
       "<style scoped>\n",
       "    .dataframe tbody tr th:only-of-type {\n",
       "        vertical-align: middle;\n",
       "    }\n",
       "\n",
       "    .dataframe tbody tr th {\n",
       "        vertical-align: top;\n",
       "    }\n",
       "\n",
       "    .dataframe thead th {\n",
       "        text-align: right;\n",
       "    }\n",
       "</style>\n",
       "<table border=\"1\" class=\"dataframe\">\n",
       "  <thead>\n",
       "    <tr style=\"text-align: right;\">\n",
       "      <th></th>\n",
       "      <th>ID_code</th>\n",
       "      <th>target</th>\n",
       "    </tr>\n",
       "  </thead>\n",
       "  <tbody>\n",
       "    <tr>\n",
       "      <th>0</th>\n",
       "      <td>test_0</td>\n",
       "      <td>0.103143</td>\n",
       "    </tr>\n",
       "    <tr>\n",
       "      <th>1</th>\n",
       "      <td>test_1</td>\n",
       "      <td>0.207697</td>\n",
       "    </tr>\n",
       "    <tr>\n",
       "      <th>2</th>\n",
       "      <td>test_2</td>\n",
       "      <td>0.173284</td>\n",
       "    </tr>\n",
       "    <tr>\n",
       "      <th>3</th>\n",
       "      <td>test_3</td>\n",
       "      <td>0.199731</td>\n",
       "    </tr>\n",
       "    <tr>\n",
       "      <th>4</th>\n",
       "      <td>test_4</td>\n",
       "      <td>0.044954</td>\n",
       "    </tr>\n",
       "  </tbody>\n",
       "</table>\n",
       "</div>"
      ],
      "text/plain": [
       "  ID_code    target\n",
       "0  test_0  0.103143\n",
       "1  test_1  0.207697\n",
       "2  test_2  0.173284\n",
       "3  test_3  0.199731\n",
       "4  test_4  0.044954"
      ]
     },
     "execution_count": 2,
     "metadata": {},
     "output_type": "execute_result"
    }
   ],
   "source": [
    "submission = pd.read_csv('2019-03-27_19_27_sub.csv')\n",
    "submission.head()"
   ]
  },
  {
   "cell_type": "code",
   "execution_count": 29,
   "metadata": {},
   "outputs": [
    {
     "data": {
      "text/html": [
       "<div>\n",
       "<style scoped>\n",
       "    .dataframe tbody tr th:only-of-type {\n",
       "        vertical-align: middle;\n",
       "    }\n",
       "\n",
       "    .dataframe tbody tr th {\n",
       "        vertical-align: top;\n",
       "    }\n",
       "\n",
       "    .dataframe thead th {\n",
       "        text-align: right;\n",
       "    }\n",
       "</style>\n",
       "<table border=\"1\" class=\"dataframe\">\n",
       "  <thead>\n",
       "    <tr style=\"text-align: right;\">\n",
       "      <th></th>\n",
       "      <th>ID_code</th>\n",
       "      <th>target</th>\n",
       "    </tr>\n",
       "  </thead>\n",
       "  <tbody>\n",
       "    <tr>\n",
       "      <th>0</th>\n",
       "      <td>test_0</td>\n",
       "      <td>0.182981</td>\n",
       "    </tr>\n",
       "    <tr>\n",
       "      <th>1</th>\n",
       "      <td>test_1</td>\n",
       "      <td>0.315891</td>\n",
       "    </tr>\n",
       "    <tr>\n",
       "      <th>2</th>\n",
       "      <td>test_2</td>\n",
       "      <td>0.269531</td>\n",
       "    </tr>\n",
       "    <tr>\n",
       "      <th>3</th>\n",
       "      <td>test_3</td>\n",
       "      <td>0.355173</td>\n",
       "    </tr>\n",
       "    <tr>\n",
       "      <th>4</th>\n",
       "      <td>test_4</td>\n",
       "      <td>0.081307</td>\n",
       "    </tr>\n",
       "  </tbody>\n",
       "</table>\n",
       "</div>"
      ],
      "text/plain": [
       "  ID_code    target\n",
       "0  test_0  0.182981\n",
       "1  test_1  0.315891\n",
       "2  test_2  0.269531\n",
       "3  test_3  0.355173\n",
       "4  test_4  0.081307"
      ]
     },
     "execution_count": 29,
     "metadata": {},
     "output_type": "execute_result"
    }
   ],
   "source": [
    "submission = pd.read_csv('2019-03-28_18_23_sub.csv.zip')\n",
    "submission.head()"
   ]
  },
  {
   "cell_type": "code",
   "execution_count": 3,
   "metadata": {},
   "outputs": [
    {
     "name": "stderr",
     "output_type": "stream",
     "text": [
      "/home/user/anaconda3/lib/python3.7/site-packages/ipykernel_launcher.py:4: SettingWithCopyWarning: \n",
      "A value is trying to be set on a copy of a slice from a DataFrame\n",
      "\n",
      "See the caveats in the documentation: http://pandas.pydata.org/pandas-docs/stable/indexing.html#indexing-view-versus-copy\n",
      "  after removing the cwd from sys.path.\n"
     ]
    },
    {
     "data": {
      "text/plain": [
       "(200000, 187609, 12391, 3958, 0)"
      ]
     },
     "execution_count": 3,
     "metadata": {},
     "output_type": "execute_result"
    }
   ],
   "source": [
    "sum_moved = submission.copy()\n",
    "#len(sum_moved[(submission['target']<0.5)&(submission['target']>0.48)])\n",
    "sum_moved['target'] = sum_moved['target']*1.5\n",
    "sum_moved['target'][sum_moved['target']>0.998877] = 0.998877\n",
    "len(sum_moved), len(sum_moved[sum_moved['target']<0.5]), len(sum_moved[sum_moved['target']>=0.5]), len(sum_moved[sum_moved['target']>0.9]), len(sum_moved[sum_moved['target']>1])"
   ]
  },
  {
   "cell_type": "code",
   "execution_count": 27,
   "metadata": {},
   "outputs": [
    {
     "name": "stdout",
     "output_type": "stream",
     "text": [
      "original 0.901 200000 187725 12275 2929 0\n",
      "after 0.8 - .1 200000 187725 12275 1222 0\n"
     ]
    },
    {
     "name": "stderr",
     "output_type": "stream",
     "text": [
      "/home/user/anaconda3/lib/python3.7/site-packages/ipykernel_launcher.py:3: SettingWithCopyWarning: \n",
      "A value is trying to be set on a copy of a slice from a DataFrame\n",
      "\n",
      "See the caveats in the documentation: http://pandas.pydata.org/pandas-docs/stable/indexing.html#indexing-view-versus-copy\n",
      "  This is separate from the ipykernel package so we can avoid doing imports until\n"
     ]
    }
   ],
   "source": [
    "sum_moved = submission.copy()\n",
    "print('original 0.901', len(sum_moved), len(sum_moved[sum_moved['target']<0.5]), len(sum_moved[sum_moved['target']>=0.5]), len(sum_moved[sum_moved['target']>0.8]), len(sum_moved[sum_moved['target']>1]))#len(sum_moved[(submission['target']<0.5)&(submission['target']>0.48)])\n",
    "sum_moved['target'][sum_moved['target']>0.8] = sum_moved['target'][sum_moved['target']>0.8] - 0.1\n",
    "#sum_moved['target'] = sum_moved['target'].apply(lambda x: x>0.8 - 0.1 if x>0.8 else x)\n",
    "print('after 0.8 - .1', len(sum_moved), len(sum_moved[sum_moved['target']<0.5]), len(sum_moved[sum_moved['target']>=0.5]), len(sum_moved[sum_moved['target']>0.8]), len(sum_moved[sum_moved['target']>1]))"
   ]
  },
  {
   "cell_type": "code",
   "execution_count": 7,
   "metadata": {},
   "outputs": [
    {
     "name": "stdout",
     "output_type": "stream",
     "text": [
      "0.0 0.1 121854\n",
      "0.1 0.2 34290\n",
      "0.2 0.30000000000000004 16237\n",
      "0.30000000000000004 0.4 9263\n",
      "0.4 0.5 6081\n",
      "0.5 0.6 4045\n",
      "0.6000000000000001 0.7000000000000001 3055\n",
      "0.7000000000000001 0.8 2246\n",
      "0.8 0.9 1707\n",
      "0.9 1.0 1222\n",
      "187725 \n",
      "\n",
      "0.0 0.1 127514\n",
      "0.1 0.2 33210\n",
      "0.2 0.30000000000000004 15262\n",
      "0.30000000000000004 0.4 8674\n",
      "0.4 0.5 5545\n",
      "0.5 0.6 3693\n",
      "0.6000000000000001 0.7000000000000001 2711\n",
      "0.7000000000000001 0.8 1987\n",
      "0.8 0.9 1404\n",
      "0.9 1.0 0\n",
      "190205 \n",
      "\n"
     ]
    }
   ],
   "source": [
    "sum_moved = submission.copy()\n",
    "for i in np.arange(0.0,1,0.1): print(i, i+.1, len(sum_moved[(sum_moved['target']>=i)&(sum_moved['target']<i+.1)]))\n",
    "print(len(sum_moved[sum_moved['target']<0.5]),'\\n')\n",
    "sum_moved['target'] = sum_moved['target']*0.95\n",
    "for i in np.arange(0.0,1,0.1): print(i, i+.1, len(sum_moved[(sum_moved['target']>=i)&(sum_moved['target']<i+.1)]))\n",
    "print(len(sum_moved[sum_moved['target']<0.5]),'\\n')"
   ]
  },
  {
   "cell_type": "code",
   "execution_count": 40,
   "metadata": {},
   "outputs": [
    {
     "name": "stdout",
     "output_type": "stream",
     "text": [
      "200000 187725 12275 1222 0\n"
     ]
    },
    {
     "name": "stderr",
     "output_type": "stream",
     "text": [
      "/home/user/anaconda3/lib/python3.7/site-packages/ipykernel_launcher.py:4: SettingWithCopyWarning: \n",
      "A value is trying to be set on a copy of a slice from a DataFrame\n",
      "\n",
      "See the caveats in the documentation: http://pandas.pydata.org/pandas-docs/stable/indexing.html#indexing-view-versus-copy\n",
      "  after removing the cwd from sys.path.\n"
     ]
    },
    {
     "data": {
      "text/plain": [
       "(200000, 183071, 16929, 0, 0)"
      ]
     },
     "execution_count": 40,
     "metadata": {},
     "output_type": "execute_result"
    }
   ],
   "source": [
    "sum_moved = submission.copy()\n",
    "print(len(sum_moved), len(sum_moved[sum_moved['target']<0.5]), len(sum_moved[sum_moved['target']>=0.5]), len(sum_moved[sum_moved['target']>0.9]), len(sum_moved[sum_moved['target']>1]))\n",
    "sum_moved['target'] = sum_moved['target']+0.08\n",
    "sum_moved['target'][sum_moved['target']>0.9] = 0.9\n",
    "len(sum_moved), len(sum_moved[sum_moved['target']<0.5]), len(sum_moved[sum_moved['target']>=0.5]), len(sum_moved[sum_moved['target']>0.9]), len(sum_moved[sum_moved['target']>1])"
   ]
  },
  {
   "cell_type": "code",
   "execution_count": 41,
   "metadata": {},
   "outputs": [
    {
     "name": "stdout",
     "output_type": "stream",
     "text": [
      "2019-03-29_13_08_sub.csv.zip\n"
     ]
    }
   ],
   "source": [
    "filename=\"{:%Y-%m-%d_%H_%M}_sub.csv\".format(datetime.now())\n",
    "sum_moved.to_csv(filename, index=False)\n",
    "\n",
    "with zipfile.ZipFile(filename+'.zip', 'w', zipfile.ZIP_DEFLATED) as newzip:\n",
    "    newzip.write(filename)\n",
    "print(filename+'.zip')"
   ]
  },
  {
   "cell_type": "code",
   "execution_count": 5,
   "metadata": {},
   "outputs": [
    {
     "name": "stdout",
     "output_type": "stream",
     "text": [
      "итого 332484\n",
      "  6200 2019-03-27_15_47_sub.csv\n",
      "  2340 2019-03-27_15_47_sub.csv.zip\n",
      "  6200 2019-03-27_19_27_sub.csv\n",
      "  2340 2019-03-27_19_27_sub.csv.zip\n",
      "  2308 2019-03-27_22_35_sub.csv.zip\n",
      "  6184 2019-03-27_22_40_sub.csv\n",
      "  2336 2019-03-27_22_40_sub.csv.zip\n",
      "  6188 2019-03-27_22_49_sub.csv\n",
      "  2336 2019-03-27_22_49_sub.csv.zip\n",
      "  6136 2019-03-28_08_46_sub.csv\n",
      "  2316 2019-03-28_08_46_sub.csv.zip\n",
      "  6156 2019-03-28_18_23_sub.csv\n",
      "  2336 2019-03-28_18_23_sub.csv.zip\n",
      "  6156 2019-03-28_21_42_sub.csv\n",
      "  2336 2019-03-28_21_42_sub.csv.zip\n",
      "  6160 2019-03-28_21_46_sub.csv\n",
      "  2336 2019-03-28_21_46_sub.csv.zip\n",
      "  6160 2019-03-29_12_06_sub.csv\n",
      "  2336 2019-03-29_12_06_sub.csv.zip\n",
      "     4 input\n",
      "   464 sample_submission.csv.zip\n",
      "  1436 Santader.ipynb\n",
      "     8 Santader_R.ipynb\n",
      "  1556 subprocess.ipynb\n",
      "124920 test.csv.zip\n",
      "125236 train.csv.zip\n"
     ]
    }
   ],
   "source": [
    "%%bash\n",
    "ls -s"
   ]
  },
  {
   "cell_type": "code",
   "execution_count": 18,
   "metadata": {},
   "outputs": [
    {
     "name": "stdout",
     "output_type": "stream",
     "text": [
      "ref                                            deadline             category            reward  teamCount  userHasEntered  \n",
      "---------------------------------------------  -------------------  ---------------  ---------  ---------  --------------  \n",
      "digit-recognizer                               2030-01-01 00:00:00  Getting Started  Knowledge       2596           False  \n",
      "titanic                                        2030-01-01 00:00:00  Getting Started  Knowledge      10529           False  \n",
      "house-prices-advanced-regression-techniques    2030-01-01 00:00:00  Getting Started  Knowledge       4211           False  \n",
      "imagenet-object-localization-challenge         2029-12-31 07:00:00  Research         Knowledge         36           False  \n",
      "competitive-data-science-predict-future-sales  2019-12-31 23:59:00  Playground           Kudos       2614           False  \n",
      "two-sigma-financial-news                       2019-07-15 23:59:00  Featured          $100,000       2927           False  \n",
      "aerial-cactus-identification                   2019-07-08 23:59:00  Playground       Knowledge        183           False  \n",
      "iwildcam-2019-fgvc6                            2019-06-07 23:59:00  Playground           Kudos          2           False  \n",
      "LANL-Earthquake-Prediction                     2019-06-03 23:59:00  Research           $50,000       2057           False  \n",
      "tmdb-box-office-prediction                     2019-05-30 23:59:00  Playground       Knowledge        524           False  \n",
      "dont-overfit-ii                                2019-05-07 23:59:00  Playground            Swag       1282           False  \n",
      "data-science-for-good-careervillage            2019-04-23 23:59:00  Analytics          $15,000          0           False  \n",
      "gendered-pronoun-resolution                    2019-04-22 23:59:00  Research           $25,000        530           False  \n",
      "career-con-2019                                2019-04-11 23:59:00  Recruitment           Swag        962           False  \n",
      "santander-customer-transaction-prediction      2019-04-10 23:59:00  Featured           $65,000       7671            True  \n",
      "womens-machine-learning-competition-2019       2019-04-10 06:00:00  Featured           $25,000        504           False  \n",
      "mens-machine-learning-competition-2019         2019-04-09 06:00:00  Featured           $25,000        871           False  \n",
      "histopathologic-cancer-detection               2019-03-30 23:59:00  Playground       Knowledge       1101           False  \n",
      "petfinder-adoption-prediction                  2019-03-28 23:59:00  Featured           $25,000       1984           False  \n",
      "vsb-power-line-fault-detection                 2019-03-21 23:59:00  Featured           $25,000       1451           False  \n"
     ]
    }
   ],
   "source": [
    "%%bash\n",
    "/home/user/anaconda3/bin/kaggle competitions list"
   ]
  },
  {
   "cell_type": "code",
   "execution_count": 74,
   "metadata": {},
   "outputs": [
    {
     "name": "stdout",
     "output_type": "stream",
     "text": [
      "Successfully submitted to Santander Customer Transaction Prediction"
     ]
    },
    {
     "name": "stderr",
     "output_type": "stream",
     "text": [
      "\r",
      "  0%|          | 0.00/2.28M [00:00<?, ?B/s]\r",
      "  5%|▌         | 120k/2.28M [00:00<00:01, 1.23MB/s]\r",
      " 60%|██████    | 1.38M/2.28M [00:00<00:00, 1.69MB/s]\r",
      "100%|██████████| 2.28M/2.28M [00:03<00:00, 640kB/s] \n"
     ]
    }
   ],
   "source": [
    "%%bash\n",
    "/home/user/anaconda3/bin/kaggle competitions submit santander-customer-transaction-prediction -f 2019-03-27_15_47_sub.csv.zip -m \"02 lgbm augment\""
   ]
  },
  {
   "cell_type": "code",
   "execution_count": 107,
   "metadata": {
    "scrolled": true
   },
   "outputs": [
    {
     "name": "stdout",
     "output_type": "stream",
     "text": [
      "Successfully submitted to Santander Customer Transaction Prediction"
     ]
    },
    {
     "name": "stderr",
     "output_type": "stream",
     "text": [
      "\r",
      "  0%|          | 0.00/2.28M [00:00<?, ?B/s]\r",
      "  3%|▎         | 80.0k/2.28M [00:00<00:02, 809kB/s]\r",
      " 61%|██████    | 1.39M/2.28M [00:00<00:00, 1.13MB/s]\r",
      "100%|██████████| 2.28M/2.28M [00:05<00:00, 452kB/s] \n"
     ]
    }
   ],
   "source": [
    "%%bash\n",
    "/home/user/anaconda3/bin/kaggle competitions submit santander-customer-transaction-prediction -f 2019-03-27_19_27_sub.csv.zip -m \"03 lgbm augment\""
   ]
  },
  {
   "cell_type": "code",
   "execution_count": 199,
   "metadata": {
    "scrolled": true
   },
   "outputs": [
    {
     "name": "stdout",
     "output_type": "stream",
     "text": [
      "Successfully submitted to Santander Customer Transaction Prediction"
     ]
    },
    {
     "name": "stderr",
     "output_type": "stream",
     "text": [
      "\r",
      "  0%|          | 0.00/2.28M [00:00<?, ?B/s]\r",
      "  6%|▌         | 136k/2.28M [00:00<00:01, 1.27MB/s]\r",
      " 70%|███████   | 1.60M/2.28M [00:00<00:00, 1.75MB/s]\r",
      "100%|██████████| 2.28M/2.28M [00:05<00:00, 476kB/s] \n"
     ]
    }
   ],
   "source": [
    "%%bash\n",
    "/home/user/anaconda3/bin/kaggle competitions submit santander-customer-transaction-prediction -f 2019-03-27_22_49_sub.csv.zip -m \"05 lgbm augment *1.1\""
   ]
  },
  {
   "cell_type": "code",
   "execution_count": 5,
   "metadata": {
    "scrolled": true
   },
   "outputs": [
    {
     "name": "stdout",
     "output_type": "stream",
     "text": [
      "Successfully submitted to Santander Customer Transaction Prediction"
     ]
    },
    {
     "name": "stderr",
     "output_type": "stream",
     "text": [
      "\r",
      "  0%|          | 0.00/2.26M [00:00<?, ?B/s]\r",
      "  4%|▍         | 104k/2.26M [00:00<00:02, 1.06MB/s]\r",
      " 73%|███████▎  | 1.66M/2.26M [00:00<00:00, 1.46MB/s]\r",
      "100%|██████████| 2.26M/2.26M [00:10<00:00, 222kB/s] \n"
     ]
    }
   ],
   "source": [
    "%%bash\n",
    "/home/user/anaconda3/bin/kaggle competitions submit santander-customer-transaction-prediction -f 2019-03-28_08_46_sub.csv.zip -m \"06 lgbm augment *1.5\""
   ]
  },
  {
   "cell_type": "code",
   "execution_count": 15,
   "metadata": {
    "scrolled": true
   },
   "outputs": [
    {
     "name": "stdout",
     "output_type": "stream",
     "text": [
      "Successfully submitted to Santander Customer Transaction Prediction"
     ]
    },
    {
     "name": "stderr",
     "output_type": "stream",
     "text": [
      "\r",
      "  0%|          | 0.00/2.28M [00:00<?, ?B/s]\r",
      "  3%|▎         | 80.0k/2.28M [00:00<00:02, 796kB/s]\r",
      " 60%|█████▉    | 1.36M/2.28M [00:00<00:00, 1.11MB/s]\r",
      "100%|██████████| 2.28M/2.28M [00:08<00:00, 293kB/s] \n"
     ]
    }
   ],
   "source": [
    "%%bash\n",
    "/home/user/anaconda3/bin/kaggle competitions submit santander-customer-transaction-prediction -f 2019-03-28_18_23_sub.csv.zip -m \"07 lgbm augment 3x\""
   ]
  },
  {
   "cell_type": "code",
   "execution_count": 30,
   "metadata": {
    "scrolled": true
   },
   "outputs": [
    {
     "name": "stdout",
     "output_type": "stream",
     "text": [
      "Successfully submitted to Santander Customer Transaction Prediction"
     ]
    },
    {
     "name": "stderr",
     "output_type": "stream",
     "text": [
      "\r",
      "  0%|          | 0.00/2.28M [00:00<?, ?B/s]\r",
      "  6%|▌         | 144k/2.28M [00:00<00:01, 1.32MB/s]\r",
      " 75%|███████▍  | 1.70M/2.28M [00:00<00:00, 1.81MB/s]\r",
      "100%|██████████| 2.28M/2.28M [00:08<00:00, 294kB/s] \n"
     ]
    }
   ],
   "source": [
    "%%bash\n",
    "/home/user/anaconda3/bin/kaggle competitions submit santander-customer-transaction-prediction -f 2019-03-28_21_42_sub.csv.zip -m \"08 lgbm augment 3x targ>0.8-0.1\""
   ]
  },
  {
   "cell_type": "code",
   "execution_count": 6,
   "metadata": {
    "scrolled": false
   },
   "outputs": [
    {
     "name": "stdout",
     "output_type": "stream",
     "text": [
      "Successfully submitted to Santander Customer Transaction Prediction"
     ]
    },
    {
     "name": "stderr",
     "output_type": "stream",
     "text": [
      "\r",
      "  0%|          | 0.00/2.28M [00:00<?, ?B/s]\r",
      "  3%|▎         | 80.0k/2.28M [00:00<00:02, 807kB/s]\r",
      " 60%|█████▉    | 1.37M/2.28M [00:00<00:00, 1.12MB/s]\r",
      "100%|██████████| 2.28M/2.28M [00:03<00:00, 636kB/s] \n"
     ]
    }
   ],
   "source": [
    "%%bash\n",
    "/home/user/anaconda3/bin/kaggle competitions submit santander-customer-transaction-prediction -f 2019-03-29_12_06_sub.csv.zip -m \"09 lgbm augment 3x targ*0.95\""
   ]
  },
  {
   "cell_type": "code",
   "execution_count": 42,
   "metadata": {
    "scrolled": false
   },
   "outputs": [
    {
     "name": "stdout",
     "output_type": "stream",
     "text": [
      "Successfully submitted to Santander Customer Transaction Prediction"
     ]
    },
    {
     "name": "stderr",
     "output_type": "stream",
     "text": [
      "\r",
      "  0%|          | 0.00/2.22M [00:00<?, ?B/s]\r",
      "  6%|▋         | 144k/2.22M [00:00<00:01, 1.35MB/s]\r",
      " 75%|███████▍  | 1.66M/2.22M [00:00<00:00, 1.86MB/s]\r",
      "100%|██████████| 2.22M/2.22M [00:10<00:00, 227kB/s] \n"
     ]
    }
   ],
   "source": [
    "%%bash\n",
    "/home/user/anaconda3/bin/kaggle competitions submit santander-customer-transaction-prediction -f 2019-03-29_12_06_sub.csv.zip -m \"09 lgbm augment 3x targ-0.08\""
   ]
  },
  {
   "cell_type": "code",
   "execution_count": 42,
   "metadata": {
    "scrolled": true
   },
   "outputs": [
    {
     "name": "stdout",
     "output_type": "stream",
     "text": [
      "Successfully submitted to Santander Customer Transaction Prediction"
     ]
    },
    {
     "name": "stderr",
     "output_type": "stream",
     "text": [
      "\r",
      "  0%|          | 0.00/2.22M [00:00<?, ?B/s]\r",
      "  6%|▋         | 144k/2.22M [00:00<00:01, 1.35MB/s]\r",
      " 75%|███████▍  | 1.66M/2.22M [00:00<00:00, 1.86MB/s]\r",
      "100%|██████████| 2.22M/2.22M [00:10<00:00, 227kB/s] \n"
     ]
    }
   ],
   "source": [
    "%%bash\n",
    "/home/user/anaconda3/bin/kaggle competitions submit santander-customer-transaction-prediction -f 2019-03-29_13_08_sub.csv.zip -m \"10 lgbm augment 3x targ+0.08\""
   ]
  },
  {
   "cell_type": "code",
   "execution_count": 78,
   "metadata": {
    "scrolled": true
   },
   "outputs": [
    {
     "name": "stdout",
     "output_type": "stream",
     "text": [
      "Successfully submitted to Santander Customer Transaction Prediction"
     ]
    },
    {
     "name": "stderr",
     "output_type": "stream",
     "text": [
      "\r",
      "  0%|          | 0.00/484k [00:00<?, ?B/s]\r",
      " 17%|█▋        | 80.0k/484k [00:00<00:00, 817kB/s]\r",
      "100%|██████████| 484k/484k [00:07<00:00, 65.7kB/s]\n"
     ]
    }
   ],
   "source": [
    "%%bash\n",
    "/home/user/anaconda3/bin/kaggle competitions submit santander-customer-transaction-prediction -f 2019-03-30_18_14_sub.csv.zip -m \"11 lgbm augment 9x min and max trim 3%\""
   ]
  },
  {
   "cell_type": "code",
   "execution_count": 79,
   "metadata": {
    "scrolled": true
   },
   "outputs": [
    {
     "name": "stdout",
     "output_type": "stream",
     "text": [
      "Successfully submitted to Santander Customer Transaction Prediction"
     ]
    },
    {
     "name": "stderr",
     "output_type": "stream",
     "text": [
      "\r",
      "  0%|          | 0.00/2.27M [00:00<?, ?B/s]\r",
      "  6%|▌         | 144k/2.27M [00:00<00:01, 1.37MB/s]\r",
      " 78%|███████▊  | 1.77M/2.27M [00:00<00:00, 1.88MB/s]\r",
      "100%|██████████| 2.27M/2.27M [00:08<00:00, 294kB/s] \n"
     ]
    }
   ],
   "source": [
    "%%bash\n",
    "/home/user/anaconda3/bin/kaggle competitions submit santander-customer-transaction-prediction -f 2019-03-30_16_32_sub.csv.zip -m \"12 lgbm augment 9x\""
   ]
  },
  {
   "cell_type": "code",
   "execution_count": 98,
   "metadata": {
    "scrolled": true
   },
   "outputs": [
    {
     "name": "stdout",
     "output_type": "stream",
     "text": [
      "Successfully submitted to Santander Customer Transaction Prediction"
     ]
    },
    {
     "name": "stderr",
     "output_type": "stream",
     "text": [
      "\r",
      "  0%|          | 0.00/477k [00:00<?, ?B/s]\r",
      " 28%|██▊       | 136k/477k [00:00<00:00, 1.22MB/s]\r",
      "100%|██████████| 477k/477k [00:04<00:00, 101kB/s] \n"
     ]
    }
   ],
   "source": [
    "%%bash\n",
    "/home/user/anaconda3/bin/kaggle competitions submit santander-customer-transaction-prediction -f 2019-03-30_18_31_sub.csv.zip -m \"13 lgbm augment 2x min and max trim 0.5%\""
   ]
  },
  {
   "cell_type": "code",
   "execution_count": 105,
   "metadata": {
    "scrolled": true
   },
   "outputs": [
    {
     "name": "stdout",
     "output_type": "stream",
     "text": [
      "Successfully submitted to Santander Customer Transaction Prediction"
     ]
    },
    {
     "name": "stderr",
     "output_type": "stream",
     "text": [
      "\r",
      "  0%|          | 0.00/2.27M [00:00<?, ?B/s]\r",
      "  2%|▏         | 56.0k/2.27M [00:00<00:04, 549kB/s]\r",
      " 60%|█████▉    | 1.35M/2.27M [00:00<00:01, 770kB/s]\r",
      "100%|██████████| 2.27M/2.27M [00:06<00:00, 372kB/s]\n"
     ]
    }
   ],
   "source": [
    "%%bash\n",
    "/home/user/anaconda3/bin/kaggle competitions submit santander-customer-transaction-prediction -f 2019-03-31_09_55_sub.csv.zip -m \"14 lgbm augment 2x min and max trim 3% (target float!)\""
   ]
  },
  {
   "cell_type": "code",
   "execution_count": 126,
   "metadata": {
    "scrolled": true
   },
   "outputs": [
    {
     "name": "stdout",
     "output_type": "stream",
     "text": [
      "Successfully submitted to Santander Customer Transaction Prediction"
     ]
    },
    {
     "name": "stderr",
     "output_type": "stream",
     "text": [
      "\r",
      "  0%|          | 0.00/2.26M [00:00<?, ?B/s]\r",
      "  6%|▌         | 144k/2.26M [00:00<00:01, 1.37MB/s]\r",
      " 73%|███████▎  | 1.66M/2.26M [00:00<00:00, 1.88MB/s]\r",
      "100%|██████████| 2.26M/2.26M [00:05<00:00, 397kB/s] \n"
     ]
    }
   ],
   "source": [
    "%%bash\n",
    "/home/user/anaconda3/bin/kaggle competitions submit santander-customer-transaction-prediction -f 2019-03-31_10_10_sub.csv.zip -m \"15 lgbm augment 2x min and max trim 1% (target float!)\""
   ]
  },
  {
   "cell_type": "code",
   "execution_count": 171,
   "metadata": {
    "scrolled": true
   },
   "outputs": [
    {
     "name": "stdout",
     "output_type": "stream",
     "text": [
      "Successfully submitted to Santander Customer Transaction Prediction"
     ]
    },
    {
     "name": "stderr",
     "output_type": "stream",
     "text": [
      "\r",
      "  0%|          | 0.00/2.27M [00:00<?, ?B/s]\r",
      "  6%|▌         | 144k/2.27M [00:00<00:01, 1.35MB/s]\r",
      " 73%|███████▎  | 1.65M/2.27M [00:00<00:00, 1.86MB/s]\r",
      "100%|██████████| 2.27M/2.27M [00:10<00:00, 217kB/s] \n"
     ]
    }
   ],
   "source": [
    "%%bash\n",
    "/home/user/anaconda3/bin/kaggle competitions submit santander-customer-transaction-prediction -f 2019-03-31_10_25_sub.csv.zip -m \"16 lgbm augment 2x min and max trim 2% 0.49 (err befor)\""
   ]
  },
  {
   "cell_type": "code",
   "execution_count": 179,
   "metadata": {
    "scrolled": true
   },
   "outputs": [
    {
     "name": "stdout",
     "output_type": "stream",
     "text": [
      "Successfully submitted to Santander Customer Transaction Prediction"
     ]
    },
    {
     "name": "stderr",
     "output_type": "stream",
     "text": [
      "\r",
      "  0%|          | 0.00/2.27M [00:00<?, ?B/s]\r",
      "  6%|▌         | 136k/2.27M [00:00<00:01, 1.23MB/s]\r",
      " 70%|██████▉   | 1.59M/2.27M [00:00<00:00, 1.69MB/s]\r",
      "100%|██████████| 2.27M/2.27M [00:03<00:00, 695kB/s] \n"
     ]
    }
   ],
   "source": [
    "%%bash\n",
    "/home/user/anaconda3/bin/kaggle competitions submit santander-customer-transaction-prediction -f 2019-04-01_22_58_sub.csv.zip -m \"17 lgbm augment 2x min and max trim 2% target-0.2\""
   ]
  },
  {
   "cell_type": "code",
   "execution_count": null,
   "metadata": {},
   "outputs": [],
   "source": [
    "\n",
    "\n",
    "\n",
    "\n"
   ]
  },
  {
   "cell_type": "code",
   "execution_count": 112,
   "metadata": {},
   "outputs": [
    {
     "name": "stdout",
     "output_type": "stream",
     "text": [
      "b'crw-rw-rw- 1 root root 1, 3 \\xd0\\xbc\\xd0\\xb0\\xd1\\x80 27 11:07 /dev/null\\n'\n"
     ]
    }
   ],
   "source": [
    "subprocess.check_output([\"ls\", \"-l\", \"/dev/null\"])"
   ]
  },
  {
   "cell_type": "markdown",
   "metadata": {},
   "source": [
    "#cmd = '/home/user/anaconda3/bin/kaggle submit santander-customer-transaction-prediction -f '+filename+'.zip -m \"01 lgbm augment\"'\n",
    "#os.system(cmd)\n",
    "import subprocess\n",
    "cmd = ['/home/user/anaconda3/bin/kaggle',  'submit', 'santander-customer-transaction-prediction', '-f', '2019-03-27_22_40_sub.csv.zip', '-m' '\"04 lgbm augment *1.1\"']\n",
    "subprocess.check_output(cmd)"
   ]
  },
  {
   "cell_type": "code",
   "execution_count": null,
   "metadata": {},
   "outputs": [],
   "source": [
    "\n",
    "\n",
    "\n",
    "#COMPARE 2 SUBs"
   ]
  },
  {
   "cell_type": "code",
   "execution_count": 24,
   "metadata": {},
   "outputs": [
    {
     "data": {
      "text/plain": [
       "6170"
      ]
     },
     "execution_count": 24,
     "metadata": {},
     "output_type": "execute_result"
    }
   ],
   "source": [
    "submission1 = pd.read_csv('2019-03-27_15_47_sub.csv') #02\n",
    "submission2 = pd.read_csv('2019-03-28_18_23_sub.csv') #0\n",
    "submission2['target1'] = submission1['target']\n",
    "submission2['diff'] = submission1['target'] - submission2['target']\n",
    "submission2['tg1'] = submission1['target'].round().astype(int)\n",
    "submission2['tg2'] = submission2['target'].round().astype(int)\n",
    "submission2['tg'] = (submission2['tg1']!=submission2['tg2']).astype(int)\n",
    "len(submission2[submission2['tg']==1])"
   ]
  },
  {
   "cell_type": "code",
   "execution_count": 28,
   "metadata": {},
   "outputs": [
    {
     "data": {
      "text/plain": [
       "-0.17320328205207516"
      ]
     },
     "execution_count": 28,
     "metadata": {},
     "output_type": "execute_result"
    }
   ],
   "source": [
    "a = submission2[(submission2['tg']==1)&(submission2['tg2']==1)]\n",
    "a['diff'].mean()"
   ]
  },
  {
   "cell_type": "code",
   "execution_count": 23,
   "metadata": {},
   "outputs": [
    {
     "data": {
      "text/html": [
       "<div>\n",
       "<style scoped>\n",
       "    .dataframe tbody tr th:only-of-type {\n",
       "        vertical-align: middle;\n",
       "    }\n",
       "\n",
       "    .dataframe tbody tr th {\n",
       "        vertical-align: top;\n",
       "    }\n",
       "\n",
       "    .dataframe thead th {\n",
       "        text-align: right;\n",
       "    }\n",
       "</style>\n",
       "<table border=\"1\" class=\"dataframe\">\n",
       "  <thead>\n",
       "    <tr style=\"text-align: right;\">\n",
       "      <th></th>\n",
       "      <th>ID_code</th>\n",
       "      <th>target</th>\n",
       "      <th>target1</th>\n",
       "      <th>diff</th>\n",
       "      <th>tg1</th>\n",
       "      <th>tg2</th>\n",
       "      <th>tg</th>\n",
       "    </tr>\n",
       "  </thead>\n",
       "  <tbody>\n",
       "    <tr>\n",
       "      <th>20</th>\n",
       "      <td>test_20</td>\n",
       "      <td>0.504109</td>\n",
       "      <td>0.312896</td>\n",
       "      <td>-0.191214</td>\n",
       "      <td>0</td>\n",
       "      <td>1</td>\n",
       "      <td>1</td>\n",
       "    </tr>\n",
       "    <tr>\n",
       "      <th>32</th>\n",
       "      <td>test_32</td>\n",
       "      <td>0.679486</td>\n",
       "      <td>0.460856</td>\n",
       "      <td>-0.218629</td>\n",
       "      <td>0</td>\n",
       "      <td>1</td>\n",
       "      <td>1</td>\n",
       "    </tr>\n",
       "    <tr>\n",
       "      <th>138</th>\n",
       "      <td>test_138</td>\n",
       "      <td>0.520818</td>\n",
       "      <td>0.357390</td>\n",
       "      <td>-0.163428</td>\n",
       "      <td>0</td>\n",
       "      <td>1</td>\n",
       "      <td>1</td>\n",
       "    </tr>\n",
       "    <tr>\n",
       "      <th>161</th>\n",
       "      <td>test_161</td>\n",
       "      <td>0.542096</td>\n",
       "      <td>0.345987</td>\n",
       "      <td>-0.196109</td>\n",
       "      <td>0</td>\n",
       "      <td>1</td>\n",
       "      <td>1</td>\n",
       "    </tr>\n",
       "    <tr>\n",
       "      <th>297</th>\n",
       "      <td>test_297</td>\n",
       "      <td>0.563460</td>\n",
       "      <td>0.384543</td>\n",
       "      <td>-0.178918</td>\n",
       "      <td>0</td>\n",
       "      <td>1</td>\n",
       "      <td>1</td>\n",
       "    </tr>\n",
       "    <tr>\n",
       "      <th>323</th>\n",
       "      <td>test_323</td>\n",
       "      <td>0.547200</td>\n",
       "      <td>0.378211</td>\n",
       "      <td>-0.168989</td>\n",
       "      <td>0</td>\n",
       "      <td>1</td>\n",
       "      <td>1</td>\n",
       "    </tr>\n",
       "    <tr>\n",
       "      <th>355</th>\n",
       "      <td>test_355</td>\n",
       "      <td>0.660541</td>\n",
       "      <td>0.484281</td>\n",
       "      <td>-0.176259</td>\n",
       "      <td>0</td>\n",
       "      <td>1</td>\n",
       "      <td>1</td>\n",
       "    </tr>\n",
       "    <tr>\n",
       "      <th>361</th>\n",
       "      <td>test_361</td>\n",
       "      <td>0.595429</td>\n",
       "      <td>0.375240</td>\n",
       "      <td>-0.220189</td>\n",
       "      <td>0</td>\n",
       "      <td>1</td>\n",
       "      <td>1</td>\n",
       "    </tr>\n",
       "    <tr>\n",
       "      <th>375</th>\n",
       "      <td>test_375</td>\n",
       "      <td>0.535741</td>\n",
       "      <td>0.377560</td>\n",
       "      <td>-0.158181</td>\n",
       "      <td>0</td>\n",
       "      <td>1</td>\n",
       "      <td>1</td>\n",
       "    </tr>\n",
       "    <tr>\n",
       "      <th>404</th>\n",
       "      <td>test_404</td>\n",
       "      <td>0.599366</td>\n",
       "      <td>0.391805</td>\n",
       "      <td>-0.207561</td>\n",
       "      <td>0</td>\n",
       "      <td>1</td>\n",
       "      <td>1</td>\n",
       "    </tr>\n",
       "    <tr>\n",
       "      <th>413</th>\n",
       "      <td>test_413</td>\n",
       "      <td>0.627964</td>\n",
       "      <td>0.445332</td>\n",
       "      <td>-0.182632</td>\n",
       "      <td>0</td>\n",
       "      <td>1</td>\n",
       "      <td>1</td>\n",
       "    </tr>\n",
       "    <tr>\n",
       "      <th>416</th>\n",
       "      <td>test_416</td>\n",
       "      <td>0.675417</td>\n",
       "      <td>0.476351</td>\n",
       "      <td>-0.199066</td>\n",
       "      <td>0</td>\n",
       "      <td>1</td>\n",
       "      <td>1</td>\n",
       "    </tr>\n",
       "    <tr>\n",
       "      <th>564</th>\n",
       "      <td>test_564</td>\n",
       "      <td>0.584287</td>\n",
       "      <td>0.445961</td>\n",
       "      <td>-0.138326</td>\n",
       "      <td>0</td>\n",
       "      <td>1</td>\n",
       "      <td>1</td>\n",
       "    </tr>\n",
       "    <tr>\n",
       "      <th>602</th>\n",
       "      <td>test_602</td>\n",
       "      <td>0.504886</td>\n",
       "      <td>0.362286</td>\n",
       "      <td>-0.142600</td>\n",
       "      <td>0</td>\n",
       "      <td>1</td>\n",
       "      <td>1</td>\n",
       "    </tr>\n",
       "    <tr>\n",
       "      <th>610</th>\n",
       "      <td>test_610</td>\n",
       "      <td>0.534033</td>\n",
       "      <td>0.386417</td>\n",
       "      <td>-0.147616</td>\n",
       "      <td>0</td>\n",
       "      <td>1</td>\n",
       "      <td>1</td>\n",
       "    </tr>\n",
       "    <tr>\n",
       "      <th>716</th>\n",
       "      <td>test_716</td>\n",
       "      <td>0.535349</td>\n",
       "      <td>0.356921</td>\n",
       "      <td>-0.178427</td>\n",
       "      <td>0</td>\n",
       "      <td>1</td>\n",
       "      <td>1</td>\n",
       "    </tr>\n",
       "    <tr>\n",
       "      <th>760</th>\n",
       "      <td>test_760</td>\n",
       "      <td>0.642835</td>\n",
       "      <td>0.443134</td>\n",
       "      <td>-0.199701</td>\n",
       "      <td>0</td>\n",
       "      <td>1</td>\n",
       "      <td>1</td>\n",
       "    </tr>\n",
       "    <tr>\n",
       "      <th>798</th>\n",
       "      <td>test_798</td>\n",
       "      <td>0.572845</td>\n",
       "      <td>0.370420</td>\n",
       "      <td>-0.202425</td>\n",
       "      <td>0</td>\n",
       "      <td>1</td>\n",
       "      <td>1</td>\n",
       "    </tr>\n",
       "    <tr>\n",
       "      <th>835</th>\n",
       "      <td>test_835</td>\n",
       "      <td>0.533603</td>\n",
       "      <td>0.331356</td>\n",
       "      <td>-0.202246</td>\n",
       "      <td>0</td>\n",
       "      <td>1</td>\n",
       "      <td>1</td>\n",
       "    </tr>\n",
       "    <tr>\n",
       "      <th>836</th>\n",
       "      <td>test_836</td>\n",
       "      <td>0.673963</td>\n",
       "      <td>0.443636</td>\n",
       "      <td>-0.230327</td>\n",
       "      <td>0</td>\n",
       "      <td>1</td>\n",
       "      <td>1</td>\n",
       "    </tr>\n",
       "    <tr>\n",
       "      <th>846</th>\n",
       "      <td>test_846</td>\n",
       "      <td>0.517003</td>\n",
       "      <td>0.330976</td>\n",
       "      <td>-0.186027</td>\n",
       "      <td>0</td>\n",
       "      <td>1</td>\n",
       "      <td>1</td>\n",
       "    </tr>\n",
       "    <tr>\n",
       "      <th>851</th>\n",
       "      <td>test_851</td>\n",
       "      <td>0.574661</td>\n",
       "      <td>0.447997</td>\n",
       "      <td>-0.126664</td>\n",
       "      <td>0</td>\n",
       "      <td>1</td>\n",
       "      <td>1</td>\n",
       "    </tr>\n",
       "    <tr>\n",
       "      <th>864</th>\n",
       "      <td>test_864</td>\n",
       "      <td>0.679021</td>\n",
       "      <td>0.492403</td>\n",
       "      <td>-0.186618</td>\n",
       "      <td>0</td>\n",
       "      <td>1</td>\n",
       "      <td>1</td>\n",
       "    </tr>\n",
       "    <tr>\n",
       "      <th>870</th>\n",
       "      <td>test_870</td>\n",
       "      <td>0.501760</td>\n",
       "      <td>0.330099</td>\n",
       "      <td>-0.171661</td>\n",
       "      <td>0</td>\n",
       "      <td>1</td>\n",
       "      <td>1</td>\n",
       "    </tr>\n",
       "    <tr>\n",
       "      <th>891</th>\n",
       "      <td>test_891</td>\n",
       "      <td>0.575698</td>\n",
       "      <td>0.382584</td>\n",
       "      <td>-0.193114</td>\n",
       "      <td>0</td>\n",
       "      <td>1</td>\n",
       "      <td>1</td>\n",
       "    </tr>\n",
       "    <tr>\n",
       "      <th>935</th>\n",
       "      <td>test_935</td>\n",
       "      <td>0.525233</td>\n",
       "      <td>0.378336</td>\n",
       "      <td>-0.146897</td>\n",
       "      <td>0</td>\n",
       "      <td>1</td>\n",
       "      <td>1</td>\n",
       "    </tr>\n",
       "    <tr>\n",
       "      <th>946</th>\n",
       "      <td>test_946</td>\n",
       "      <td>0.595462</td>\n",
       "      <td>0.440518</td>\n",
       "      <td>-0.154944</td>\n",
       "      <td>0</td>\n",
       "      <td>1</td>\n",
       "      <td>1</td>\n",
       "    </tr>\n",
       "    <tr>\n",
       "      <th>986</th>\n",
       "      <td>test_986</td>\n",
       "      <td>0.526323</td>\n",
       "      <td>0.385864</td>\n",
       "      <td>-0.140459</td>\n",
       "      <td>0</td>\n",
       "      <td>1</td>\n",
       "      <td>1</td>\n",
       "    </tr>\n",
       "    <tr>\n",
       "      <th>1060</th>\n",
       "      <td>test_1060</td>\n",
       "      <td>0.557826</td>\n",
       "      <td>0.408715</td>\n",
       "      <td>-0.149111</td>\n",
       "      <td>0</td>\n",
       "      <td>1</td>\n",
       "      <td>1</td>\n",
       "    </tr>\n",
       "    <tr>\n",
       "      <th>1084</th>\n",
       "      <td>test_1084</td>\n",
       "      <td>0.522575</td>\n",
       "      <td>0.325187</td>\n",
       "      <td>-0.197388</td>\n",
       "      <td>0</td>\n",
       "      <td>1</td>\n",
       "      <td>1</td>\n",
       "    </tr>\n",
       "    <tr>\n",
       "      <th>1095</th>\n",
       "      <td>test_1095</td>\n",
       "      <td>0.587600</td>\n",
       "      <td>0.394682</td>\n",
       "      <td>-0.192918</td>\n",
       "      <td>0</td>\n",
       "      <td>1</td>\n",
       "      <td>1</td>\n",
       "    </tr>\n",
       "    <tr>\n",
       "      <th>1103</th>\n",
       "      <td>test_1103</td>\n",
       "      <td>0.528499</td>\n",
       "      <td>0.350090</td>\n",
       "      <td>-0.178409</td>\n",
       "      <td>0</td>\n",
       "      <td>1</td>\n",
       "      <td>1</td>\n",
       "    </tr>\n",
       "    <tr>\n",
       "      <th>1186</th>\n",
       "      <td>test_1186</td>\n",
       "      <td>0.506946</td>\n",
       "      <td>0.311941</td>\n",
       "      <td>-0.195005</td>\n",
       "      <td>0</td>\n",
       "      <td>1</td>\n",
       "      <td>1</td>\n",
       "    </tr>\n",
       "    <tr>\n",
       "      <th>1223</th>\n",
       "      <td>test_1223</td>\n",
       "      <td>0.534733</td>\n",
       "      <td>0.341907</td>\n",
       "      <td>-0.192826</td>\n",
       "      <td>0</td>\n",
       "      <td>1</td>\n",
       "      <td>1</td>\n",
       "    </tr>\n",
       "    <tr>\n",
       "      <th>1256</th>\n",
       "      <td>test_1256</td>\n",
       "      <td>0.627233</td>\n",
       "      <td>0.393777</td>\n",
       "      <td>-0.233456</td>\n",
       "      <td>0</td>\n",
       "      <td>1</td>\n",
       "      <td>1</td>\n",
       "    </tr>\n",
       "    <tr>\n",
       "      <th>1262</th>\n",
       "      <td>test_1262</td>\n",
       "      <td>0.566985</td>\n",
       "      <td>0.406333</td>\n",
       "      <td>-0.160651</td>\n",
       "      <td>0</td>\n",
       "      <td>1</td>\n",
       "      <td>1</td>\n",
       "    </tr>\n",
       "    <tr>\n",
       "      <th>1350</th>\n",
       "      <td>test_1350</td>\n",
       "      <td>0.605699</td>\n",
       "      <td>0.428861</td>\n",
       "      <td>-0.176838</td>\n",
       "      <td>0</td>\n",
       "      <td>1</td>\n",
       "      <td>1</td>\n",
       "    </tr>\n",
       "    <tr>\n",
       "      <th>1357</th>\n",
       "      <td>test_1357</td>\n",
       "      <td>0.620075</td>\n",
       "      <td>0.438355</td>\n",
       "      <td>-0.181720</td>\n",
       "      <td>0</td>\n",
       "      <td>1</td>\n",
       "      <td>1</td>\n",
       "    </tr>\n",
       "    <tr>\n",
       "      <th>1359</th>\n",
       "      <td>test_1359</td>\n",
       "      <td>0.597830</td>\n",
       "      <td>0.371692</td>\n",
       "      <td>-0.226138</td>\n",
       "      <td>0</td>\n",
       "      <td>1</td>\n",
       "      <td>1</td>\n",
       "    </tr>\n",
       "    <tr>\n",
       "      <th>1414</th>\n",
       "      <td>test_1414</td>\n",
       "      <td>0.615938</td>\n",
       "      <td>0.427052</td>\n",
       "      <td>-0.188886</td>\n",
       "      <td>0</td>\n",
       "      <td>1</td>\n",
       "      <td>1</td>\n",
       "    </tr>\n",
       "    <tr>\n",
       "      <th>1423</th>\n",
       "      <td>test_1423</td>\n",
       "      <td>0.553346</td>\n",
       "      <td>0.410417</td>\n",
       "      <td>-0.142929</td>\n",
       "      <td>0</td>\n",
       "      <td>1</td>\n",
       "      <td>1</td>\n",
       "    </tr>\n",
       "    <tr>\n",
       "      <th>1466</th>\n",
       "      <td>test_1466</td>\n",
       "      <td>0.575697</td>\n",
       "      <td>0.368052</td>\n",
       "      <td>-0.207645</td>\n",
       "      <td>0</td>\n",
       "      <td>1</td>\n",
       "      <td>1</td>\n",
       "    </tr>\n",
       "    <tr>\n",
       "      <th>1529</th>\n",
       "      <td>test_1529</td>\n",
       "      <td>0.518506</td>\n",
       "      <td>0.311695</td>\n",
       "      <td>-0.206812</td>\n",
       "      <td>0</td>\n",
       "      <td>1</td>\n",
       "      <td>1</td>\n",
       "    </tr>\n",
       "    <tr>\n",
       "      <th>1558</th>\n",
       "      <td>test_1558</td>\n",
       "      <td>0.559333</td>\n",
       "      <td>0.389177</td>\n",
       "      <td>-0.170156</td>\n",
       "      <td>0</td>\n",
       "      <td>1</td>\n",
       "      <td>1</td>\n",
       "    </tr>\n",
       "    <tr>\n",
       "      <th>1610</th>\n",
       "      <td>test_1610</td>\n",
       "      <td>0.576696</td>\n",
       "      <td>0.392346</td>\n",
       "      <td>-0.184350</td>\n",
       "      <td>0</td>\n",
       "      <td>1</td>\n",
       "      <td>1</td>\n",
       "    </tr>\n",
       "    <tr>\n",
       "      <th>1803</th>\n",
       "      <td>test_1803</td>\n",
       "      <td>0.521292</td>\n",
       "      <td>0.354237</td>\n",
       "      <td>-0.167055</td>\n",
       "      <td>0</td>\n",
       "      <td>1</td>\n",
       "      <td>1</td>\n",
       "    </tr>\n",
       "    <tr>\n",
       "      <th>1809</th>\n",
       "      <td>test_1809</td>\n",
       "      <td>0.520349</td>\n",
       "      <td>0.350428</td>\n",
       "      <td>-0.169921</td>\n",
       "      <td>0</td>\n",
       "      <td>1</td>\n",
       "      <td>1</td>\n",
       "    </tr>\n",
       "    <tr>\n",
       "      <th>1820</th>\n",
       "      <td>test_1820</td>\n",
       "      <td>0.634199</td>\n",
       "      <td>0.441871</td>\n",
       "      <td>-0.192328</td>\n",
       "      <td>0</td>\n",
       "      <td>1</td>\n",
       "      <td>1</td>\n",
       "    </tr>\n",
       "    <tr>\n",
       "      <th>1855</th>\n",
       "      <td>test_1855</td>\n",
       "      <td>0.549260</td>\n",
       "      <td>0.345511</td>\n",
       "      <td>-0.203749</td>\n",
       "      <td>0</td>\n",
       "      <td>1</td>\n",
       "      <td>1</td>\n",
       "    </tr>\n",
       "    <tr>\n",
       "      <th>1866</th>\n",
       "      <td>test_1866</td>\n",
       "      <td>0.506797</td>\n",
       "      <td>0.346072</td>\n",
       "      <td>-0.160725</td>\n",
       "      <td>0</td>\n",
       "      <td>1</td>\n",
       "      <td>1</td>\n",
       "    </tr>\n",
       "    <tr>\n",
       "      <th>1910</th>\n",
       "      <td>test_1910</td>\n",
       "      <td>0.573766</td>\n",
       "      <td>0.406858</td>\n",
       "      <td>-0.166909</td>\n",
       "      <td>0</td>\n",
       "      <td>1</td>\n",
       "      <td>1</td>\n",
       "    </tr>\n",
       "    <tr>\n",
       "      <th>1928</th>\n",
       "      <td>test_1928</td>\n",
       "      <td>0.508475</td>\n",
       "      <td>0.337584</td>\n",
       "      <td>-0.170891</td>\n",
       "      <td>0</td>\n",
       "      <td>1</td>\n",
       "      <td>1</td>\n",
       "    </tr>\n",
       "    <tr>\n",
       "      <th>1948</th>\n",
       "      <td>test_1948</td>\n",
       "      <td>0.536697</td>\n",
       "      <td>0.359854</td>\n",
       "      <td>-0.176843</td>\n",
       "      <td>0</td>\n",
       "      <td>1</td>\n",
       "      <td>1</td>\n",
       "    </tr>\n",
       "    <tr>\n",
       "      <th>1960</th>\n",
       "      <td>test_1960</td>\n",
       "      <td>0.532833</td>\n",
       "      <td>0.378604</td>\n",
       "      <td>-0.154229</td>\n",
       "      <td>0</td>\n",
       "      <td>1</td>\n",
       "      <td>1</td>\n",
       "    </tr>\n",
       "    <tr>\n",
       "      <th>1969</th>\n",
       "      <td>test_1969</td>\n",
       "      <td>0.611854</td>\n",
       "      <td>0.423651</td>\n",
       "      <td>-0.188204</td>\n",
       "      <td>0</td>\n",
       "      <td>1</td>\n",
       "      <td>1</td>\n",
       "    </tr>\n",
       "    <tr>\n",
       "      <th>2027</th>\n",
       "      <td>test_2027</td>\n",
       "      <td>0.523414</td>\n",
       "      <td>0.374911</td>\n",
       "      <td>-0.148503</td>\n",
       "      <td>0</td>\n",
       "      <td>1</td>\n",
       "      <td>1</td>\n",
       "    </tr>\n",
       "    <tr>\n",
       "      <th>2041</th>\n",
       "      <td>test_2041</td>\n",
       "      <td>0.619468</td>\n",
       "      <td>0.455878</td>\n",
       "      <td>-0.163589</td>\n",
       "      <td>0</td>\n",
       "      <td>1</td>\n",
       "      <td>1</td>\n",
       "    </tr>\n",
       "    <tr>\n",
       "      <th>2080</th>\n",
       "      <td>test_2080</td>\n",
       "      <td>0.538977</td>\n",
       "      <td>0.391416</td>\n",
       "      <td>-0.147561</td>\n",
       "      <td>0</td>\n",
       "      <td>1</td>\n",
       "      <td>1</td>\n",
       "    </tr>\n",
       "    <tr>\n",
       "      <th>2086</th>\n",
       "      <td>test_2086</td>\n",
       "      <td>0.618932</td>\n",
       "      <td>0.408974</td>\n",
       "      <td>-0.209958</td>\n",
       "      <td>0</td>\n",
       "      <td>1</td>\n",
       "      <td>1</td>\n",
       "    </tr>\n",
       "    <tr>\n",
       "      <th>2091</th>\n",
       "      <td>test_2091</td>\n",
       "      <td>0.524752</td>\n",
       "      <td>0.370011</td>\n",
       "      <td>-0.154741</td>\n",
       "      <td>0</td>\n",
       "      <td>1</td>\n",
       "      <td>1</td>\n",
       "    </tr>\n",
       "    <tr>\n",
       "      <th>2126</th>\n",
       "      <td>test_2126</td>\n",
       "      <td>0.602858</td>\n",
       "      <td>0.380912</td>\n",
       "      <td>-0.221946</td>\n",
       "      <td>0</td>\n",
       "      <td>1</td>\n",
       "      <td>1</td>\n",
       "    </tr>\n",
       "    <tr>\n",
       "      <th>2138</th>\n",
       "      <td>test_2138</td>\n",
       "      <td>0.655980</td>\n",
       "      <td>0.496198</td>\n",
       "      <td>-0.159781</td>\n",
       "      <td>0</td>\n",
       "      <td>1</td>\n",
       "      <td>1</td>\n",
       "    </tr>\n",
       "    <tr>\n",
       "      <th>2156</th>\n",
       "      <td>test_2156</td>\n",
       "      <td>0.615979</td>\n",
       "      <td>0.440095</td>\n",
       "      <td>-0.175884</td>\n",
       "      <td>0</td>\n",
       "      <td>1</td>\n",
       "      <td>1</td>\n",
       "    </tr>\n",
       "    <tr>\n",
       "      <th>2161</th>\n",
       "      <td>test_2161</td>\n",
       "      <td>0.518041</td>\n",
       "      <td>0.329550</td>\n",
       "      <td>-0.188492</td>\n",
       "      <td>0</td>\n",
       "      <td>1</td>\n",
       "      <td>1</td>\n",
       "    </tr>\n",
       "    <tr>\n",
       "      <th>2214</th>\n",
       "      <td>test_2214</td>\n",
       "      <td>0.590548</td>\n",
       "      <td>0.413046</td>\n",
       "      <td>-0.177502</td>\n",
       "      <td>0</td>\n",
       "      <td>1</td>\n",
       "      <td>1</td>\n",
       "    </tr>\n",
       "    <tr>\n",
       "      <th>2221</th>\n",
       "      <td>test_2221</td>\n",
       "      <td>0.668308</td>\n",
       "      <td>0.494644</td>\n",
       "      <td>-0.173664</td>\n",
       "      <td>0</td>\n",
       "      <td>1</td>\n",
       "      <td>1</td>\n",
       "    </tr>\n",
       "    <tr>\n",
       "      <th>2223</th>\n",
       "      <td>test_2223</td>\n",
       "      <td>0.606863</td>\n",
       "      <td>0.376444</td>\n",
       "      <td>-0.230419</td>\n",
       "      <td>0</td>\n",
       "      <td>1</td>\n",
       "      <td>1</td>\n",
       "    </tr>\n",
       "    <tr>\n",
       "      <th>2379</th>\n",
       "      <td>test_2379</td>\n",
       "      <td>0.649151</td>\n",
       "      <td>0.480421</td>\n",
       "      <td>-0.168730</td>\n",
       "      <td>0</td>\n",
       "      <td>1</td>\n",
       "      <td>1</td>\n",
       "    </tr>\n",
       "    <tr>\n",
       "      <th>2381</th>\n",
       "      <td>test_2381</td>\n",
       "      <td>0.507800</td>\n",
       "      <td>0.349488</td>\n",
       "      <td>-0.158313</td>\n",
       "      <td>0</td>\n",
       "      <td>1</td>\n",
       "      <td>1</td>\n",
       "    </tr>\n",
       "    <tr>\n",
       "      <th>2406</th>\n",
       "      <td>test_2406</td>\n",
       "      <td>0.662925</td>\n",
       "      <td>0.463599</td>\n",
       "      <td>-0.199326</td>\n",
       "      <td>0</td>\n",
       "      <td>1</td>\n",
       "      <td>1</td>\n",
       "    </tr>\n",
       "    <tr>\n",
       "      <th>2410</th>\n",
       "      <td>test_2410</td>\n",
       "      <td>0.524483</td>\n",
       "      <td>0.367790</td>\n",
       "      <td>-0.156693</td>\n",
       "      <td>0</td>\n",
       "      <td>1</td>\n",
       "      <td>1</td>\n",
       "    </tr>\n",
       "    <tr>\n",
       "      <th>2472</th>\n",
       "      <td>test_2472</td>\n",
       "      <td>0.512864</td>\n",
       "      <td>0.373253</td>\n",
       "      <td>-0.139611</td>\n",
       "      <td>0</td>\n",
       "      <td>1</td>\n",
       "      <td>1</td>\n",
       "    </tr>\n",
       "    <tr>\n",
       "      <th>2484</th>\n",
       "      <td>test_2484</td>\n",
       "      <td>0.529456</td>\n",
       "      <td>0.356444</td>\n",
       "      <td>-0.173011</td>\n",
       "      <td>0</td>\n",
       "      <td>1</td>\n",
       "      <td>1</td>\n",
       "    </tr>\n",
       "    <tr>\n",
       "      <th>2530</th>\n",
       "      <td>test_2530</td>\n",
       "      <td>0.532807</td>\n",
       "      <td>0.332251</td>\n",
       "      <td>-0.200556</td>\n",
       "      <td>0</td>\n",
       "      <td>1</td>\n",
       "      <td>1</td>\n",
       "    </tr>\n",
       "    <tr>\n",
       "      <th>2618</th>\n",
       "      <td>test_2618</td>\n",
       "      <td>0.511034</td>\n",
       "      <td>0.309736</td>\n",
       "      <td>-0.201298</td>\n",
       "      <td>0</td>\n",
       "      <td>1</td>\n",
       "      <td>1</td>\n",
       "    </tr>\n",
       "    <tr>\n",
       "      <th>2653</th>\n",
       "      <td>test_2653</td>\n",
       "      <td>0.518945</td>\n",
       "      <td>0.359753</td>\n",
       "      <td>-0.159192</td>\n",
       "      <td>0</td>\n",
       "      <td>1</td>\n",
       "      <td>1</td>\n",
       "    </tr>\n",
       "    <tr>\n",
       "      <th>2669</th>\n",
       "      <td>test_2669</td>\n",
       "      <td>0.509120</td>\n",
       "      <td>0.311017</td>\n",
       "      <td>-0.198103</td>\n",
       "      <td>0</td>\n",
       "      <td>1</td>\n",
       "      <td>1</td>\n",
       "    </tr>\n",
       "    <tr>\n",
       "      <th>2670</th>\n",
       "      <td>test_2670</td>\n",
       "      <td>0.665091</td>\n",
       "      <td>0.459162</td>\n",
       "      <td>-0.205929</td>\n",
       "      <td>0</td>\n",
       "      <td>1</td>\n",
       "      <td>1</td>\n",
       "    </tr>\n",
       "    <tr>\n",
       "      <th>2672</th>\n",
       "      <td>test_2672</td>\n",
       "      <td>0.608648</td>\n",
       "      <td>0.421379</td>\n",
       "      <td>-0.187269</td>\n",
       "      <td>0</td>\n",
       "      <td>1</td>\n",
       "      <td>1</td>\n",
       "    </tr>\n",
       "    <tr>\n",
       "      <th>2684</th>\n",
       "      <td>test_2684</td>\n",
       "      <td>0.629477</td>\n",
       "      <td>0.449520</td>\n",
       "      <td>-0.179957</td>\n",
       "      <td>0</td>\n",
       "      <td>1</td>\n",
       "      <td>1</td>\n",
       "    </tr>\n",
       "    <tr>\n",
       "      <th>2732</th>\n",
       "      <td>test_2732</td>\n",
       "      <td>0.534183</td>\n",
       "      <td>0.400808</td>\n",
       "      <td>-0.133375</td>\n",
       "      <td>0</td>\n",
       "      <td>1</td>\n",
       "      <td>1</td>\n",
       "    </tr>\n",
       "    <tr>\n",
       "      <th>2770</th>\n",
       "      <td>test_2770</td>\n",
       "      <td>0.692229</td>\n",
       "      <td>0.487627</td>\n",
       "      <td>-0.204602</td>\n",
       "      <td>0</td>\n",
       "      <td>1</td>\n",
       "      <td>1</td>\n",
       "    </tr>\n",
       "    <tr>\n",
       "      <th>2813</th>\n",
       "      <td>test_2813</td>\n",
       "      <td>0.631906</td>\n",
       "      <td>0.462200</td>\n",
       "      <td>-0.169706</td>\n",
       "      <td>0</td>\n",
       "      <td>1</td>\n",
       "      <td>1</td>\n",
       "    </tr>\n",
       "    <tr>\n",
       "      <th>2838</th>\n",
       "      <td>test_2838</td>\n",
       "      <td>0.531303</td>\n",
       "      <td>0.346439</td>\n",
       "      <td>-0.184864</td>\n",
       "      <td>0</td>\n",
       "      <td>1</td>\n",
       "      <td>1</td>\n",
       "    </tr>\n",
       "    <tr>\n",
       "      <th>2843</th>\n",
       "      <td>test_2843</td>\n",
       "      <td>0.555059</td>\n",
       "      <td>0.350269</td>\n",
       "      <td>-0.204789</td>\n",
       "      <td>0</td>\n",
       "      <td>1</td>\n",
       "      <td>1</td>\n",
       "    </tr>\n",
       "    <tr>\n",
       "      <th>2884</th>\n",
       "      <td>test_2884</td>\n",
       "      <td>0.553055</td>\n",
       "      <td>0.403034</td>\n",
       "      <td>-0.150021</td>\n",
       "      <td>0</td>\n",
       "      <td>1</td>\n",
       "      <td>1</td>\n",
       "    </tr>\n",
       "    <tr>\n",
       "      <th>2920</th>\n",
       "      <td>test_2920</td>\n",
       "      <td>0.657287</td>\n",
       "      <td>0.480335</td>\n",
       "      <td>-0.176952</td>\n",
       "      <td>0</td>\n",
       "      <td>1</td>\n",
       "      <td>1</td>\n",
       "    </tr>\n",
       "    <tr>\n",
       "      <th>2944</th>\n",
       "      <td>test_2944</td>\n",
       "      <td>0.515453</td>\n",
       "      <td>0.351231</td>\n",
       "      <td>-0.164222</td>\n",
       "      <td>0</td>\n",
       "      <td>1</td>\n",
       "      <td>1</td>\n",
       "    </tr>\n",
       "    <tr>\n",
       "      <th>2966</th>\n",
       "      <td>test_2966</td>\n",
       "      <td>0.564374</td>\n",
       "      <td>0.352207</td>\n",
       "      <td>-0.212167</td>\n",
       "      <td>0</td>\n",
       "      <td>1</td>\n",
       "      <td>1</td>\n",
       "    </tr>\n",
       "    <tr>\n",
       "      <th>2991</th>\n",
       "      <td>test_2991</td>\n",
       "      <td>0.655386</td>\n",
       "      <td>0.457756</td>\n",
       "      <td>-0.197630</td>\n",
       "      <td>0</td>\n",
       "      <td>1</td>\n",
       "      <td>1</td>\n",
       "    </tr>\n",
       "    <tr>\n",
       "      <th>3003</th>\n",
       "      <td>test_3003</td>\n",
       "      <td>0.619156</td>\n",
       "      <td>0.423975</td>\n",
       "      <td>-0.195181</td>\n",
       "      <td>0</td>\n",
       "      <td>1</td>\n",
       "      <td>1</td>\n",
       "    </tr>\n",
       "    <tr>\n",
       "      <th>3014</th>\n",
       "      <td>test_3014</td>\n",
       "      <td>0.509331</td>\n",
       "      <td>0.360147</td>\n",
       "      <td>-0.149184</td>\n",
       "      <td>0</td>\n",
       "      <td>1</td>\n",
       "      <td>1</td>\n",
       "    </tr>\n",
       "    <tr>\n",
       "      <th>3088</th>\n",
       "      <td>test_3088</td>\n",
       "      <td>0.558413</td>\n",
       "      <td>0.413568</td>\n",
       "      <td>-0.144845</td>\n",
       "      <td>0</td>\n",
       "      <td>1</td>\n",
       "      <td>1</td>\n",
       "    </tr>\n",
       "    <tr>\n",
       "      <th>3089</th>\n",
       "      <td>test_3089</td>\n",
       "      <td>0.568943</td>\n",
       "      <td>0.402778</td>\n",
       "      <td>-0.166165</td>\n",
       "      <td>0</td>\n",
       "      <td>1</td>\n",
       "      <td>1</td>\n",
       "    </tr>\n",
       "    <tr>\n",
       "      <th>3094</th>\n",
       "      <td>test_3094</td>\n",
       "      <td>0.568986</td>\n",
       "      <td>0.412332</td>\n",
       "      <td>-0.156654</td>\n",
       "      <td>0</td>\n",
       "      <td>1</td>\n",
       "      <td>1</td>\n",
       "    </tr>\n",
       "    <tr>\n",
       "      <th>3108</th>\n",
       "      <td>test_3108</td>\n",
       "      <td>0.579547</td>\n",
       "      <td>0.409466</td>\n",
       "      <td>-0.170082</td>\n",
       "      <td>0</td>\n",
       "      <td>1</td>\n",
       "      <td>1</td>\n",
       "    </tr>\n",
       "    <tr>\n",
       "      <th>3116</th>\n",
       "      <td>test_3116</td>\n",
       "      <td>0.626263</td>\n",
       "      <td>0.464450</td>\n",
       "      <td>-0.161814</td>\n",
       "      <td>0</td>\n",
       "      <td>1</td>\n",
       "      <td>1</td>\n",
       "    </tr>\n",
       "    <tr>\n",
       "      <th>3131</th>\n",
       "      <td>test_3131</td>\n",
       "      <td>0.590325</td>\n",
       "      <td>0.437358</td>\n",
       "      <td>-0.152967</td>\n",
       "      <td>0</td>\n",
       "      <td>1</td>\n",
       "      <td>1</td>\n",
       "    </tr>\n",
       "    <tr>\n",
       "      <th>3210</th>\n",
       "      <td>test_3210</td>\n",
       "      <td>0.518634</td>\n",
       "      <td>0.367685</td>\n",
       "      <td>-0.150949</td>\n",
       "      <td>0</td>\n",
       "      <td>1</td>\n",
       "      <td>1</td>\n",
       "    </tr>\n",
       "    <tr>\n",
       "      <th>3219</th>\n",
       "      <td>test_3219</td>\n",
       "      <td>0.501202</td>\n",
       "      <td>0.357582</td>\n",
       "      <td>-0.143620</td>\n",
       "      <td>0</td>\n",
       "      <td>1</td>\n",
       "      <td>1</td>\n",
       "    </tr>\n",
       "  </tbody>\n",
       "</table>\n",
       "</div>"
      ],
      "text/plain": [
       "        ID_code    target   target1      diff  tg1  tg2  tg\n",
       "20      test_20  0.504109  0.312896 -0.191214    0    1   1\n",
       "32      test_32  0.679486  0.460856 -0.218629    0    1   1\n",
       "138    test_138  0.520818  0.357390 -0.163428    0    1   1\n",
       "161    test_161  0.542096  0.345987 -0.196109    0    1   1\n",
       "297    test_297  0.563460  0.384543 -0.178918    0    1   1\n",
       "323    test_323  0.547200  0.378211 -0.168989    0    1   1\n",
       "355    test_355  0.660541  0.484281 -0.176259    0    1   1\n",
       "361    test_361  0.595429  0.375240 -0.220189    0    1   1\n",
       "375    test_375  0.535741  0.377560 -0.158181    0    1   1\n",
       "404    test_404  0.599366  0.391805 -0.207561    0    1   1\n",
       "413    test_413  0.627964  0.445332 -0.182632    0    1   1\n",
       "416    test_416  0.675417  0.476351 -0.199066    0    1   1\n",
       "564    test_564  0.584287  0.445961 -0.138326    0    1   1\n",
       "602    test_602  0.504886  0.362286 -0.142600    0    1   1\n",
       "610    test_610  0.534033  0.386417 -0.147616    0    1   1\n",
       "716    test_716  0.535349  0.356921 -0.178427    0    1   1\n",
       "760    test_760  0.642835  0.443134 -0.199701    0    1   1\n",
       "798    test_798  0.572845  0.370420 -0.202425    0    1   1\n",
       "835    test_835  0.533603  0.331356 -0.202246    0    1   1\n",
       "836    test_836  0.673963  0.443636 -0.230327    0    1   1\n",
       "846    test_846  0.517003  0.330976 -0.186027    0    1   1\n",
       "851    test_851  0.574661  0.447997 -0.126664    0    1   1\n",
       "864    test_864  0.679021  0.492403 -0.186618    0    1   1\n",
       "870    test_870  0.501760  0.330099 -0.171661    0    1   1\n",
       "891    test_891  0.575698  0.382584 -0.193114    0    1   1\n",
       "935    test_935  0.525233  0.378336 -0.146897    0    1   1\n",
       "946    test_946  0.595462  0.440518 -0.154944    0    1   1\n",
       "986    test_986  0.526323  0.385864 -0.140459    0    1   1\n",
       "1060  test_1060  0.557826  0.408715 -0.149111    0    1   1\n",
       "1084  test_1084  0.522575  0.325187 -0.197388    0    1   1\n",
       "1095  test_1095  0.587600  0.394682 -0.192918    0    1   1\n",
       "1103  test_1103  0.528499  0.350090 -0.178409    0    1   1\n",
       "1186  test_1186  0.506946  0.311941 -0.195005    0    1   1\n",
       "1223  test_1223  0.534733  0.341907 -0.192826    0    1   1\n",
       "1256  test_1256  0.627233  0.393777 -0.233456    0    1   1\n",
       "1262  test_1262  0.566985  0.406333 -0.160651    0    1   1\n",
       "1350  test_1350  0.605699  0.428861 -0.176838    0    1   1\n",
       "1357  test_1357  0.620075  0.438355 -0.181720    0    1   1\n",
       "1359  test_1359  0.597830  0.371692 -0.226138    0    1   1\n",
       "1414  test_1414  0.615938  0.427052 -0.188886    0    1   1\n",
       "1423  test_1423  0.553346  0.410417 -0.142929    0    1   1\n",
       "1466  test_1466  0.575697  0.368052 -0.207645    0    1   1\n",
       "1529  test_1529  0.518506  0.311695 -0.206812    0    1   1\n",
       "1558  test_1558  0.559333  0.389177 -0.170156    0    1   1\n",
       "1610  test_1610  0.576696  0.392346 -0.184350    0    1   1\n",
       "1803  test_1803  0.521292  0.354237 -0.167055    0    1   1\n",
       "1809  test_1809  0.520349  0.350428 -0.169921    0    1   1\n",
       "1820  test_1820  0.634199  0.441871 -0.192328    0    1   1\n",
       "1855  test_1855  0.549260  0.345511 -0.203749    0    1   1\n",
       "1866  test_1866  0.506797  0.346072 -0.160725    0    1   1\n",
       "1910  test_1910  0.573766  0.406858 -0.166909    0    1   1\n",
       "1928  test_1928  0.508475  0.337584 -0.170891    0    1   1\n",
       "1948  test_1948  0.536697  0.359854 -0.176843    0    1   1\n",
       "1960  test_1960  0.532833  0.378604 -0.154229    0    1   1\n",
       "1969  test_1969  0.611854  0.423651 -0.188204    0    1   1\n",
       "2027  test_2027  0.523414  0.374911 -0.148503    0    1   1\n",
       "2041  test_2041  0.619468  0.455878 -0.163589    0    1   1\n",
       "2080  test_2080  0.538977  0.391416 -0.147561    0    1   1\n",
       "2086  test_2086  0.618932  0.408974 -0.209958    0    1   1\n",
       "2091  test_2091  0.524752  0.370011 -0.154741    0    1   1\n",
       "2126  test_2126  0.602858  0.380912 -0.221946    0    1   1\n",
       "2138  test_2138  0.655980  0.496198 -0.159781    0    1   1\n",
       "2156  test_2156  0.615979  0.440095 -0.175884    0    1   1\n",
       "2161  test_2161  0.518041  0.329550 -0.188492    0    1   1\n",
       "2214  test_2214  0.590548  0.413046 -0.177502    0    1   1\n",
       "2221  test_2221  0.668308  0.494644 -0.173664    0    1   1\n",
       "2223  test_2223  0.606863  0.376444 -0.230419    0    1   1\n",
       "2379  test_2379  0.649151  0.480421 -0.168730    0    1   1\n",
       "2381  test_2381  0.507800  0.349488 -0.158313    0    1   1\n",
       "2406  test_2406  0.662925  0.463599 -0.199326    0    1   1\n",
       "2410  test_2410  0.524483  0.367790 -0.156693    0    1   1\n",
       "2472  test_2472  0.512864  0.373253 -0.139611    0    1   1\n",
       "2484  test_2484  0.529456  0.356444 -0.173011    0    1   1\n",
       "2530  test_2530  0.532807  0.332251 -0.200556    0    1   1\n",
       "2618  test_2618  0.511034  0.309736 -0.201298    0    1   1\n",
       "2653  test_2653  0.518945  0.359753 -0.159192    0    1   1\n",
       "2669  test_2669  0.509120  0.311017 -0.198103    0    1   1\n",
       "2670  test_2670  0.665091  0.459162 -0.205929    0    1   1\n",
       "2672  test_2672  0.608648  0.421379 -0.187269    0    1   1\n",
       "2684  test_2684  0.629477  0.449520 -0.179957    0    1   1\n",
       "2732  test_2732  0.534183  0.400808 -0.133375    0    1   1\n",
       "2770  test_2770  0.692229  0.487627 -0.204602    0    1   1\n",
       "2813  test_2813  0.631906  0.462200 -0.169706    0    1   1\n",
       "2838  test_2838  0.531303  0.346439 -0.184864    0    1   1\n",
       "2843  test_2843  0.555059  0.350269 -0.204789    0    1   1\n",
       "2884  test_2884  0.553055  0.403034 -0.150021    0    1   1\n",
       "2920  test_2920  0.657287  0.480335 -0.176952    0    1   1\n",
       "2944  test_2944  0.515453  0.351231 -0.164222    0    1   1\n",
       "2966  test_2966  0.564374  0.352207 -0.212167    0    1   1\n",
       "2991  test_2991  0.655386  0.457756 -0.197630    0    1   1\n",
       "3003  test_3003  0.619156  0.423975 -0.195181    0    1   1\n",
       "3014  test_3014  0.509331  0.360147 -0.149184    0    1   1\n",
       "3088  test_3088  0.558413  0.413568 -0.144845    0    1   1\n",
       "3089  test_3089  0.568943  0.402778 -0.166165    0    1   1\n",
       "3094  test_3094  0.568986  0.412332 -0.156654    0    1   1\n",
       "3108  test_3108  0.579547  0.409466 -0.170082    0    1   1\n",
       "3116  test_3116  0.626263  0.464450 -0.161814    0    1   1\n",
       "3131  test_3131  0.590325  0.437358 -0.152967    0    1   1\n",
       "3210  test_3210  0.518634  0.367685 -0.150949    0    1   1\n",
       "3219  test_3219  0.501202  0.357582 -0.143620    0    1   1"
      ]
     },
     "execution_count": 23,
     "metadata": {},
     "output_type": "execute_result"
    }
   ],
   "source": [
    "submission2[submission2['tg']==1].head(100)"
   ]
  },
  {
   "cell_type": "code",
   "execution_count": null,
   "metadata": {},
   "outputs": [],
   "source": []
  }
 ],
 "metadata": {
  "kernelspec": {
   "display_name": "Python 3",
   "language": "python",
   "name": "python3"
  },
  "language_info": {
   "codemirror_mode": {
    "name": "ipython",
    "version": 3
   },
   "file_extension": ".py",
   "mimetype": "text/x-python",
   "name": "python",
   "nbconvert_exporter": "python",
   "pygments_lexer": "ipython3",
   "version": "3.7.1"
  }
 },
 "nbformat": 4,
 "nbformat_minor": 2
}
